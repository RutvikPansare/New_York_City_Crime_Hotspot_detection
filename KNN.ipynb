{
 "cells": [
  {
   "cell_type": "markdown",
   "id": "00c0578a",
   "metadata": {},
   "source": [
    "# Authors: \n",
    "         Rutvik Pansare       \n",
    "         Praksha maheshwari\n",
    "         Vishal Phaugat"
   ]
  },
  {
   "cell_type": "code",
   "execution_count": null,
   "id": "b4681a14",
   "metadata": {},
   "outputs": [],
   "source": [
    "# import pandas as pd\n",
    "import numpy as np\n",
    "import matplotlib.pyplot as plt\n",
    "import mysql.connector\n",
    "\n",
    "# connection with database\n",
    "mydb = mysql.connector.connect(\n",
    "  host=\"localhost\",\n",
    "  user=\"root\",\n",
    "  password=\"rutu12345\",\n",
    "  database=\"project\"\n",
    ")\n",
    "# Query to extract data from the database\n",
    "query = \"SELECT * FROM project.crime_data;\"\n",
    "df = pd.read_sql(query,mydb)\n",
    "\n",
    "mydb.close() #close the connection\n",
    "\n",
    "\n",
    "df.head()\n",
    "\n",
    "# convert date string to datetime format\n",
    "from datetime import datetime\n",
    "year_query = df.copy()\n",
    "dates =[]\n",
    "year_query['CMPLNT_FR_DT'] = pd.to_datetime(year_query['CMPLNT_FR_DT'])\n",
    "year_query['YEAR'] = pd. DatetimeIndex(year_query['CMPLNT_FR_DT']).year"
   ]
  },
  {
   "cell_type": "code",
   "execution_count": 4,
   "id": "e02db9e6",
   "metadata": {},
   "outputs": [],
   "source": [
    "clean = pd.read_csv(\"clean.csv\")"
   ]
  },
  {
   "cell_type": "code",
   "execution_count": 9,
   "id": "c5ee891a",
   "metadata": {},
   "outputs": [],
   "source": [
    "from sklearn.preprocessing import LabelEncoder\n",
    "le = LabelEncoder()\n",
    "dfle = clean\n",
    "dfle.SUSP_AGE_GROUP = le.fit_transform(dfle.SUSP_AGE_GROUP)\n",
    "dfle\n",
    "\n",
    "dfle.head()\n",
    "df = dfle[:200000] \n",
    "\n",
    "from sklearn.preprocessing import StandardScaler\n",
    "scaler = StandardScaler()\n",
    "scaler.fit(df.drop('SUSP_AGE_GROUP',axis=1))\n",
    "\n",
    "scaled_features = scaler.transform(df.drop('SUSP_AGE_GROUP',axis=1))\n",
    "# splitting the data into test data and training data.\n",
    "from sklearn.model_selection import train_test_split\n",
    "X_train, X_test, y_train, y_test = train_test_split(scaled_features,df['SUSP_AGE_GROUP'],test_size=0.30)\n",
    "\n",
    "#building the K-nearest neighbor model.\n",
    "from sklearn.neighbors import KNeighborsClassifier\n",
    "knn = KNeighborsClassifier(n_neighbors=1)\n",
    "knn.fit(X_train,y_train)\n",
    "pred = knn.predict(X_test)"
   ]
  },
  {
   "cell_type": "code",
   "execution_count": 10,
   "id": "3f81a913",
   "metadata": {},
   "outputs": [
    {
     "name": "stdout",
     "output_type": "stream",
     "text": [
      "[[ 2824  6432  2083   166   753]\n",
      " [ 6587 16993  6027   535  1634]\n",
      " [ 2130  5940  2494   244   624]\n",
      " [  133   514   219    15    43]\n",
      " [  791  1648   584    34   553]]\n"
     ]
    }
   ],
   "source": [
    "from sklearn.metrics import classification_report,confusion_matrix\n",
    "#Printing the confusion matrix\n",
    "print(confusion_matrix(y_test,pred))\n",
    "print\n"
   ]
  },
  {
   "cell_type": "code",
   "execution_count": 11,
   "id": "2a9026e6",
   "metadata": {},
   "outputs": [
    {
     "name": "stdout",
     "output_type": "stream",
     "text": [
      "              precision    recall  f1-score   support\n",
      "\n",
      "           0       0.23      0.23      0.23     12258\n",
      "           1       0.54      0.53      0.54     31776\n",
      "           2       0.22      0.22      0.22     11432\n",
      "           3       0.02      0.02      0.02       924\n",
      "           4       0.15      0.15      0.15      3610\n",
      "\n",
      "    accuracy                           0.38     60000\n",
      "   macro avg       0.23      0.23      0.23     60000\n",
      "weighted avg       0.38      0.38      0.38     60000\n",
      "\n"
     ]
    }
   ],
   "source": [
    "print(classification_report(y_test,pred))"
   ]
  },
  {
   "cell_type": "code",
   "execution_count": null,
   "id": "0620a326",
   "metadata": {},
   "outputs": [],
   "source": []
  }
 ],
 "metadata": {
  "kernelspec": {
   "display_name": "Python 3",
   "language": "python",
   "name": "python3"
  },
  "language_info": {
   "codemirror_mode": {
    "name": "ipython",
    "version": 3
   },
   "file_extension": ".py",
   "mimetype": "text/x-python",
   "name": "python",
   "nbconvert_exporter": "python",
   "pygments_lexer": "ipython3",
   "version": "3.8.8"
  }
 },
 "nbformat": 4,
 "nbformat_minor": 5
}
