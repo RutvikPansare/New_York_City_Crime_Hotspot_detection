{
 "cells": [
  {
   "cell_type": "markdown",
   "id": "a13434e9",
   "metadata": {},
   "source": [
    "# Authors: \n",
    "         Rutvik Pansare       \n",
    "         Praksha maheshwari\n",
    "         Vishal Phaugat"
   ]
  },
  {
   "cell_type": "code",
   "execution_count": 1,
   "id": "b245ae74",
   "metadata": {},
   "outputs": [],
   "source": [
    "import pandas as pd\n",
    "import numpy as np\n",
    "import matplotlib.pyplot as plt\n",
    "import mysql.connector\n",
    "\n",
    "# connection with database\n",
    "mydb = mysql.connector.connect(\n",
    "  host=\"localhost\",\n",
    "  user=\"root\",\n",
    "  password=\"rutu12345\",\n",
    "  database=\"project\"\n",
    ")\n",
    "# Query to extract data from the database\n",
    "query = \"SELECT * FROM project.crime_data;\"\n",
    "df = pd.read_sql(query,mydb)\n",
    "\n",
    "mydb.close() #close the connection\n",
    "\n",
    "\n",
    "df.head()\n",
    "\n",
    "# convert date string to datetime format\n",
    "from datetime import datetime\n",
    "year_query = df.copy()\n",
    "dates =[]\n",
    "year_query['CMPLNT_FR_DT'] = pd.to_datetime(year_query['CMPLNT_FR_DT'])\n",
    "year_query['YEAR'] = pd. DatetimeIndex(year_query['CMPLNT_FR_DT']).year"
   ]
  },
  {
   "cell_type": "code",
   "execution_count": 3,
   "id": "03cd8544",
   "metadata": {},
   "outputs": [],
   "source": [
    "clean  = pd.read_csv(\"clean.csv\")"
   ]
  },
  {
   "cell_type": "code",
   "execution_count": 19,
   "id": "5eced935",
   "metadata": {},
   "outputs": [],
   "source": [
    "clean['date'] =  year_query['CMPLNT_FR_DT']\n",
    "clean['BORO_NM'] =  year_query['BORO_NM']\n",
    "clean['CMPLNT_NUM'] =  year_query['CMPLNT_NUM']"
   ]
  },
  {
   "cell_type": "code",
   "execution_count": 20,
   "id": "540c1caf",
   "metadata": {},
   "outputs": [],
   "source": [
    "linear = clean.copy()"
   ]
  },
  {
   "cell_type": "code",
   "execution_count": 21,
   "id": "0699616f",
   "metadata": {},
   "outputs": [
    {
     "data": {
      "text/html": [
       "<div>\n",
       "<style scoped>\n",
       "    .dataframe tbody tr th:only-of-type {\n",
       "        vertical-align: middle;\n",
       "    }\n",
       "\n",
       "    .dataframe tbody tr th {\n",
       "        vertical-align: top;\n",
       "    }\n",
       "\n",
       "    .dataframe thead th {\n",
       "        text-align: right;\n",
       "    }\n",
       "</style>\n",
       "<table border=\"1\" class=\"dataframe\">\n",
       "  <thead>\n",
       "    <tr style=\"text-align: right;\">\n",
       "      <th></th>\n",
       "      <th>Unnamed: 0</th>\n",
       "      <th>CMPLNT_FR_DT</th>\n",
       "      <th>CMPLNT_FR_TM</th>\n",
       "      <th>SUSP_AGE_GROUP</th>\n",
       "      <th>Latitude</th>\n",
       "      <th>Longitude</th>\n",
       "      <th>YEAR</th>\n",
       "      <th>SUS_F</th>\n",
       "      <th>SUS_M</th>\n",
       "      <th>ASIAN / PACIFIC ISLANDER</th>\n",
       "      <th>...</th>\n",
       "      <th>BROOKLYN</th>\n",
       "      <th>MANHATTAN</th>\n",
       "      <th>QUEENS</th>\n",
       "      <th>STATEN ISLAND</th>\n",
       "      <th>FELONY</th>\n",
       "      <th>MISDEMEANOR</th>\n",
       "      <th>VIOLATION</th>\n",
       "      <th>date</th>\n",
       "      <th>BORO_NM</th>\n",
       "      <th>CMPLNT_NUM</th>\n",
       "    </tr>\n",
       "  </thead>\n",
       "  <tbody>\n",
       "    <tr>\n",
       "      <th>0</th>\n",
       "      <td>0</td>\n",
       "      <td>2</td>\n",
       "      <td>18</td>\n",
       "      <td>0</td>\n",
       "      <td>40.576238</td>\n",
       "      <td>-73.959504</td>\n",
       "      <td>2012</td>\n",
       "      <td>0</td>\n",
       "      <td>1</td>\n",
       "      <td>0</td>\n",
       "      <td>...</td>\n",
       "      <td>1</td>\n",
       "      <td>0</td>\n",
       "      <td>0</td>\n",
       "      <td>0</td>\n",
       "      <td>0</td>\n",
       "      <td>1</td>\n",
       "      <td>0</td>\n",
       "      <td>2012-02-08</td>\n",
       "      <td>BROOKLYN</td>\n",
       "      <td>100000228</td>\n",
       "    </tr>\n",
       "    <tr>\n",
       "      <th>1</th>\n",
       "      <td>1</td>\n",
       "      <td>1</td>\n",
       "      <td>0</td>\n",
       "      <td>2</td>\n",
       "      <td>40.858249</td>\n",
       "      <td>-73.902349</td>\n",
       "      <td>2016</td>\n",
       "      <td>0</td>\n",
       "      <td>1</td>\n",
       "      <td>0</td>\n",
       "      <td>...</td>\n",
       "      <td>0</td>\n",
       "      <td>0</td>\n",
       "      <td>0</td>\n",
       "      <td>0</td>\n",
       "      <td>0</td>\n",
       "      <td>1</td>\n",
       "      <td>0</td>\n",
       "      <td>2016-01-31</td>\n",
       "      <td>BRONX</td>\n",
       "      <td>100000272</td>\n",
       "    </tr>\n",
       "    <tr>\n",
       "      <th>2</th>\n",
       "      <td>2</td>\n",
       "      <td>1</td>\n",
       "      <td>17</td>\n",
       "      <td>0</td>\n",
       "      <td>40.804013</td>\n",
       "      <td>-73.878332</td>\n",
       "      <td>2010</td>\n",
       "      <td>0</td>\n",
       "      <td>1</td>\n",
       "      <td>0</td>\n",
       "      <td>...</td>\n",
       "      <td>0</td>\n",
       "      <td>0</td>\n",
       "      <td>0</td>\n",
       "      <td>0</td>\n",
       "      <td>0</td>\n",
       "      <td>1</td>\n",
       "      <td>0</td>\n",
       "      <td>2010-01-26</td>\n",
       "      <td>BRONX</td>\n",
       "      <td>100000480</td>\n",
       "    </tr>\n",
       "    <tr>\n",
       "      <th>3</th>\n",
       "      <td>3</td>\n",
       "      <td>11</td>\n",
       "      <td>20</td>\n",
       "      <td>2</td>\n",
       "      <td>40.675311</td>\n",
       "      <td>-73.966614</td>\n",
       "      <td>2017</td>\n",
       "      <td>0</td>\n",
       "      <td>1</td>\n",
       "      <td>0</td>\n",
       "      <td>...</td>\n",
       "      <td>1</td>\n",
       "      <td>0</td>\n",
       "      <td>0</td>\n",
       "      <td>0</td>\n",
       "      <td>0</td>\n",
       "      <td>1</td>\n",
       "      <td>0</td>\n",
       "      <td>2017-11-24</td>\n",
       "      <td>BROOKLYN</td>\n",
       "      <td>100000495</td>\n",
       "    </tr>\n",
       "    <tr>\n",
       "      <th>4</th>\n",
       "      <td>4</td>\n",
       "      <td>7</td>\n",
       "      <td>14</td>\n",
       "      <td>1</td>\n",
       "      <td>40.654621</td>\n",
       "      <td>-73.952894</td>\n",
       "      <td>2015</td>\n",
       "      <td>1</td>\n",
       "      <td>0</td>\n",
       "      <td>1</td>\n",
       "      <td>...</td>\n",
       "      <td>1</td>\n",
       "      <td>0</td>\n",
       "      <td>0</td>\n",
       "      <td>0</td>\n",
       "      <td>0</td>\n",
       "      <td>1</td>\n",
       "      <td>0</td>\n",
       "      <td>2015-07-12</td>\n",
       "      <td>BROOKLYN</td>\n",
       "      <td>100000926</td>\n",
       "    </tr>\n",
       "  </tbody>\n",
       "</table>\n",
       "<p>5 rows × 90 columns</p>\n",
       "</div>"
      ],
      "text/plain": [
       "   Unnamed: 0  CMPLNT_FR_DT  CMPLNT_FR_TM  SUSP_AGE_GROUP   Latitude  \\\n",
       "0           0             2            18               0  40.576238   \n",
       "1           1             1             0               2  40.858249   \n",
       "2           2             1            17               0  40.804013   \n",
       "3           3            11            20               2  40.675311   \n",
       "4           4             7            14               1  40.654621   \n",
       "\n",
       "   Longitude  YEAR  SUS_F  SUS_M  ASIAN / PACIFIC ISLANDER  ...  BROOKLYN  \\\n",
       "0 -73.959504  2012      0      1                         0  ...         1   \n",
       "1 -73.902349  2016      0      1                         0  ...         0   \n",
       "2 -73.878332  2010      0      1                         0  ...         0   \n",
       "3 -73.966614  2017      0      1                         0  ...         1   \n",
       "4 -73.952894  2015      1      0                         1  ...         1   \n",
       "\n",
       "   MANHATTAN  QUEENS  STATEN ISLAND  FELONY  MISDEMEANOR  VIOLATION  \\\n",
       "0          0       0              0       0            1          0   \n",
       "1          0       0              0       0            1          0   \n",
       "2          0       0              0       0            1          0   \n",
       "3          0       0              0       0            1          0   \n",
       "4          0       0              0       0            1          0   \n",
       "\n",
       "        date   BORO_NM  CMPLNT_NUM  \n",
       "0 2012-02-08  BROOKLYN   100000228  \n",
       "1 2016-01-31     BRONX   100000272  \n",
       "2 2010-01-26     BRONX   100000480  \n",
       "3 2017-11-24  BROOKLYN   100000495  \n",
       "4 2015-07-12  BROOKLYN   100000926  \n",
       "\n",
       "[5 rows x 90 columns]"
      ]
     },
     "execution_count": 21,
     "metadata": {},
     "output_type": "execute_result"
    }
   ],
   "source": [
    "linear.head()"
   ]
  },
  {
   "cell_type": "code",
   "execution_count": 22,
   "id": "8308844b",
   "metadata": {},
   "outputs": [],
   "source": [
    "vis1 = linear.groupby([\"date\",'BORO_NM']).sum().reset_index()\n",
    "\n",
    "vis1.drop([\"CMPLNT_FR_TM\",'YEAR','SUSP_AGE_GROUP'],axis = 1,inplace = True)\n",
    "\n",
    "vis2 = linear.groupby([\"date\",'BORO_NM'])['CMPLNT_NUM'].count().reset_index()\n",
    "\n",
    "vis1['Total'] = vis2['CMPLNT_NUM']\n",
    "\n",
    "\n",
    "\n",
    "\n"
   ]
  },
  {
   "cell_type": "code",
   "execution_count": 23,
   "id": "822feff3",
   "metadata": {},
   "outputs": [
    {
     "name": "stderr",
     "output_type": "stream",
     "text": [
      "<ipython-input-23-5882e1d968d0>:5: UserWarning: Pandas doesn't allow columns to be created via a new attribute name - see https://pandas.pydata.org/pandas-docs/stable/indexing.html#attribute-access\n",
      "  dfle.SUSP_AGE_GROUP = le.fit_transform(dfle.BORO_NM)\n"
     ]
    }
   ],
   "source": [
    "# label encoding the target column- In this case, Boroughs are the target columns\n",
    "from sklearn.preprocessing import LabelEncoder\n",
    "le = LabelEncoder()\n",
    "dfle = vis1\n",
    "dfle.SUSP_AGE_GROUP = le.fit_transform(dfle.BORO_NM)\n",
    "dfle\n",
    "\n",
    "for i in ['BRONX','BROOKLYN','MANHATTAN','QUEENS','STATEN ISLAND']:\n",
    "    new_column = []\n",
    "    for j in dfle[i]:\n",
    "        if j == 0.0:\n",
    "            new_column.append(0)\n",
    "        else:\n",
    "            new_column.append(1)\n",
    "    dfle[i]=new_column"
   ]
  },
  {
   "cell_type": "code",
   "execution_count": 24,
   "id": "8cd95a96",
   "metadata": {},
   "outputs": [],
   "source": [
    "#splitting the data into training data and test data\n",
    "df = dfle.copy()\n",
    "df = df.drop(['date','BORO_NM'],axis = 1)\n",
    "from sklearn.preprocessing import StandardScaler\n",
    "scaler = StandardScaler()\n",
    "scaler.fit(df.drop('Total',axis=1))\n",
    "scaled_features = scaler.transform(df.drop('Total',axis=1))\n",
    "from sklearn.model_selection import train_test_split\n",
    "X_train, X_test, y_train, y_test = train_test_split(scaled_features,df['Total'],\n",
    "                                                    test_size=0.30)\n",
    "\n"
   ]
  },
  {
   "cell_type": "code",
   "execution_count": 27,
   "id": "704bf686",
   "metadata": {},
   "outputs": [
    {
     "data": {
      "image/png": "[encoded data removed]",
      "text/plain": [
       "<Figure size 432x288 with 1 Axes>"
      ]
     },
     "metadata": {
      "needs_background": "light"
     },
     "output_type": "display_data"
    }
   ],
   "source": [
    "from sklearn.linear_model import LinearRegression\n",
    "model = LinearRegression()\n",
    "model.fit(X_train, y_train)\n",
    "plt.scatter(model.predict(X_train), model.predict(X_train) - y_train, c=\"blue\", label=\"Training Data\")\n",
    "plt.scatter(model.predict(X_test), model.predict(X_test) - y_test, c=\"orange\", label=\"Testing Data\")\n",
    "plt.legend()\n",
    "plt.hlines(y=0, xmin=y_test.min(), xmax=y_test.max())\n",
    "plt.title(\"Residual Plot\")\n",
    "plt.show()\n",
    "\n"
   ]
  },
  {
   "cell_type": "code",
   "execution_count": 28,
   "id": "1c5371b4",
   "metadata": {},
   "outputs": [],
   "source": [
    "#building the regression model\n",
    "from sklearn.metrics import mean_squared_error\n",
    "\n",
    "predictions = model.predict(X_test)\n",
    "MSE = mean_squared_error(y_test, predictions)\n",
    "r2 = model.score(X_test, y_test)"
   ]
  },
  {
   "cell_type": "code",
   "execution_count": 29,
   "id": "5f6b548e",
   "metadata": {},
   "outputs": [
    {
     "name": "stdout",
     "output_type": "stream",
     "text": [
      "MSE: 1.129591267459086e-26, R2: 1.0\n"
     ]
    }
   ],
   "source": [
    "# Finding the mean square error\n",
    "print(f\"MSE: {MSE}, R2: {r2}\")"
   ]
  },
  {
   "cell_type": "code",
   "execution_count": null,
   "id": "e88c04a0",
   "metadata": {},
   "outputs": [],
   "source": []
  }
 ],
 "metadata": {
  "kernelspec": {
   "display_name": "Python 3",
   "language": "python",
   "name": "python3"
  },
  "language_info": {
   "codemirror_mode": {
    "name": "ipython",
    "version": 3
   },
   "file_extension": ".py",
   "mimetype": "text/x-python",
   "name": "python",
   "nbconvert_exporter": "python",
   "pygments_lexer": "ipython3",
   "version": "3.8.8"
  }
 },
 "nbformat": 4,
 "nbformat_minor": 5
}
