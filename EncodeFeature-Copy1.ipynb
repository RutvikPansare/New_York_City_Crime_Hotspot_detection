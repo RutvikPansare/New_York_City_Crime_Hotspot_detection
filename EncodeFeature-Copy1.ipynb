{
 "cells": [
  {
   "cell_type": "markdown",
   "metadata": {
    "id": "a22168b6"
   },
   "source": [
    "# Authors: \n",
    "         Rutvik Pansare       \n",
    "         Praksha maheshwari\n",
    "         Vishal Phaugat"
   ]
  },
  {
   "cell_type": "code",
   "execution_count": null,
   "metadata": {
    "id": "9LEQ_0qKukXw"
   },
   "outputs": [],
   "source": [
    "import pandas as pd\n",
    "import matplotlib.pyplot as plt\n",
    "import mysql.connector\n",
    "import numpy as np\n",
    "import seaborn as sns\n",
    "from sklearn.preprocessing import LabelEncoder"
   ]
  },
  {
   "cell_type": "code",
   "execution_count": null,
   "metadata": {
    "id": "AgXzil4PukXy"
   },
   "outputs": [],
   "source": [
    "mydb = mysql.connector.connect(\n",
    "  host=\"localhost\",\n",
    "  user=\"root\",\n",
    "  password=\"password\",\n",
    "  database=\"NYPDCrimeDB\"\n",
    ")\n",
    "\n",
    "query = \"SELECT * FROM crime_data;\"\n",
    "result = pd.read_sql(query,mydb)\n",
    "\n",
    "\n",
    "mydb.close() #close the connection"
   ]
  },
  {
   "cell_type": "code",
   "execution_count": null,
   "metadata": {
    "id": "kRXNcVSdukXz"
   },
   "outputs": [],
   "source": [
    "# convert date string to datetime format\n",
    "from datetime import datetime\n",
    "year_query = result.copy()\n",
    "dates =[]\n",
    "year_query['CMPLNT_FR_DT'] = pd.to_datetime(year_query['CMPLNT_FR_DT'])\n",
    "year_query['YEAR'] = pd. DatetimeIndex(year_query['CMPLNT_FR_DT']).year"
   ]
  },
  {
   "cell_type": "code",
   "execution_count": null,
   "metadata": {
    "id": "jpkxR4D8ukX0",
    "outputId": "1240ef24-3390-45cd-9764-44dfee377198"
   },
   "outputs": [
    {
     "data": {
      "text/html": [
       "<div>\n",
       "<style scoped>\n",
       "    .dataframe tbody tr th:only-of-type {\n",
       "        vertical-align: middle;\n",
       "    }\n",
       "\n",
       "    .dataframe tbody tr th {\n",
       "        vertical-align: top;\n",
       "    }\n",
       "\n",
       "    .dataframe thead th {\n",
       "        text-align: right;\n",
       "    }\n",
       "</style>\n",
       "<table border=\"1\" class=\"dataframe\">\n",
       "  <thead>\n",
       "    <tr style=\"text-align: right;\">\n",
       "      <th></th>\n",
       "      <th>CMPLNT_FR_DT</th>\n",
       "      <th>CMPLNT_FR_TM</th>\n",
       "      <th>OFNS_DESC</th>\n",
       "      <th>CRM_ATPT_CPTD_CD</th>\n",
       "      <th>LAW_CAT_CD</th>\n",
       "      <th>BORO_NM</th>\n",
       "      <th>PREM_TYP_DESC</th>\n",
       "      <th>SUSP_AGE_GROUP</th>\n",
       "      <th>SUSP_RACE</th>\n",
       "      <th>SUSP_SEX</th>\n",
       "      <th>Latitude</th>\n",
       "      <th>Longitude</th>\n",
       "      <th>VIC_AGE_GROUP</th>\n",
       "      <th>VIC_RACE</th>\n",
       "      <th>VIC_SEX</th>\n",
       "      <th>YEAR</th>\n",
       "    </tr>\n",
       "  </thead>\n",
       "  <tbody>\n",
       "    <tr>\n",
       "      <td>0</td>\n",
       "      <td>2</td>\n",
       "      <td>18</td>\n",
       "      <td>OFF. AGNST PUB ORD SENSBLTY &amp;</td>\n",
       "      <td>COMPLETED</td>\n",
       "      <td>MISDEMEANOR</td>\n",
       "      <td>BROOKLYN</td>\n",
       "      <td>RESIDENCE - APT. HOUSE</td>\n",
       "      <td>18-24</td>\n",
       "      <td>BLACK HISPANIC</td>\n",
       "      <td>M</td>\n",
       "      <td>40.576237762</td>\n",
       "      <td>-73.959504022</td>\n",
       "      <td>45-64</td>\n",
       "      <td>WHITE</td>\n",
       "      <td>F</td>\n",
       "      <td>2012</td>\n",
       "    </tr>\n",
       "    <tr>\n",
       "      <td>1</td>\n",
       "      <td>1</td>\n",
       "      <td>0</td>\n",
       "      <td>DANGEROUS WEAPONS</td>\n",
       "      <td>COMPLETED</td>\n",
       "      <td>MISDEMEANOR</td>\n",
       "      <td>BRONX</td>\n",
       "      <td>BAR/NIGHT CLUB</td>\n",
       "      <td>45-64</td>\n",
       "      <td>BLACK HISPANIC</td>\n",
       "      <td>M</td>\n",
       "      <td>40.858249408</td>\n",
       "      <td>-73.902348526</td>\n",
       "      <td>UNKNOWN</td>\n",
       "      <td>UNKNOWN</td>\n",
       "      <td>E</td>\n",
       "      <td>2016</td>\n",
       "    </tr>\n",
       "    <tr>\n",
       "      <td>2</td>\n",
       "      <td>1</td>\n",
       "      <td>17</td>\n",
       "      <td>OFF. AGNST PUB ORD SENSBLTY &amp;</td>\n",
       "      <td>COMPLETED</td>\n",
       "      <td>MISDEMEANOR</td>\n",
       "      <td>BRONX</td>\n",
       "      <td>STREET</td>\n",
       "      <td>18-24</td>\n",
       "      <td>WHITE</td>\n",
       "      <td>M</td>\n",
       "      <td>40.804012949000004</td>\n",
       "      <td>-73.878331833</td>\n",
       "      <td>18-24</td>\n",
       "      <td>WHITE HISPANIC</td>\n",
       "      <td>M</td>\n",
       "      <td>2010</td>\n",
       "    </tr>\n",
       "    <tr>\n",
       "      <td>3</td>\n",
       "      <td>11</td>\n",
       "      <td>20</td>\n",
       "      <td>DANGEROUS DRUGS</td>\n",
       "      <td>COMPLETED</td>\n",
       "      <td>MISDEMEANOR</td>\n",
       "      <td>BROOKLYN</td>\n",
       "      <td>STREET</td>\n",
       "      <td>45-64</td>\n",
       "      <td>BLACK</td>\n",
       "      <td>M</td>\n",
       "      <td>40.675310519</td>\n",
       "      <td>-73.96661445</td>\n",
       "      <td>UNKNOWN</td>\n",
       "      <td>UNKNOWN</td>\n",
       "      <td>E</td>\n",
       "      <td>2017</td>\n",
       "    </tr>\n",
       "    <tr>\n",
       "      <td>4</td>\n",
       "      <td>7</td>\n",
       "      <td>14</td>\n",
       "      <td>PETIT LARCENY</td>\n",
       "      <td>COMPLETED</td>\n",
       "      <td>MISDEMEANOR</td>\n",
       "      <td>BROOKLYN</td>\n",
       "      <td>DRY CLEANER/LAUNDRY</td>\n",
       "      <td>25-44</td>\n",
       "      <td>BLACK</td>\n",
       "      <td>F</td>\n",
       "      <td>40.654621066</td>\n",
       "      <td>-73.952893562</td>\n",
       "      <td>25-44</td>\n",
       "      <td>ASIAN / PACIFIC ISLANDER</td>\n",
       "      <td>M</td>\n",
       "      <td>2015</td>\n",
       "    </tr>\n",
       "    <tr>\n",
       "      <td>...</td>\n",
       "      <td>...</td>\n",
       "      <td>...</td>\n",
       "      <td>...</td>\n",
       "      <td>...</td>\n",
       "      <td>...</td>\n",
       "      <td>...</td>\n",
       "      <td>...</td>\n",
       "      <td>...</td>\n",
       "      <td>...</td>\n",
       "      <td>...</td>\n",
       "      <td>...</td>\n",
       "      <td>...</td>\n",
       "      <td>...</td>\n",
       "      <td>...</td>\n",
       "      <td>...</td>\n",
       "      <td>...</td>\n",
       "    </tr>\n",
       "    <tr>\n",
       "      <td>1725046</td>\n",
       "      <td>9</td>\n",
       "      <td>13</td>\n",
       "      <td>DANGEROUS DRUGS</td>\n",
       "      <td>COMPLETED</td>\n",
       "      <td>MISDEMEANOR</td>\n",
       "      <td>BRONX</td>\n",
       "      <td>STREET</td>\n",
       "      <td>25-44</td>\n",
       "      <td>BLACK</td>\n",
       "      <td>M</td>\n",
       "      <td>40.814847198</td>\n",
       "      <td>-73.89908132</td>\n",
       "      <td>UNKNOWN</td>\n",
       "      <td>UNKNOWN</td>\n",
       "      <td>E</td>\n",
       "      <td>2016</td>\n",
       "    </tr>\n",
       "    <tr>\n",
       "      <td>1725047</td>\n",
       "      <td>6</td>\n",
       "      <td>18</td>\n",
       "      <td>PETIT LARCENY</td>\n",
       "      <td>COMPLETED</td>\n",
       "      <td>MISDEMEANOR</td>\n",
       "      <td>BROOKLYN</td>\n",
       "      <td>STORE UNCLASSIFIED</td>\n",
       "      <td>45-64</td>\n",
       "      <td>BLACK</td>\n",
       "      <td>F</td>\n",
       "      <td>40.639305956</td>\n",
       "      <td>-73.948339154</td>\n",
       "      <td>UNKNOWN</td>\n",
       "      <td>UNKNOWN</td>\n",
       "      <td>D</td>\n",
       "      <td>2015</td>\n",
       "    </tr>\n",
       "    <tr>\n",
       "      <td>1725048</td>\n",
       "      <td>4</td>\n",
       "      <td>9</td>\n",
       "      <td>OFF. AGNST PUB ORD SENSBLTY &amp;</td>\n",
       "      <td>COMPLETED</td>\n",
       "      <td>MISDEMEANOR</td>\n",
       "      <td>QUEENS</td>\n",
       "      <td>RESIDENCE-HOUSE</td>\n",
       "      <td>25-44</td>\n",
       "      <td>BLACK</td>\n",
       "      <td>M</td>\n",
       "      <td>40.676568265</td>\n",
       "      <td>-73.79194598699999</td>\n",
       "      <td>25-44</td>\n",
       "      <td>WHITE HISPANIC</td>\n",
       "      <td>F</td>\n",
       "      <td>2012</td>\n",
       "    </tr>\n",
       "    <tr>\n",
       "      <td>1725049</td>\n",
       "      <td>9</td>\n",
       "      <td>13</td>\n",
       "      <td>PETIT LARCENY</td>\n",
       "      <td>COMPLETED</td>\n",
       "      <td>MISDEMEANOR</td>\n",
       "      <td>BROOKLYN</td>\n",
       "      <td>CHAIN STORE</td>\n",
       "      <td>45-64</td>\n",
       "      <td>WHITE</td>\n",
       "      <td>F</td>\n",
       "      <td>40.609583959</td>\n",
       "      <td>-73.95843934199999</td>\n",
       "      <td>UNKNOWN</td>\n",
       "      <td>UNKNOWN</td>\n",
       "      <td>D</td>\n",
       "      <td>2015</td>\n",
       "    </tr>\n",
       "    <tr>\n",
       "      <td>1725050</td>\n",
       "      <td>1</td>\n",
       "      <td>9</td>\n",
       "      <td>FELONY ASSAULT</td>\n",
       "      <td>COMPLETED</td>\n",
       "      <td>FELONY</td>\n",
       "      <td>BROOKLYN</td>\n",
       "      <td>RESIDENCE - PUBLIC HOUSING</td>\n",
       "      <td>25-44</td>\n",
       "      <td>BLACK</td>\n",
       "      <td>M</td>\n",
       "      <td>40.647330127</td>\n",
       "      <td>-73.896999556</td>\n",
       "      <td>25-44</td>\n",
       "      <td>BLACK</td>\n",
       "      <td>F</td>\n",
       "      <td>2014</td>\n",
       "    </tr>\n",
       "  </tbody>\n",
       "</table>\n",
       "<p>1725051 rows × 16 columns</p>\n",
       "</div>"
      ],
      "text/plain": [
       "         CMPLNT_FR_DT  CMPLNT_FR_TM                      OFNS_DESC  \\\n",
       "0                   2            18  OFF. AGNST PUB ORD SENSBLTY &   \n",
       "1                   1             0              DANGEROUS WEAPONS   \n",
       "2                   1            17  OFF. AGNST PUB ORD SENSBLTY &   \n",
       "3                  11            20                DANGEROUS DRUGS   \n",
       "4                   7            14                  PETIT LARCENY   \n",
       "...               ...           ...                            ...   \n",
       "1725046             9            13                DANGEROUS DRUGS   \n",
       "1725047             6            18                  PETIT LARCENY   \n",
       "1725048             4             9  OFF. AGNST PUB ORD SENSBLTY &   \n",
       "1725049             9            13                  PETIT LARCENY   \n",
       "1725050             1             9                 FELONY ASSAULT   \n",
       "\n",
       "        CRM_ATPT_CPTD_CD   LAW_CAT_CD   BORO_NM               PREM_TYP_DESC  \\\n",
       "0              COMPLETED  MISDEMEANOR  BROOKLYN      RESIDENCE - APT. HOUSE   \n",
       "1              COMPLETED  MISDEMEANOR     BRONX              BAR/NIGHT CLUB   \n",
       "2              COMPLETED  MISDEMEANOR     BRONX                      STREET   \n",
       "3              COMPLETED  MISDEMEANOR  BROOKLYN                      STREET   \n",
       "4              COMPLETED  MISDEMEANOR  BROOKLYN         DRY CLEANER/LAUNDRY   \n",
       "...                  ...          ...       ...                         ...   \n",
       "1725046        COMPLETED  MISDEMEANOR     BRONX                      STREET   \n",
       "1725047        COMPLETED  MISDEMEANOR  BROOKLYN          STORE UNCLASSIFIED   \n",
       "1725048        COMPLETED  MISDEMEANOR    QUEENS             RESIDENCE-HOUSE   \n",
       "1725049        COMPLETED  MISDEMEANOR  BROOKLYN                 CHAIN STORE   \n",
       "1725050        COMPLETED       FELONY  BROOKLYN  RESIDENCE - PUBLIC HOUSING   \n",
       "\n",
       "        SUSP_AGE_GROUP       SUSP_RACE SUSP_SEX            Latitude  \\\n",
       "0                18-24  BLACK HISPANIC        M        40.576237762   \n",
       "1                45-64  BLACK HISPANIC        M        40.858249408   \n",
       "2                18-24           WHITE        M  40.804012949000004   \n",
       "3                45-64           BLACK        M        40.675310519   \n",
       "4                25-44           BLACK        F        40.654621066   \n",
       "...                ...             ...      ...                 ...   \n",
       "1725046          25-44           BLACK        M        40.814847198   \n",
       "1725047          45-64           BLACK        F        40.639305956   \n",
       "1725048          25-44           BLACK        M        40.676568265   \n",
       "1725049          45-64           WHITE        F        40.609583959   \n",
       "1725050          25-44           BLACK        M        40.647330127   \n",
       "\n",
       "                  Longitude VIC_AGE_GROUP                  VIC_RACE VIC_SEX  \\\n",
       "0             -73.959504022         45-64                     WHITE       F   \n",
       "1             -73.902348526       UNKNOWN                   UNKNOWN       E   \n",
       "2             -73.878331833         18-24            WHITE HISPANIC       M   \n",
       "3              -73.96661445       UNKNOWN                   UNKNOWN       E   \n",
       "4             -73.952893562         25-44  ASIAN / PACIFIC ISLANDER       M   \n",
       "...                     ...           ...                       ...     ...   \n",
       "1725046        -73.89908132       UNKNOWN                   UNKNOWN       E   \n",
       "1725047       -73.948339154       UNKNOWN                   UNKNOWN       D   \n",
       "1725048  -73.79194598699999         25-44            WHITE HISPANIC       F   \n",
       "1725049  -73.95843934199999       UNKNOWN                   UNKNOWN       D   \n",
       "1725050       -73.896999556         25-44                     BLACK       F   \n",
       "\n",
       "         YEAR  \n",
       "0        2012  \n",
       "1        2016  \n",
       "2        2010  \n",
       "3        2017  \n",
       "4        2015  \n",
       "...       ...  \n",
       "1725046  2016  \n",
       "1725047  2015  \n",
       "1725048  2012  \n",
       "1725049  2015  \n",
       "1725050  2014  \n",
       "\n",
       "[1725051 rows x 16 columns]"
      ]
     },
     "execution_count": 5,
     "metadata": {
      "tags": []
     },
     "output_type": "execute_result"
    }
   ],
   "source": [
    "year_query.drop(['CMPLNT_NUM', 'JURIS_DESC','X_COORD_CD','Y_COORD_CD','Lat_Lon'], axis=1, inplace=True)\n",
    "year_query['CMPLNT_FR_TM'] = year_query['CMPLNT_FR_TM'].dt.components['hours']\n",
    "year_query['CMPLNT_FR_DT'] = pd.DatetimeIndex(year_query['CMPLNT_FR_DT']).month\n",
    "year_query"
   ]
  },
  {
   "cell_type": "code",
   "execution_count": null,
   "metadata": {
    "id": "KtsHTlEhukX2"
   },
   "outputs": [],
   "source": [
    "clean2 = year_query.drop(['OFNS_DESC','YEAR','PREM_TYP_DESC','SUSP_AGE_GROUP','SUSP_RACE','SUSP_SEX'], axis=1)"
   ]
  },
  {
   "cell_type": "code",
   "execution_count": null,
   "metadata": {
    "id": "IFS9Vq7tukX2"
   },
   "outputs": [],
   "source": [
    "val = ['25-44','45-64','<18','18-24','65+']\n",
    "clean = clean2.copy()\n",
    "\n",
    "clean = clean[clean['VIC_AGE_GROUP'].isin(val)]\n",
    "\n",
    "newdf = clean[clean['VIC_AGE_GROUP'].isin(['25-44','45-64','<18','18-24','65+'])]"
   ]
  },
  {
   "cell_type": "code",
   "execution_count": null,
   "metadata": {
    "id": "XajIPzJdukX3"
   },
   "outputs": [],
   "source": [
    "for i in clean['VIC_AGE_GROUP']:\n",
    "    if i in val:\n",
    "        pass\n",
    "    else:\n",
    "        clean = clean.drop(i)"
   ]
  },
  {
   "cell_type": "code",
   "execution_count": null,
   "metadata": {
    "id": "UNz_zs4QukX4",
    "outputId": "b5e03816-9043-4be4-b04d-caf32c240520"
   },
   "outputs": [
    {
     "data": {
      "text/html": [
       "<div>\n",
       "<style scoped>\n",
       "    .dataframe tbody tr th:only-of-type {\n",
       "        vertical-align: middle;\n",
       "    }\n",
       "\n",
       "    .dataframe tbody tr th {\n",
       "        vertical-align: top;\n",
       "    }\n",
       "\n",
       "    .dataframe thead th {\n",
       "        text-align: right;\n",
       "    }\n",
       "</style>\n",
       "<table border=\"1\" class=\"dataframe\">\n",
       "  <thead>\n",
       "    <tr style=\"text-align: right;\">\n",
       "      <th></th>\n",
       "      <th>CMPLNT_FR_DT</th>\n",
       "      <th>CMPLNT_FR_TM</th>\n",
       "      <th>CRM_ATPT_CPTD_CD</th>\n",
       "      <th>LAW_CAT_CD</th>\n",
       "      <th>BORO_NM</th>\n",
       "      <th>Latitude</th>\n",
       "      <th>Longitude</th>\n",
       "      <th>VIC_AGE_GROUP</th>\n",
       "      <th>VIC_RACE</th>\n",
       "      <th>VIC_SEX</th>\n",
       "    </tr>\n",
       "  </thead>\n",
       "  <tbody>\n",
       "    <tr>\n",
       "      <td>0</td>\n",
       "      <td>2</td>\n",
       "      <td>18</td>\n",
       "      <td>COMPLETED</td>\n",
       "      <td>MISDEMEANOR</td>\n",
       "      <td>BROOKLYN</td>\n",
       "      <td>40.576237762</td>\n",
       "      <td>-73.959504022</td>\n",
       "      <td>45-64</td>\n",
       "      <td>WHITE</td>\n",
       "      <td>F</td>\n",
       "    </tr>\n",
       "    <tr>\n",
       "      <td>2</td>\n",
       "      <td>1</td>\n",
       "      <td>17</td>\n",
       "      <td>COMPLETED</td>\n",
       "      <td>MISDEMEANOR</td>\n",
       "      <td>BRONX</td>\n",
       "      <td>40.804012949000004</td>\n",
       "      <td>-73.878331833</td>\n",
       "      <td>18-24</td>\n",
       "      <td>WHITE HISPANIC</td>\n",
       "      <td>M</td>\n",
       "    </tr>\n",
       "    <tr>\n",
       "      <td>4</td>\n",
       "      <td>7</td>\n",
       "      <td>14</td>\n",
       "      <td>COMPLETED</td>\n",
       "      <td>MISDEMEANOR</td>\n",
       "      <td>BROOKLYN</td>\n",
       "      <td>40.654621066</td>\n",
       "      <td>-73.952893562</td>\n",
       "      <td>25-44</td>\n",
       "      <td>ASIAN / PACIFIC ISLANDER</td>\n",
       "      <td>M</td>\n",
       "    </tr>\n",
       "    <tr>\n",
       "      <td>5</td>\n",
       "      <td>11</td>\n",
       "      <td>7</td>\n",
       "      <td>COMPLETED</td>\n",
       "      <td>VIOLATION</td>\n",
       "      <td>BROOKLYN</td>\n",
       "      <td>40.668434087000044</td>\n",
       "      <td>-73.87423541899994</td>\n",
       "      <td>45-64</td>\n",
       "      <td>BLACK</td>\n",
       "      <td>F</td>\n",
       "    </tr>\n",
       "    <tr>\n",
       "      <td>6</td>\n",
       "      <td>5</td>\n",
       "      <td>19</td>\n",
       "      <td>COMPLETED</td>\n",
       "      <td>MISDEMEANOR</td>\n",
       "      <td>MANHATTAN</td>\n",
       "      <td>40.74041591300004</td>\n",
       "      <td>-73.97597511999999</td>\n",
       "      <td>&lt;18</td>\n",
       "      <td>BLACK</td>\n",
       "      <td>F</td>\n",
       "    </tr>\n",
       "    <tr>\n",
       "      <td>...</td>\n",
       "      <td>...</td>\n",
       "      <td>...</td>\n",
       "      <td>...</td>\n",
       "      <td>...</td>\n",
       "      <td>...</td>\n",
       "      <td>...</td>\n",
       "      <td>...</td>\n",
       "      <td>...</td>\n",
       "      <td>...</td>\n",
       "      <td>...</td>\n",
       "    </tr>\n",
       "    <tr>\n",
       "      <td>1725039</td>\n",
       "      <td>8</td>\n",
       "      <td>14</td>\n",
       "      <td>COMPLETED</td>\n",
       "      <td>FELONY</td>\n",
       "      <td>BRONX</td>\n",
       "      <td>40.81070266500007</td>\n",
       "      <td>-73.91621424499994</td>\n",
       "      <td>25-44</td>\n",
       "      <td>BLACK</td>\n",
       "      <td>M</td>\n",
       "    </tr>\n",
       "    <tr>\n",
       "      <td>1725042</td>\n",
       "      <td>1</td>\n",
       "      <td>1</td>\n",
       "      <td>COMPLETED</td>\n",
       "      <td>FELONY</td>\n",
       "      <td>BRONX</td>\n",
       "      <td>40.863507281</td>\n",
       "      <td>-73.904463</td>\n",
       "      <td>18-24</td>\n",
       "      <td>BLACK</td>\n",
       "      <td>F</td>\n",
       "    </tr>\n",
       "    <tr>\n",
       "      <td>1725045</td>\n",
       "      <td>8</td>\n",
       "      <td>5</td>\n",
       "      <td>COMPLETED</td>\n",
       "      <td>MISDEMEANOR</td>\n",
       "      <td>BRONX</td>\n",
       "      <td>40.822569916</td>\n",
       "      <td>-73.911307169</td>\n",
       "      <td>&lt;18</td>\n",
       "      <td>WHITE HISPANIC</td>\n",
       "      <td>F</td>\n",
       "    </tr>\n",
       "    <tr>\n",
       "      <td>1725048</td>\n",
       "      <td>4</td>\n",
       "      <td>9</td>\n",
       "      <td>COMPLETED</td>\n",
       "      <td>MISDEMEANOR</td>\n",
       "      <td>QUEENS</td>\n",
       "      <td>40.676568265</td>\n",
       "      <td>-73.79194598699999</td>\n",
       "      <td>25-44</td>\n",
       "      <td>WHITE HISPANIC</td>\n",
       "      <td>F</td>\n",
       "    </tr>\n",
       "    <tr>\n",
       "      <td>1725050</td>\n",
       "      <td>1</td>\n",
       "      <td>9</td>\n",
       "      <td>COMPLETED</td>\n",
       "      <td>FELONY</td>\n",
       "      <td>BROOKLYN</td>\n",
       "      <td>40.647330127</td>\n",
       "      <td>-73.896999556</td>\n",
       "      <td>25-44</td>\n",
       "      <td>BLACK</td>\n",
       "      <td>F</td>\n",
       "    </tr>\n",
       "  </tbody>\n",
       "</table>\n",
       "<p>1282110 rows × 10 columns</p>\n",
       "</div>"
      ],
      "text/plain": [
       "         CMPLNT_FR_DT  CMPLNT_FR_TM CRM_ATPT_CPTD_CD   LAW_CAT_CD    BORO_NM  \\\n",
       "0                   2            18        COMPLETED  MISDEMEANOR   BROOKLYN   \n",
       "2                   1            17        COMPLETED  MISDEMEANOR      BRONX   \n",
       "4                   7            14        COMPLETED  MISDEMEANOR   BROOKLYN   \n",
       "5                  11             7        COMPLETED    VIOLATION   BROOKLYN   \n",
       "6                   5            19        COMPLETED  MISDEMEANOR  MANHATTAN   \n",
       "...               ...           ...              ...          ...        ...   \n",
       "1725039             8            14        COMPLETED       FELONY      BRONX   \n",
       "1725042             1             1        COMPLETED       FELONY      BRONX   \n",
       "1725045             8             5        COMPLETED  MISDEMEANOR      BRONX   \n",
       "1725048             4             9        COMPLETED  MISDEMEANOR     QUEENS   \n",
       "1725050             1             9        COMPLETED       FELONY   BROOKLYN   \n",
       "\n",
       "                   Latitude           Longitude VIC_AGE_GROUP  \\\n",
       "0              40.576237762       -73.959504022         45-64   \n",
       "2        40.804012949000004       -73.878331833         18-24   \n",
       "4              40.654621066       -73.952893562         25-44   \n",
       "5        40.668434087000044  -73.87423541899994         45-64   \n",
       "6         40.74041591300004  -73.97597511999999           <18   \n",
       "...                     ...                 ...           ...   \n",
       "1725039   40.81070266500007  -73.91621424499994         25-44   \n",
       "1725042        40.863507281          -73.904463         18-24   \n",
       "1725045        40.822569916       -73.911307169           <18   \n",
       "1725048        40.676568265  -73.79194598699999         25-44   \n",
       "1725050        40.647330127       -73.896999556         25-44   \n",
       "\n",
       "                         VIC_RACE VIC_SEX  \n",
       "0                           WHITE       F  \n",
       "2                  WHITE HISPANIC       M  \n",
       "4        ASIAN / PACIFIC ISLANDER       M  \n",
       "5                           BLACK       F  \n",
       "6                           BLACK       F  \n",
       "...                           ...     ...  \n",
       "1725039                     BLACK       M  \n",
       "1725042                     BLACK       F  \n",
       "1725045            WHITE HISPANIC       F  \n",
       "1725048            WHITE HISPANIC       F  \n",
       "1725050                     BLACK       F  \n",
       "\n",
       "[1282110 rows x 10 columns]"
      ]
     },
     "execution_count": 9,
     "metadata": {
      "tags": []
     },
     "output_type": "execute_result"
    }
   ],
   "source": [
    "clean"
   ]
  },
  {
   "cell_type": "code",
   "execution_count": null,
   "metadata": {
    "id": "xC7QqOlUukX4"
   },
   "outputs": [],
   "source": [
    "le = LabelEncoder()"
   ]
  },
  {
   "cell_type": "code",
   "execution_count": null,
   "metadata": {
    "id": "C9W7J5T_ukX5",
    "outputId": "37934024-b570-4820-9ece-1c1689b2808c"
   },
   "outputs": [
    {
     "data": {
      "text/html": [
       "<div>\n",
       "<style scoped>\n",
       "    .dataframe tbody tr th:only-of-type {\n",
       "        vertical-align: middle;\n",
       "    }\n",
       "\n",
       "    .dataframe tbody tr th {\n",
       "        vertical-align: top;\n",
       "    }\n",
       "\n",
       "    .dataframe thead th {\n",
       "        text-align: right;\n",
       "    }\n",
       "</style>\n",
       "<table border=\"1\" class=\"dataframe\">\n",
       "  <thead>\n",
       "    <tr style=\"text-align: right;\">\n",
       "      <th></th>\n",
       "      <th>CMPLNT_FR_DT</th>\n",
       "      <th>CMPLNT_FR_TM</th>\n",
       "      <th>CRM_ATPT_CPTD_CD</th>\n",
       "      <th>LAW_CAT_CD</th>\n",
       "      <th>BORO_NM</th>\n",
       "      <th>Latitude</th>\n",
       "      <th>Longitude</th>\n",
       "      <th>VIC_AGE_GROUP</th>\n",
       "      <th>VIC_RACE</th>\n",
       "      <th>VIC_SEX</th>\n",
       "    </tr>\n",
       "  </thead>\n",
       "  <tbody>\n",
       "    <tr>\n",
       "      <td>0</td>\n",
       "      <td>2</td>\n",
       "      <td>18</td>\n",
       "      <td>1</td>\n",
       "      <td>1</td>\n",
       "      <td>1</td>\n",
       "      <td>40.576237762</td>\n",
       "      <td>-73.959504022</td>\n",
       "      <td>2</td>\n",
       "      <td>6</td>\n",
       "      <td>2</td>\n",
       "    </tr>\n",
       "    <tr>\n",
       "      <td>2</td>\n",
       "      <td>1</td>\n",
       "      <td>17</td>\n",
       "      <td>1</td>\n",
       "      <td>1</td>\n",
       "      <td>0</td>\n",
       "      <td>40.804012949000004</td>\n",
       "      <td>-73.878331833</td>\n",
       "      <td>0</td>\n",
       "      <td>7</td>\n",
       "      <td>3</td>\n",
       "    </tr>\n",
       "    <tr>\n",
       "      <td>4</td>\n",
       "      <td>7</td>\n",
       "      <td>14</td>\n",
       "      <td>1</td>\n",
       "      <td>1</td>\n",
       "      <td>1</td>\n",
       "      <td>40.654621066</td>\n",
       "      <td>-73.952893562</td>\n",
       "      <td>1</td>\n",
       "      <td>1</td>\n",
       "      <td>3</td>\n",
       "    </tr>\n",
       "    <tr>\n",
       "      <td>5</td>\n",
       "      <td>11</td>\n",
       "      <td>7</td>\n",
       "      <td>1</td>\n",
       "      <td>2</td>\n",
       "      <td>1</td>\n",
       "      <td>40.668434087000044</td>\n",
       "      <td>-73.87423541899994</td>\n",
       "      <td>2</td>\n",
       "      <td>2</td>\n",
       "      <td>2</td>\n",
       "    </tr>\n",
       "    <tr>\n",
       "      <td>6</td>\n",
       "      <td>5</td>\n",
       "      <td>19</td>\n",
       "      <td>1</td>\n",
       "      <td>1</td>\n",
       "      <td>2</td>\n",
       "      <td>40.74041591300004</td>\n",
       "      <td>-73.97597511999999</td>\n",
       "      <td>4</td>\n",
       "      <td>2</td>\n",
       "      <td>2</td>\n",
       "    </tr>\n",
       "    <tr>\n",
       "      <td>...</td>\n",
       "      <td>...</td>\n",
       "      <td>...</td>\n",
       "      <td>...</td>\n",
       "      <td>...</td>\n",
       "      <td>...</td>\n",
       "      <td>...</td>\n",
       "      <td>...</td>\n",
       "      <td>...</td>\n",
       "      <td>...</td>\n",
       "      <td>...</td>\n",
       "    </tr>\n",
       "    <tr>\n",
       "      <td>1725039</td>\n",
       "      <td>8</td>\n",
       "      <td>14</td>\n",
       "      <td>1</td>\n",
       "      <td>0</td>\n",
       "      <td>0</td>\n",
       "      <td>40.81070266500007</td>\n",
       "      <td>-73.91621424499994</td>\n",
       "      <td>1</td>\n",
       "      <td>2</td>\n",
       "      <td>3</td>\n",
       "    </tr>\n",
       "    <tr>\n",
       "      <td>1725042</td>\n",
       "      <td>1</td>\n",
       "      <td>1</td>\n",
       "      <td>1</td>\n",
       "      <td>0</td>\n",
       "      <td>0</td>\n",
       "      <td>40.863507281</td>\n",
       "      <td>-73.904463</td>\n",
       "      <td>0</td>\n",
       "      <td>2</td>\n",
       "      <td>2</td>\n",
       "    </tr>\n",
       "    <tr>\n",
       "      <td>1725045</td>\n",
       "      <td>8</td>\n",
       "      <td>5</td>\n",
       "      <td>1</td>\n",
       "      <td>1</td>\n",
       "      <td>0</td>\n",
       "      <td>40.822569916</td>\n",
       "      <td>-73.911307169</td>\n",
       "      <td>4</td>\n",
       "      <td>7</td>\n",
       "      <td>2</td>\n",
       "    </tr>\n",
       "    <tr>\n",
       "      <td>1725048</td>\n",
       "      <td>4</td>\n",
       "      <td>9</td>\n",
       "      <td>1</td>\n",
       "      <td>1</td>\n",
       "      <td>3</td>\n",
       "      <td>40.676568265</td>\n",
       "      <td>-73.79194598699999</td>\n",
       "      <td>1</td>\n",
       "      <td>7</td>\n",
       "      <td>2</td>\n",
       "    </tr>\n",
       "    <tr>\n",
       "      <td>1725050</td>\n",
       "      <td>1</td>\n",
       "      <td>9</td>\n",
       "      <td>1</td>\n",
       "      <td>0</td>\n",
       "      <td>1</td>\n",
       "      <td>40.647330127</td>\n",
       "      <td>-73.896999556</td>\n",
       "      <td>1</td>\n",
       "      <td>2</td>\n",
       "      <td>2</td>\n",
       "    </tr>\n",
       "  </tbody>\n",
       "</table>\n",
       "<p>1282110 rows × 10 columns</p>\n",
       "</div>"
      ],
      "text/plain": [
       "         CMPLNT_FR_DT  CMPLNT_FR_TM  CRM_ATPT_CPTD_CD  LAW_CAT_CD  BORO_NM  \\\n",
       "0                   2            18                 1           1        1   \n",
       "2                   1            17                 1           1        0   \n",
       "4                   7            14                 1           1        1   \n",
       "5                  11             7                 1           2        1   \n",
       "6                   5            19                 1           1        2   \n",
       "...               ...           ...               ...         ...      ...   \n",
       "1725039             8            14                 1           0        0   \n",
       "1725042             1             1                 1           0        0   \n",
       "1725045             8             5                 1           1        0   \n",
       "1725048             4             9                 1           1        3   \n",
       "1725050             1             9                 1           0        1   \n",
       "\n",
       "                   Latitude           Longitude  VIC_AGE_GROUP  VIC_RACE  \\\n",
       "0              40.576237762       -73.959504022              2         6   \n",
       "2        40.804012949000004       -73.878331833              0         7   \n",
       "4              40.654621066       -73.952893562              1         1   \n",
       "5        40.668434087000044  -73.87423541899994              2         2   \n",
       "6         40.74041591300004  -73.97597511999999              4         2   \n",
       "...                     ...                 ...            ...       ...   \n",
       "1725039   40.81070266500007  -73.91621424499994              1         2   \n",
       "1725042        40.863507281          -73.904463              0         2   \n",
       "1725045        40.822569916       -73.911307169              4         7   \n",
       "1725048        40.676568265  -73.79194598699999              1         7   \n",
       "1725050        40.647330127       -73.896999556              1         2   \n",
       "\n",
       "         VIC_SEX  \n",
       "0              2  \n",
       "2              3  \n",
       "4              3  \n",
       "5              2  \n",
       "6              2  \n",
       "...          ...  \n",
       "1725039        3  \n",
       "1725042        2  \n",
       "1725045        2  \n",
       "1725048        2  \n",
       "1725050        2  \n",
       "\n",
       "[1282110 rows x 10 columns]"
      ]
     },
     "execution_count": 11,
     "metadata": {
      "tags": []
     },
     "output_type": "execute_result"
    }
   ],
   "source": [
    "# label encoding the target column - i have kept suspect age as target.\n",
    "from sklearn.preprocessing import LabelEncoder\n",
    "le = LabelEncoder()\n",
    "dfle = clean\n",
    "\n",
    "dfle.BORO_NM = le.fit_transform(dfle.BORO_NM)\n",
    "dfle.CRM_ATPT_CPTD_CD = le.fit_transform(dfle.CRM_ATPT_CPTD_CD)\n",
    "dfle.LAW_CAT_CD = le.fit_transform(dfle.LAW_CAT_CD)\n",
    "dfle.VIC_AGE_GROUP = le.fit_transform(dfle.VIC_AGE_GROUP)\n",
    "dfle.VIC_SEX = le.fit_transform(dfle.VIC_SEX)\n",
    "dfle.VIC_RACE = le.fit_transform(dfle.VIC_RACE)\n",
    "dfle"
   ]
  },
  {
   "cell_type": "code",
   "execution_count": null,
   "metadata": {
    "id": "tiYE5SjSukX6"
   },
   "outputs": [],
   "source": [
    "dfle.to_csv(r\"C:\\Users\\praks\\PycharmProjects\\CSCI620\\BigData Project\\NYC_encodedData.csv\", index = False)"
   ]
  },
  {
   "cell_type": "code",
   "execution_count": null,
   "metadata": {
    "id": "-lB3L-ybukX6"
   },
   "outputs": [],
   "source": [
    "encoded = dfle"
   ]
  },
  {
   "cell_type": "code",
   "execution_count": null,
   "metadata": {
    "id": "Ogr6rszmukX7",
    "outputId": "5d8666d0-129c-4e74-fa1e-f7673bff3f9d",
    "scrolled": false
   },
   "outputs": [
    {
     "data": {
      "image/png": "[encoded data removed]",
      "text/plain": [
       "<Figure size 720x576 with 2 Axes>"
      ]
     },
     "metadata": {
      "needs_background": "light",
      "tags": []
     },
     "output_type": "display_data"
    }
   ],
   "source": [
    "import seaborn as sns\n",
    "#Using Pearson Correlation\n",
    "plt.figure(figsize=(10,8))\n",
    "cor = encoded.corr()\n",
    "sns.heatmap(cor, annot=True, cmap=plt.cm.CMRmap_r)\n",
    "plt.show()\n",
    "result.corr()\n",
    "def correlation(dataset, threshold):\n",
    "    col_corr = set()  # Set of all the names of correlated columns\n",
    "    corr_matrix = dataset.corr()\n",
    "    for i in range(len(corr_matrix.columns)):\n",
    "        for j in range(i):\n",
    "            if abs(corr_matrix.iloc[i, j]) > threshold: # we are interested in absolute coeff value\n",
    "                colname = corr_matrix.columns[i]  # getting the name of column\n",
    "                col_corr.add(colname)\n",
    "    return col_corr"
   ]
  },
  {
   "cell_type": "code",
   "execution_count": null,
   "metadata": {
    "id": "QEhMTMOTukX7"
   },
   "outputs": [],
   "source": [
    "x = encoded.drop(['BORO_NM'],axis=1)\n",
    "y = encoded['BORO_NM']"
   ]
  },
  {
   "cell_type": "code",
   "execution_count": null,
   "metadata": {
    "id": "8lqsXieEukX8",
    "outputId": "e96ce2cf-f580-496e-dbf5-1d3a98dcbec3"
   },
   "outputs": [
    {
     "data": {
      "text/plain": [
       "RandomForestRegressor(bootstrap=True, criterion='mse', max_depth=None,\n",
       "                      max_features='auto', max_leaf_nodes=None,\n",
       "                      min_impurity_decrease=0.0, min_impurity_split=None,\n",
       "                      min_samples_leaf=1, min_samples_split=2,\n",
       "                      min_weight_fraction_leaf=0.0, n_estimators=10,\n",
       "                      n_jobs=None, oob_score=False, random_state=0, verbose=0,\n",
       "                      warm_start=False)"
      ]
     },
     "execution_count": 23,
     "metadata": {
      "tags": []
     },
     "output_type": "execute_result"
    }
   ],
   "source": [
    "from sklearn.model_selection import train_test_split\n",
    "from sklearn.ensemble import RandomForestRegressor\n",
    "from sklearn.metrics import r2_score,mean_squared_error\n",
    "\n",
    "x_train, x_test, y_train, y_test = train_test_split(x, y, test_size=0.30, random_state=42)\n",
    "regressor = RandomForestRegressor(n_estimators = 10, random_state = 0)\n",
    "regressor.fit(x_train, y_train)"
   ]
  },
  {
   "cell_type": "code",
   "execution_count": null,
   "metadata": {
    "id": "G5kDEWk9ukX8"
   },
   "outputs": [],
   "source": [
    "y_pred = regressor.predict(x_test)"
   ]
  },
  {
   "cell_type": "code",
   "execution_count": null,
   "metadata": {
    "id": "wpddRz35ukX9",
    "outputId": "1aa100f6-5f45-4a89-b19a-649c797bbf20"
   },
   "outputs": [
    {
     "data": {
      "text/plain": [
       "0.9653785474777067"
      ]
     },
     "execution_count": 25,
     "metadata": {
      "tags": []
     },
     "output_type": "execute_result"
    }
   ],
   "source": [
    "#Random Forest Regression\n",
    "from sklearn.metrics import r2_score\n",
    "r2_score(y_test, y_pred)"
   ]
  },
  {
   "cell_type": "code",
   "execution_count": null,
   "metadata": {
    "id": "4IBesMIOukX-",
    "outputId": "72703f0f-0796-47e8-c5e9-f68f73d175f9"
   },
   "outputs": [
    {
     "data": {
      "image/png": "[encoded data removed]",
      "text/plain": [
       "<Figure size 432x288 with 1 Axes>"
      ]
     },
     "metadata": {
      "needs_background": "light",
      "tags": []
     },
     "output_type": "display_data"
    }
   ],
   "source": [
    "# x_grid = np.arange(dataset.iloc[:,2:3].values)\n",
    "# x_grid = x_grid.reshape((len(x_grid), 1))\n",
    "# plt.scatter(y_test,y_pred)\n",
    "# plt.scatter(, color = 'blue')\n",
    "plt.plot(y_test,'o',color=\"blue\")\n",
    "plt.plot(y_pred,'o',color=\"red\")\n",
    "plt.title('(Random Forest Regression)')\n",
    "plt.xlabel('Predicted Boro')\n",
    "plt.ylabel('Actual Boro')\n",
    "plt.show()"
   ]
  },
  {
   "cell_type": "code",
   "execution_count": null,
   "metadata": {
    "id": "hRtSsbuOukX-"
   },
   "outputs": [],
   "source": [
    "x = encoded['LAW_CAT_CD']\n",
    "y = encoded['CMPLNT_FR_TM']"
   ]
  },
  {
   "cell_type": "code",
   "execution_count": null,
   "metadata": {
    "id": "coyfAoEqukX_",
    "outputId": "00f8de39-d089-4133-a3a9-85d5df2fb456"
   },
   "outputs": [
    {
     "name": "stderr",
     "output_type": "stream",
     "text": [
      "C:\\ProgramData\\Anaconda3\\lib\\site-packages\\ipykernel_launcher.py:7: DataConversionWarning: A column-vector y was passed when a 1d array was expected. Please change the shape of y to (n_samples,), for example using ravel().\n",
      "  import sys\n"
     ]
    },
    {
     "data": {
      "text/plain": [
       "RandomForestRegressor(bootstrap=True, criterion='mse', max_depth=None,\n",
       "                      max_features='auto', max_leaf_nodes=None,\n",
       "                      min_impurity_decrease=0.0, min_impurity_split=None,\n",
       "                      min_samples_leaf=1, min_samples_split=2,\n",
       "                      min_weight_fraction_leaf=0.0, n_estimators=10,\n",
       "                      n_jobs=None, oob_score=False, random_state=0, verbose=0,\n",
       "                      warm_start=False)"
      ]
     },
     "execution_count": 23,
     "metadata": {
      "tags": []
     },
     "output_type": "execute_result"
    }
   ],
   "source": [
    "from sklearn.model_selection import train_test_split\n",
    "from sklearn.ensemble import RandomForestRegressor\n",
    "from sklearn.metrics import r2_score,mean_squared_error\n",
    "\n",
    "x_train, x_test, y_train, y_test = train_test_split(x, y, test_size=0.30, random_state=42)\n",
    "regressor = RandomForestRegressor(n_estimators = 10, random_state = 0)\n",
    "regressor.fit(np.array(x_train).reshape(-1,1),np.array(y_train).reshape(-1,1))"
   ]
  },
  {
   "cell_type": "code",
   "execution_count": null,
   "metadata": {
    "id": "AuoILPbeukX_"
   },
   "outputs": [],
   "source": [
    "y_pred = regressor.predict(np.array(x_test).reshape(-1,1))"
   ]
  },
  {
   "cell_type": "code",
   "execution_count": null,
   "metadata": {
    "id": "6duvDTIcukYA",
    "outputId": "c5d07616-17ba-40a7-9790-e9a823d6ce92"
   },
   "outputs": [
    {
     "data": {
      "text/plain": [
       "0.0028774005550137316"
      ]
     },
     "execution_count": 25,
     "metadata": {
      "tags": []
     },
     "output_type": "execute_result"
    }
   ],
   "source": [
    "#Random Forest Regression\n",
    "from sklearn.metrics import r2_score\n",
    "r2_score(y_test, y_pred)"
   ]
  },
  {
   "cell_type": "code",
   "execution_count": null,
   "metadata": {
    "id": "pbmUXMCsukYA"
   },
   "outputs": [],
   "source": []
  },
  {
   "cell_type": "code",
   "execution_count": null,
   "metadata": {
    "id": "5phZsUYZukYB"
   },
   "outputs": [],
   "source": [
    "X = encoded['LAW_CAT_CD']\n",
    "y = encoded['CMPLNT_FR_TM']"
   ]
  },
  {
   "cell_type": "code",
   "execution_count": null,
   "metadata": {
    "id": "LXgBdOwlukYB"
   },
   "outputs": [],
   "source": [
    "from sklearn.model_selection import train_test_split\n",
    "X_train,X_test,y_train,y_test = train_test_split(X, y, test_size=0.3)"
   ]
  },
  {
   "cell_type": "code",
   "execution_count": null,
   "metadata": {
    "id": "AM0C6My0ukYB",
    "outputId": "195eb085-b378-432c-940c-465879ebf6fe"
   },
   "outputs": [
    {
     "data": {
      "text/plain": [
       "LinearRegression(copy_X=True, fit_intercept=True, n_jobs=None, normalize=False)"
      ]
     },
     "execution_count": 29,
     "metadata": {
      "tags": []
     },
     "output_type": "execute_result"
    }
   ],
   "source": [
    "from sklearn.linear_model import LinearRegression\n",
    "lin_reg = LinearRegression()\n",
    "lin_reg.fit(np.array(X_train).reshape(-1,1),np.array(y_train).reshape(-1,1))"
   ]
  },
  {
   "cell_type": "code",
   "execution_count": null,
   "metadata": {
    "id": "aTOVb8kjukYC",
    "outputId": "becd877b-fc6c-43be-cd38-620a40b180cd"
   },
   "outputs": [
    {
     "data": {
      "text/plain": [
       "0.0027157285619870963"
      ]
     },
     "execution_count": 34,
     "metadata": {
      "tags": []
     },
     "output_type": "execute_result"
    }
   ],
   "source": [
    "#Linear Regression\n",
    "from sklearn.metrics import r2_score\n",
    "r2_score(y_test, lin_reg.predict(np.array(X_test).reshape(-1,1)))"
   ]
  },
  {
   "cell_type": "code",
   "execution_count": null,
   "metadata": {
    "id": "OBkXIA8qukYC",
    "outputId": "a8170c8b-6d89-4bdd-db0e-f56496188918"
   },
   "outputs": [
    {
     "data": {
      "image/png": "[encoded data removed]",
      "text/plain": [
       "<Figure size 432x288 with 1 Axes>"
      ]
     },
     "metadata": {
      "needs_background": "light",
      "tags": []
     },
     "output_type": "display_data"
    }
   ],
   "source": [
    "plt.scatter(X, y, color = 'red')\n",
    "plt.plot(X, lin_reg.predict(np.array(X).reshape(-1,1)), color = 'blue')\n",
    "plt.title('Total Cases v/s Total Deaths (Linear regression)')\n",
    "plt.xlabel('Total Cases')\n",
    "plt.ylabel('Total Deaths')\n",
    "plt.show()"
   ]
  },
  {
   "cell_type": "code",
   "execution_count": null,
   "metadata": {
    "id": "pEjRcaR5ukYD",
    "outputId": "9fa05738-b613-4a67-9f9d-d78fd56d34e4"
   },
   "outputs": [
    {
     "data": {
      "text/plain": [
       "LinearRegression(copy_X=True, fit_intercept=True, n_jobs=None, normalize=False)"
      ]
     },
     "execution_count": 38,
     "metadata": {
      "tags": []
     },
     "output_type": "execute_result"
    }
   ],
   "source": [
    "from sklearn.preprocessing import PolynomialFeatures\n",
    "poly_reg = PolynomialFeatures(degree = 4)\n",
    "X_poly = poly_reg.fit_transform(np.array(X_train).reshape(-1,1))\n",
    "lin_reg_2 = LinearRegression()\n",
    "lin_reg_2.fit(X_poly, y_train)"
   ]
  },
  {
   "cell_type": "code",
   "execution_count": null,
   "metadata": {
    "id": "rfcoFmjwukYD",
    "outputId": "47bfe371-00d4-4d0d-f910-bef3ec4ba0fa"
   },
   "outputs": [
    {
     "ename": "NameError",
     "evalue": "name 'y_test' is not defined",
     "output_type": "error",
     "traceback": [
      "\u001b[1;31m---------------------------------------------------------------------------\u001b[0m",
      "\u001b[1;31mNameError\u001b[0m                                 Traceback (most recent call last)",
      "\u001b[1;32m<ipython-input-1-d923b537cc7f>\u001b[0m in \u001b[0;36m<module>\u001b[1;34m\u001b[0m\n\u001b[0;32m      3\u001b[0m \u001b[1;32mfrom\u001b[0m \u001b[0msklearn\u001b[0m \u001b[1;32mimport\u001b[0m \u001b[0mlinear_model\u001b[0m\u001b[1;33m\u001b[0m\u001b[1;33m\u001b[0m\u001b[0m\n\u001b[0;32m      4\u001b[0m \u001b[1;33m\u001b[0m\u001b[0m\n\u001b[1;32m----> 5\u001b[1;33m \u001b[0mr2_score\u001b[0m\u001b[1;33m(\u001b[0m\u001b[0my_test\u001b[0m\u001b[1;33m,\u001b[0m \u001b[0mlin_reg_2\u001b[0m\u001b[1;33m.\u001b[0m\u001b[0mpredict\u001b[0m\u001b[1;33m(\u001b[0m\u001b[0mpoly_reg\u001b[0m\u001b[1;33m.\u001b[0m\u001b[0mfit_transform\u001b[0m\u001b[1;33m(\u001b[0m\u001b[0mnp\u001b[0m\u001b[1;33m.\u001b[0m\u001b[0marray\u001b[0m\u001b[1;33m(\u001b[0m\u001b[0mX_test\u001b[0m\u001b[1;33m)\u001b[0m\u001b[1;33m.\u001b[0m\u001b[0mreshpae\u001b[0m\u001b[1;33m(\u001b[0m\u001b[1;33m-\u001b[0m\u001b[1;36m1\u001b[0m\u001b[1;33m,\u001b[0m\u001b[1;36m1\u001b[0m\u001b[1;33m)\u001b[0m\u001b[1;33m)\u001b[0m\u001b[1;33m)\u001b[0m\u001b[1;33m)\u001b[0m\u001b[1;33m\u001b[0m\u001b[1;33m\u001b[0m\u001b[0m\n\u001b[0m",
      "\u001b[1;31mNameError\u001b[0m: name 'y_test' is not defined"
     ]
    }
   ],
   "source": [
    "#Polynomial Regression\n",
    "from sklearn.metrics import r2_score\n",
    "from sklearn import linear_model\n",
    "\n",
    "r2_score(y_test, lin_reg_2.predict(poly_reg.fit_transform(np.array(X_test).reshpae(-1,1))))"
   ]
  },
  {
   "cell_type": "code",
   "execution_count": null,
   "metadata": {
    "id": "ZmViSMtWukYE"
   },
   "outputs": [],
   "source": []
  }
 ],
 "metadata": {
  "colab": {
   "collapsed_sections": [],
   "name": "EncodeFeature-Copy1.ipynb",
   "provenance": []
  },
  "kernelspec": {
   "display_name": "Python 3",
   "language": "python",
   "name": "python3"
  },
  "language_info": {
   "codemirror_mode": {
    "name": "ipython",
    "version": 3
   },
   "file_extension": ".py",
   "mimetype": "text/x-python",
   "name": "python",
   "nbconvert_exporter": "python",
   "pygments_lexer": "ipython3",
   "version": "3.8.8"
  }
 },
 "nbformat": 4,
 "nbformat_minor": 1
}
