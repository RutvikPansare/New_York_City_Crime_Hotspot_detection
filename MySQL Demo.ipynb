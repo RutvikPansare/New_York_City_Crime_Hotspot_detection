{
 "cells": [
  {
   "cell_type": "code",
   "execution_count": 1,
   "metadata": {},
   "outputs": [],
   "source": [
    "import pandas as pd\n",
    "import numpy as np\n",
    "import matplotlib.pyplot as plt"
   ]
  },
  {
   "cell_type": "code",
   "execution_count": 2,
   "metadata": {},
   "outputs": [
    {
     "name": "stderr",
     "output_type": "stream",
     "text": [
      "C:\\Users\\Rutvik\\anaconda3\\lib\\site-packages\\IPython\\core\\interactiveshell.py:3165: DtypeWarning: Columns (20) have mixed types.Specify dtype option on import or set low_memory=False.\n",
      "  has_raised = await self.run_ast_nodes(code_ast.body, cell_name,\n"
     ]
    }
   ],
   "source": [
    "df = pd.read_csv('NYPD_Complaint_Data_Historic.csv',nrows = 1000000)"
   ]
  },
  {
   "cell_type": "code",
   "execution_count": 3,
   "metadata": {},
   "outputs": [],
   "source": [
    "df.to_csv('NY_1000000.csv')"
   ]
  },
  {
   "cell_type": "code",
   "execution_count": 4,
   "metadata": {},
   "outputs": [
    {
     "data": {
      "text/plain": [
       "(1000000, 35)"
      ]
     },
     "execution_count": 4,
     "metadata": {},
     "output_type": "execute_result"
    }
   ],
   "source": [
    "df.shape"
   ]
  },
  {
   "cell_type": "code",
   "execution_count": 5,
   "metadata": {
    "scrolled": true
   },
   "outputs": [
    {
     "data": {
      "text/plain": [
       "CMPLNT_NUM            0.0000\n",
       "CMPLNT_FR_DT          0.0031\n",
       "CMPLNT_FR_TM          0.0000\n",
       "CMPLNT_TO_DT         18.0641\n",
       "CMPLNT_TO_TM         18.0177\n",
       "ADDR_PCT_CD           0.0281\n",
       "RPT_DT                0.0000\n",
       "KY_CD                 0.0000\n",
       "OFNS_DESC             0.1465\n",
       "PD_CD                 0.1420\n",
       "PD_DESC               0.1420\n",
       "CRM_ATPT_CPTD_CD      0.0001\n",
       "LAW_CAT_CD            0.0000\n",
       "BORO_NM               0.1475\n",
       "LOC_OF_OCCUR_DESC    20.0150\n",
       "PREM_TYP_DESC         0.5187\n",
       "JURIS_DESC            0.0000\n",
       "JURISDICTION_CODE     0.1420\n",
       "PARKS_NM             99.3110\n",
       "HADEVELOPT           95.2591\n",
       "HOUSING_PSA          92.6795\n",
       "X_COORD_CD            0.5366\n",
       "Y_COORD_CD            0.5366\n",
       "SUSP_AGE_GROUP       44.3147\n",
       "SUSP_RACE            34.5941\n",
       "SUSP_SEX             34.6254\n",
       "TRANSIT_DISTRICT     97.5694\n",
       "Latitude              0.5366\n",
       "Longitude             0.5366\n",
       "Lat_Lon               0.5366\n",
       "PATROL_BORO           0.1494\n",
       "STATION_NAME         97.5694\n",
       "VIC_AGE_GROUP        11.4204\n",
       "VIC_RACE              0.0008\n",
       "VIC_SEX               0.0008\n",
       "dtype: float64"
      ]
     },
     "execution_count": 5,
     "metadata": {},
     "output_type": "execute_result"
    }
   ],
   "source": [
    "percent_missing = df.isnull().sum() * 100 / len(df)\n",
    "percent_missing"
   ]
  },
  {
   "cell_type": "code",
   "execution_count": 6,
   "metadata": {},
   "outputs": [
    {
     "data": {
      "text/plain": [
       "(1000000, 24)"
      ]
     },
     "execution_count": 6,
     "metadata": {},
     "output_type": "execute_result"
    }
   ],
   "source": [
    "# dropping rows with high missing values\n",
    "df = df.drop(columns = {'CMPLNT_TO_DT' , 'CMPLNT_TO_TM' , 'PD_CD' , 'PD_DESC' , 'JURISDICTION_CODE' , 'PARKS_NM' , 'HADEVELOPT' , 'HOUSING_PSA' , 'TRANSIT_DISTRICT' , 'PATROL_BORO' , 'STATION_NAME'})\n",
    "df.shape"
   ]
  },
  {
   "cell_type": "code",
   "execution_count": 7,
   "metadata": {},
   "outputs": [],
   "source": [
    "df2 = df.copy()\n",
    "def eliminate_nonsense_dates(x):\n",
    "    if x :\n",
    "        if x[2] > '2019':\n",
    "            x = None\n",
    "        elif x[2] < '2006':\n",
    "            x = None\n",
    "        else:\n",
    "            aa= '/'.join(x)\n",
    "            return (aa)\n",
    "df2.dropna(subset=['CMPLNT_FR_DT'], inplace=True) #drop empty dates\n",
    "df2['CMPLNT_FR_DT'] = df2['CMPLNT_FR_DT'].str.split(\"/\") #create a list for each value\n",
    "df2['CMPLNT_FR_DT'] = df2['CMPLNT_FR_DT'].apply(lambda x: eliminate_nonsense_dates(x))"
   ]
  },
  {
   "cell_type": "code",
   "execution_count": 8,
   "metadata": {},
   "outputs": [
    {
     "data": {
      "text/plain": [
       "CMPLNT_NUM                0\n",
       "CMPLNT_FR_DT              0\n",
       "CMPLNT_FR_TM              0\n",
       "ADDR_PCT_CD             261\n",
       "RPT_DT                    0\n",
       "KY_CD                     0\n",
       "OFNS_DESC              1463\n",
       "CRM_ATPT_CPTD_CD          1\n",
       "LAW_CAT_CD                0\n",
       "BORO_NM                1417\n",
       "LOC_OF_OCCUR_DESC    200072\n",
       "PREM_TYP_DESC          5119\n",
       "JURIS_DESC                0\n",
       "X_COORD_CD             5270\n",
       "Y_COORD_CD             5270\n",
       "SUSP_AGE_GROUP       442751\n",
       "SUSP_RACE            345650\n",
       "SUSP_SEX             345959\n",
       "Latitude               5270\n",
       "Longitude              5270\n",
       "Lat_Lon                5270\n",
       "VIC_AGE_GROUP        114165\n",
       "VIC_RACE                  8\n",
       "VIC_SEX                   8\n",
       "dtype: int64"
      ]
     },
     "execution_count": 8,
     "metadata": {},
     "output_type": "execute_result"
    }
   ],
   "source": [
    "df2.dropna(subset = ['CMPLNT_FR_DT'], axis = 0, how = 'any', inplace = True)\n",
    "df2.isnull().sum()"
   ]
  },
  {
   "cell_type": "code",
   "execution_count": 9,
   "metadata": {
    "scrolled": true
   },
   "outputs": [],
   "source": [
    "# fill NaN with UNKNOWN in few columns\n",
    "df2 = df2.fillna({\"LOC_OF_OCCUR_DESC\": \"UNKNOWN\", \"BORO_NM\": \"UNKNOWN\" , \"PREM_TYP_DESC\" : \"UNKNOWN\" , \"SUSP_AGE_GROUP\" : \"UNKNOWN\" , \"SUSP_RACE\" : \"UNKNOWN\" , \"SUSP_SEX\" : \"UNKNOWN\" , \"VIC_AGE_GROUP\" : \"UNKNOWN\" , \"VIC_RACE\": \"UNKNOWN\" , \"VIC_SEX\" : \"UNKNOWN\"})\n"
   ]
  },
  {
   "cell_type": "code",
   "execution_count": 10,
   "metadata": {},
   "outputs": [],
   "source": [
    "\n",
    "df2 = df2.drop(columns = {'ADDR_PCT_CD' ,'KY_CD','RPT_DT','X_COORD_CD', 'Y_COORD_CD', \n",
    "              'Latitude', 'Longitude', 'Lat_Lon', 'LOC_OF_OCCUR_DESC'})"
   ]
  },
  {
   "cell_type": "code",
   "execution_count": 11,
   "metadata": {},
   "outputs": [
    {
     "data": {
      "text/plain": [
       "CMPLNT_NUM          0\n",
       "CMPLNT_FR_DT        0\n",
       "CMPLNT_FR_TM        0\n",
       "OFNS_DESC           0\n",
       "CRM_ATPT_CPTD_CD    0\n",
       "LAW_CAT_CD          0\n",
       "BORO_NM             0\n",
       "PREM_TYP_DESC       0\n",
       "JURIS_DESC          0\n",
       "SUSP_AGE_GROUP      0\n",
       "SUSP_RACE           0\n",
       "SUSP_SEX            0\n",
       "VIC_AGE_GROUP       0\n",
       "VIC_RACE            0\n",
       "VIC_SEX             0\n",
       "dtype: int64"
      ]
     },
     "execution_count": 11,
     "metadata": {},
     "output_type": "execute_result"
    }
   ],
   "source": [
    "# Drop all the records with Nan values as their percentage is negligible\n",
    "df2.dropna(inplace = True)\n",
    "percent_missing = df2.isnull().sum()\n",
    "percent_missing"
   ]
  },
  {
   "cell_type": "code",
   "execution_count": 12,
   "metadata": {
    "scrolled": false
   },
   "outputs": [
    {
     "data": {
      "text/plain": [
       "(997550, 15)"
      ]
     },
     "execution_count": 12,
     "metadata": {},
     "output_type": "execute_result"
    }
   ],
   "source": [
    "age_groups = df2['SUSP_AGE_GROUP'].unique()\n",
    "df2.shape"
   ]
  },
  {
   "cell_type": "code",
   "execution_count": 13,
   "metadata": {},
   "outputs": [
    {
     "data": {
      "text/plain": [
       "array(['25-44', 'UNKNOWN', '45-64', '<18', '18-24', '65+', '-72', '-968',\n",
       "       '935', '-969', '2016', '929', '-1', '940', '1019', '2019', '-973',\n",
       "       '924', '-80', '947', '-966', '-64', '930', '-964', '1016', '-49',\n",
       "       '2017', '966', '-42', '923', '1014', '-965', '327'], dtype=object)"
      ]
     },
     "execution_count": 13,
     "metadata": {},
     "output_type": "execute_result"
    }
   ],
   "source": [
    "age_groups"
   ]
  },
  {
   "cell_type": "code",
   "execution_count": 14,
   "metadata": {},
   "outputs": [
    {
     "data": {
      "text/plain": [
       "array(['M', 'UNKNOWN', 'U', 'F'], dtype=object)"
      ]
     },
     "execution_count": 14,
     "metadata": {},
     "output_type": "execute_result"
    }
   ],
   "source": [
    "gender = df2['SUSP_SEX'].unique()\n",
    "gender"
   ]
  },
  {
   "cell_type": "code",
   "execution_count": 15,
   "metadata": {},
   "outputs": [
    {
     "data": {
      "text/plain": [
       "array(['BLACK', 'UNKNOWN', 'BLACK HISPANIC', 'WHITE', 'WHITE HISPANIC',\n",
       "       'ASIAN / PACIFIC ISLANDER', 'AMERICAN INDIAN/ALASKAN NATIVE',\n",
       "       'OTHER'], dtype=object)"
      ]
     },
     "execution_count": 15,
     "metadata": {},
     "output_type": "execute_result"
    }
   ],
   "source": [
    "race = df2['SUSP_RACE'].unique()\n",
    "race"
   ]
  },
  {
   "cell_type": "code",
   "execution_count": 16,
   "metadata": {},
   "outputs": [
    {
     "ename": "NameError",
     "evalue": "name 'df3' is not defined",
     "output_type": "error",
     "traceback": [
      "\u001b[1;31m---------------------------------------------------------------------------\u001b[0m",
      "\u001b[1;31mNameError\u001b[0m                                 Traceback (most recent call last)",
      "\u001b[1;32m<ipython-input-16-769a43463e76>\u001b[0m in \u001b[0;36m<module>\u001b[1;34m\u001b[0m\n\u001b[1;32m----> 1\u001b[1;33m \u001b[0mdf3\u001b[0m\u001b[1;33m.\u001b[0m\u001b[0munique\u001b[0m\u001b[1;33m(\u001b[0m\u001b[1;33m)\u001b[0m\u001b[1;33m\u001b[0m\u001b[1;33m\u001b[0m\u001b[0m\n\u001b[0m",
      "\u001b[1;31mNameError\u001b[0m: name 'df3' is not defined"
     ]
    }
   ],
   "source": [
    "\n",
    "df3.unique()"
   ]
  },
  {
   "cell_type": "code",
   "execution_count": null,
   "metadata": {},
   "outputs": [],
   "source": [
    "for i in df3.columns:\n",
    "    print(i)\n",
    "    print(df2[i].unique())\n"
   ]
  },
  {
   "cell_type": "code",
   "execution_count": 17,
   "metadata": {},
   "outputs": [],
   "source": [
    "val = ['25-44','45-64','<18','18-24','65+']\n",
    "df3 = df2.copy()\n",
    "\n",
    "df3 = df3[df3['SUSP_AGE_GROUP'].isin(val)]"
   ]
  },
  {
   "cell_type": "code",
   "execution_count": 18,
   "metadata": {},
   "outputs": [],
   "source": [
    "newdf = df3[df3['SUSP_AGE_GROUP'].isin(['25-44','45-64','<18','18-24','65+'])]"
   ]
  },
  {
   "cell_type": "code",
   "execution_count": 19,
   "metadata": {},
   "outputs": [
    {
     "data": {
      "text/plain": [
       "0         25-44\n",
       "6         25-44\n",
       "10        25-44\n",
       "11        25-44\n",
       "12        45-64\n",
       "          ...  \n",
       "999981    25-44\n",
       "999983    25-44\n",
       "999995      <18\n",
       "999996    18-24\n",
       "999998    25-44\n",
       "Name: SUSP_AGE_GROUP, Length: 370921, dtype: object"
      ]
     },
     "execution_count": 19,
     "metadata": {},
     "output_type": "execute_result"
    }
   ],
   "source": [
    "newdf['SUSP_AGE_GROUP']"
   ]
  },
  {
   "cell_type": "code",
   "execution_count": 20,
   "metadata": {},
   "outputs": [],
   "source": [
    "for i in df3['SUSP_AGE_GROUP']:\n",
    "    if i in val:\n",
    "        pass\n",
    "    else:\n",
    "        df3 = df3.drop(i)"
   ]
  },
  {
   "cell_type": "code",
   "execution_count": 21,
   "metadata": {},
   "outputs": [],
   "source": [
    "df4 = df3.copy()\n",
    "def eliminate_nonsense_dates(x):\n",
    "    if x :\n",
    "        if x[2] > '2019':\n",
    "            x = None\n",
    "        elif x[2] < '2006':\n",
    "            x = None\n",
    "        else:\n",
    "            aa= '/'.join(x)\n",
    "            return (aa)\n",
    "\n",
    "df4['CMPLNT_FR_DT'] = df4['CMPLNT_FR_DT'].str.split(\"/\") \n",
    "df4['CMPLNT_FR_DT'] = df4['CMPLNT_FR_DT'].apply(lambda x: eliminate_nonsense_dates(x))"
   ]
  },
  {
   "cell_type": "code",
   "execution_count": 22,
   "metadata": {},
   "outputs": [
    {
     "name": "stdout",
     "output_type": "stream",
     "text": [
      "CMPLNT_NUM\n",
      "[700381962 593660503 889259677 ... 740142093 787041474 112805704]\n",
      "CMPLNT_FR_DT\n",
      "['05/28/2015' '02/20/2012' '09/28/2012' ... '09/17/2007' '05/05/2010'\n",
      " '09/05/2010']\n",
      "CMPLNT_FR_TM\n",
      "['15:00:00' '01:30:00' '09:30:00' ... '07:57:00' '05:19:00' '06:19:00']\n",
      "OFNS_DESC\n",
      "['HARRASSMENT 2' 'ASSAULT 3 & RELATED OFFENSES' 'PETIT LARCENY'\n",
      " 'DANGEROUS DRUGS' 'INTOXICATED & IMPAIRED DRIVING' 'FELONY ASSAULT'\n",
      " 'OFF. AGNST PUB ORD SENSBLTY &' 'DANGEROUS WEAPONS'\n",
      " 'OFFENSES AGAINST PUBLIC ADMINI' 'RAPE' 'ROBBERY' 'GRAND LARCENY'\n",
      " 'CRIMINAL MISCHIEF & RELATED OF' 'MURDER & NON-NEGL. MANSLAUGHTER'\n",
      " 'BURGLARY' 'OFFENSES INVOLVING FRAUD' 'UNAUTHORIZED USE OF A VEHICLE'\n",
      " 'OTHER OFFENSES RELATED TO THEF' 'FRAUDS' 'CRIMINAL TRESPASS'\n",
      " 'VEHICLE AND TRAFFIC LAWS' 'SEX CRIMES' 'FORGERY'\n",
      " 'MISCELLANEOUS PENAL LAW' 'ADMINISTRATIVE CODE'\n",
      " 'POSSESSION OF STOLEN PROPERTY' 'NYS LAWS-UNCLASSIFIED FELONY' 'ARSON'\n",
      " 'OFFENSES AGAINST THE PERSON' \"BURGLAR'S TOOLS\" 'FRAUDULENT ACCOSTING'\n",
      " 'THEFT OF SERVICES' 'OTHER STATE LAWS' 'OTHER STATE LAWS (NON PENAL LA'\n",
      " 'THEFT-FRAUD' 'GRAND LARCENY OF MOTOR VEHICLE' 'ENDAN WELFARE INCOMP'\n",
      " 'KIDNAPPING & RELATED OFFENSES' 'AGRICULTURE & MRKTS LAW-UNCLASSIFIED'\n",
      " 'OFFENSES AGAINST PUBLIC SAFETY' 'GAMBLING' 'JOSTLING'\n",
      " 'PROSTITUTION & RELATED OFFENSES' 'CHILD ABANDONMENT/NON SUPPORT'\n",
      " 'DISORDERLY CONDUCT' 'ALCOHOLIC BEVERAGE CONTROL LAW'\n",
      " 'OFFENSES RELATED TO CHILDREN' 'DISRUPTION OF A RELIGIOUS SERV'\n",
      " 'LOITERING/GAMBLING (CARDS, DIC' 'HOMICIDE-NEGLIGENT,UNCLASSIFIE'\n",
      " 'ANTICIPATORY OFFENSES' 'ESCAPE 3' 'OTHER STATE LAWS (NON PENAL LAW)'\n",
      " 'OTHER TRAFFIC INFRACTION' 'UNLAWFUL POSS. WEAP. ON SCHOOL'\n",
      " 'HOMICIDE-NEGLIGENT-VEHICLE' 'PETIT LARCENY OF MOTOR VEHICLE'\n",
      " 'KIDNAPPING' 'KIDNAPPING AND RELATED OFFENSES'\n",
      " 'NYS LAWS-UNCLASSIFIED VIOLATION' 'FELONY SEX CRIMES'\n",
      " 'INTOXICATED/IMPAIRED DRIVING' 'LOITERING' 'NEW YORK CITY HEALTH CODE']\n",
      "CRM_ATPT_CPTD_CD\n",
      "['COMPLETED' 'ATTEMPTED']\n",
      "LAW_CAT_CD\n",
      "['VIOLATION' 'MISDEMEANOR' 'FELONY']\n",
      "BORO_NM\n",
      "['BRONX' 'MANHATTAN' 'BROOKLYN' 'STATEN ISLAND' 'QUEENS' 'UNKNOWN']\n",
      "PREM_TYP_DESC\n",
      "['RESIDENCE - APT. HOUSE' 'RESIDENCE-HOUSE' 'CHAIN STORE'\n",
      " 'RESIDENCE - PUBLIC HOUSING' 'RESTAURANT/DINER' 'STREET'\n",
      " 'DEPARTMENT STORE' 'TRANSIT - NYC SUBWAY' 'OTHER' 'BOOK/CARD'\n",
      " 'TRANSIT FACILITY (OTHER)' 'UNKNOWN' 'GROCERY/BODEGA'\n",
      " 'COMMERCIAL BUILDING' 'PUBLIC SCHOOL' 'AIRPORT TERMINAL'\n",
      " 'PARKING LOT/GARAGE (PRIVATE)' 'PARKING LOT/GARAGE (PUBLIC)'\n",
      " 'PUBLIC BUILDING' 'BANK' 'LIQUOR STORE' 'FAST FOOD' 'CHURCH'\n",
      " 'HOTEL/MOTEL' 'FOOD SUPERMARKET' 'TAXI (LIVERY LICENSED)' 'GAS STATION'\n",
      " 'DRY CLEANER/LAUNDRY' 'PARK/PLAYGROUND' 'DOCTOR/DENTIST OFFICE'\n",
      " 'DRUG STORE' 'BAR/NIGHT CLUB' 'CLOTHING/BOUTIQUE' 'HOSPITAL'\n",
      " 'TELECOMM. STORE' 'SMALL MERCHANT' 'CONSTRUCTION SITE'\n",
      " 'ABANDONED BUILDING' 'HIGHWAY/PARKWAY' 'TAXI (YELLOW LICENSED)'\n",
      " 'BUS (NYC TRANSIT)' 'GYM/FITNESS FACILITY' 'CHECK CASHING BUSINESS'\n",
      " 'VARIETY STORE' 'BRIDGE' 'STORE UNCLASSIFIED' 'FERRY/FERRY TERMINAL'\n",
      " 'BUS TERMINAL' 'BUS STOP' 'TUNNEL' 'OPEN AREAS (OPEN LOTS)'\n",
      " 'STORAGE FACILITY' 'VIDEO STORE' 'BEAUTY & NAIL SALON' 'ATM'\n",
      " 'SOCIAL CLUB/POLICY' 'MOSQUE' 'FACTORY/WAREHOUSE'\n",
      " 'PRIVATE/PAROCHIAL SCHOOL' 'TAXI/LIVERY (UNLICENSED)' 'PHOTO/COPY'\n",
      " 'CANDY STORE' 'SYNAGOGUE' 'MARINA/PIER' 'BUS (OTHER)' 'JEWELRY'\n",
      " 'LOAN COMPANY' 'OTHER HOUSE OF WORSHIP' 'SHOE' 'CEMETERY' 'TRAMWAY'\n",
      " 'HOMELESS SHELTER' 'MAILBOX OUTSIDE' 'MAILBOX INSIDE' 'DAYCARE FACILITY']\n",
      "JURIS_DESC\n",
      "['N.Y. POLICE DEPT' 'N.Y. HOUSING POLICE' 'N.Y. TRANSIT POLICE' 'OTHER'\n",
      " 'DEPT OF CORRECTIONS' 'PORT AUTHORITY' 'TRI-BORO BRDG TUNNL'\n",
      " 'HEALTH & HOSP CORP' 'METRO NORTH' 'N.Y. STATE POLICE'\n",
      " 'NEW YORK CITY SHERIFF OFFICE' 'N.Y. STATE PARKS' 'POLICE DEPT NYC'\n",
      " 'U.S. PARK POLICE' 'NYC PARKS' 'STATN IS RAPID TRANS'\n",
      " 'LONG ISLAND RAILRD' 'AMTRACK' 'NYS DEPT TAX AND FINANCE' 'CONRAIL']\n",
      "SUSP_AGE_GROUP\n",
      "['25-44' '45-64' '<18' '18-24' '65+']\n",
      "SUSP_RACE\n",
      "['BLACK' 'BLACK HISPANIC' 'WHITE' 'WHITE HISPANIC'\n",
      " 'ASIAN / PACIFIC ISLANDER' 'UNKNOWN' 'AMERICAN INDIAN/ALASKAN NATIVE'\n",
      " 'OTHER']\n",
      "SUSP_SEX\n",
      "['M' 'F' 'U']\n",
      "VIC_AGE_GROUP\n",
      "['25-44' '18-24' 'UNKNOWN' '45-64' '65+' '<18' '-980' '-72' '-966' '-970'\n",
      " '-978' '-2' '-934' '-56' '927' '951' '960' '-974' '936' '-967' '-69'\n",
      " '-942' '-954' '-71' '-943' '-3' '-948' '-931' '-972' '-7']\n",
      "VIC_RACE\n",
      "['WHITE HISPANIC' 'BLACK' 'BLACK HISPANIC' 'UNKNOWN'\n",
      " 'ASIAN / PACIFIC ISLANDER' 'WHITE' 'AMERICAN INDIAN/ALASKAN NATIVE'\n",
      " 'OTHER']\n",
      "VIC_SEX\n",
      "['F' 'D' 'E' 'M']\n"
     ]
    }
   ],
   "source": [
    "for i in df4.columns:\n",
    "    print(i)\n",
    "    print(df4[i].unique())"
   ]
  },
  {
   "cell_type": "code",
   "execution_count": 23,
   "metadata": {},
   "outputs": [
    {
     "data": {
      "text/html": [
       "<div>\n",
       "<style scoped>\n",
       "    .dataframe tbody tr th:only-of-type {\n",
       "        vertical-align: middle;\n",
       "    }\n",
       "\n",
       "    .dataframe tbody tr th {\n",
       "        vertical-align: top;\n",
       "    }\n",
       "\n",
       "    .dataframe thead th {\n",
       "        text-align: right;\n",
       "    }\n",
       "</style>\n",
       "<table border=\"1\" class=\"dataframe\">\n",
       "  <thead>\n",
       "    <tr style=\"text-align: right;\">\n",
       "      <th></th>\n",
       "      <th>CMPLNT_NUM</th>\n",
       "      <th>CMPLNT_FR_DT</th>\n",
       "      <th>CMPLNT_FR_TM</th>\n",
       "      <th>OFNS_DESC</th>\n",
       "      <th>CRM_ATPT_CPTD_CD</th>\n",
       "      <th>LAW_CAT_CD</th>\n",
       "      <th>BORO_NM</th>\n",
       "      <th>PREM_TYP_DESC</th>\n",
       "      <th>JURIS_DESC</th>\n",
       "      <th>SUSP_AGE_GROUP</th>\n",
       "      <th>SUSP_RACE</th>\n",
       "      <th>SUSP_SEX</th>\n",
       "      <th>VIC_AGE_GROUP</th>\n",
       "      <th>VIC_RACE</th>\n",
       "      <th>VIC_SEX</th>\n",
       "      <th>year</th>\n",
       "    </tr>\n",
       "  </thead>\n",
       "  <tbody>\n",
       "    <tr>\n",
       "      <th>0</th>\n",
       "      <td>700381962</td>\n",
       "      <td>2015-05-28</td>\n",
       "      <td>15:00:00</td>\n",
       "      <td>HARRASSMENT 2</td>\n",
       "      <td>COMPLETED</td>\n",
       "      <td>VIOLATION</td>\n",
       "      <td>BRONX</td>\n",
       "      <td>RESIDENCE - APT. HOUSE</td>\n",
       "      <td>N.Y. POLICE DEPT</td>\n",
       "      <td>25-44</td>\n",
       "      <td>BLACK</td>\n",
       "      <td>M</td>\n",
       "      <td>25-44</td>\n",
       "      <td>WHITE HISPANIC</td>\n",
       "      <td>F</td>\n",
       "      <td>2015</td>\n",
       "    </tr>\n",
       "    <tr>\n",
       "      <th>6</th>\n",
       "      <td>593660503</td>\n",
       "      <td>2012-02-20</td>\n",
       "      <td>01:30:00</td>\n",
       "      <td>ASSAULT 3 &amp; RELATED OFFENSES</td>\n",
       "      <td>COMPLETED</td>\n",
       "      <td>MISDEMEANOR</td>\n",
       "      <td>MANHATTAN</td>\n",
       "      <td>RESIDENCE - APT. HOUSE</td>\n",
       "      <td>N.Y. POLICE DEPT</td>\n",
       "      <td>25-44</td>\n",
       "      <td>BLACK</td>\n",
       "      <td>M</td>\n",
       "      <td>25-44</td>\n",
       "      <td>BLACK</td>\n",
       "      <td>F</td>\n",
       "      <td>2012</td>\n",
       "    </tr>\n",
       "    <tr>\n",
       "      <th>10</th>\n",
       "      <td>889259677</td>\n",
       "      <td>2012-09-28</td>\n",
       "      <td>09:30:00</td>\n",
       "      <td>HARRASSMENT 2</td>\n",
       "      <td>COMPLETED</td>\n",
       "      <td>VIOLATION</td>\n",
       "      <td>BRONX</td>\n",
       "      <td>RESIDENCE-HOUSE</td>\n",
       "      <td>N.Y. POLICE DEPT</td>\n",
       "      <td>25-44</td>\n",
       "      <td>BLACK HISPANIC</td>\n",
       "      <td>M</td>\n",
       "      <td>18-24</td>\n",
       "      <td>BLACK HISPANIC</td>\n",
       "      <td>F</td>\n",
       "      <td>2012</td>\n",
       "    </tr>\n",
       "    <tr>\n",
       "      <th>11</th>\n",
       "      <td>602484492</td>\n",
       "      <td>2017-03-26</td>\n",
       "      <td>12:00:00</td>\n",
       "      <td>PETIT LARCENY</td>\n",
       "      <td>COMPLETED</td>\n",
       "      <td>MISDEMEANOR</td>\n",
       "      <td>BROOKLYN</td>\n",
       "      <td>CHAIN STORE</td>\n",
       "      <td>N.Y. POLICE DEPT</td>\n",
       "      <td>25-44</td>\n",
       "      <td>WHITE</td>\n",
       "      <td>F</td>\n",
       "      <td>UNKNOWN</td>\n",
       "      <td>UNKNOWN</td>\n",
       "      <td>D</td>\n",
       "      <td>2017</td>\n",
       "    </tr>\n",
       "    <tr>\n",
       "      <th>12</th>\n",
       "      <td>331617213</td>\n",
       "      <td>2016-10-13</td>\n",
       "      <td>16:55:00</td>\n",
       "      <td>DANGEROUS DRUGS</td>\n",
       "      <td>COMPLETED</td>\n",
       "      <td>FELONY</td>\n",
       "      <td>MANHATTAN</td>\n",
       "      <td>RESIDENCE - PUBLIC HOUSING</td>\n",
       "      <td>N.Y. HOUSING POLICE</td>\n",
       "      <td>45-64</td>\n",
       "      <td>BLACK</td>\n",
       "      <td>M</td>\n",
       "      <td>UNKNOWN</td>\n",
       "      <td>UNKNOWN</td>\n",
       "      <td>E</td>\n",
       "      <td>2016</td>\n",
       "    </tr>\n",
       "  </tbody>\n",
       "</table>\n",
       "</div>"
      ],
      "text/plain": [
       "    CMPLNT_NUM CMPLNT_FR_DT CMPLNT_FR_TM                     OFNS_DESC  \\\n",
       "0    700381962   2015-05-28     15:00:00                 HARRASSMENT 2   \n",
       "6    593660503   2012-02-20     01:30:00  ASSAULT 3 & RELATED OFFENSES   \n",
       "10   889259677   2012-09-28     09:30:00                 HARRASSMENT 2   \n",
       "11   602484492   2017-03-26     12:00:00                 PETIT LARCENY   \n",
       "12   331617213   2016-10-13     16:55:00               DANGEROUS DRUGS   \n",
       "\n",
       "   CRM_ATPT_CPTD_CD   LAW_CAT_CD    BORO_NM               PREM_TYP_DESC  \\\n",
       "0         COMPLETED    VIOLATION      BRONX      RESIDENCE - APT. HOUSE   \n",
       "6         COMPLETED  MISDEMEANOR  MANHATTAN      RESIDENCE - APT. HOUSE   \n",
       "10        COMPLETED    VIOLATION      BRONX             RESIDENCE-HOUSE   \n",
       "11        COMPLETED  MISDEMEANOR   BROOKLYN                 CHAIN STORE   \n",
       "12        COMPLETED       FELONY  MANHATTAN  RESIDENCE - PUBLIC HOUSING   \n",
       "\n",
       "             JURIS_DESC SUSP_AGE_GROUP       SUSP_RACE SUSP_SEX VIC_AGE_GROUP  \\\n",
       "0      N.Y. POLICE DEPT          25-44           BLACK        M         25-44   \n",
       "6      N.Y. POLICE DEPT          25-44           BLACK        M         25-44   \n",
       "10     N.Y. POLICE DEPT          25-44  BLACK HISPANIC        M         18-24   \n",
       "11     N.Y. POLICE DEPT          25-44           WHITE        F       UNKNOWN   \n",
       "12  N.Y. HOUSING POLICE          45-64           BLACK        M       UNKNOWN   \n",
       "\n",
       "          VIC_RACE VIC_SEX  year  \n",
       "0   WHITE HISPANIC       F  2015  \n",
       "6            BLACK       F  2012  \n",
       "10  BLACK HISPANIC       F  2012  \n",
       "11         UNKNOWN       D  2017  \n",
       "12         UNKNOWN       E  2016  "
      ]
     },
     "execution_count": 23,
     "metadata": {},
     "output_type": "execute_result"
    }
   ],
   "source": [
    "from datetime import datetime\n",
    "\n",
    "dates =[]\n",
    "df4['CMPLNT_FR_DT'] = pd.to_datetime(df4['CMPLNT_FR_DT'])\n",
    "df4['year'] = pd. DatetimeIndex(df4['CMPLNT_FR_DT']).year\n",
    "df4.head()"
   ]
  },
  {
   "cell_type": "code",
   "execution_count": 24,
   "metadata": {},
   "outputs": [
    {
     "data": {
      "text/plain": [
       "0         2015\n",
       "6         2012\n",
       "10        2012\n",
       "11        2017\n",
       "12        2016\n",
       "          ... \n",
       "999981    2017\n",
       "999983    2017\n",
       "999995    2015\n",
       "999996    2016\n",
       "999998    2015\n",
       "Name: year, Length: 370921, dtype: int64"
      ]
     },
     "execution_count": 24,
     "metadata": {},
     "output_type": "execute_result"
    }
   ],
   "source": [
    "df4['year']"
   ]
  },
  {
   "cell_type": "code",
   "execution_count": 25,
   "metadata": {},
   "outputs": [
    {
     "data": {
      "text/plain": [
       "<AxesSubplot:xlabel='year'>"
      ]
     },
     "execution_count": 25,
     "metadata": {},
     "output_type": "execute_result"
    },
    {
     "data": {
      "image/png": "[encoded data removed]",
      "text/plain": [
       "<Figure size 432x288 with 1 Axes>"
      ]
     },
     "metadata": {
      "needs_background": "light"
     },
     "output_type": "display_data"
    }
   ],
   "source": [
    "df4.groupby(['year'])['OFNS_DESC'].count().plot(kind='bar')"
   ]
  },
  {
   "cell_type": "code",
   "execution_count": 26,
   "metadata": {},
   "outputs": [
    {
     "name": "stdout",
     "output_type": "stream",
     "text": [
      "{'BRONX': 89885, 'MANHATTAN': 84837, 'BROOKLYN': 105018, 'STATEN ISLAND': 16973, 'QUEENS': 73328, 'UNKNOWN': 880}\n"
     ]
    }
   ],
   "source": [
    "data = df4['BORO_NM']\n",
    "dict_boro ={}\n",
    "for i in data:\n",
    "    if i not in dict_boro:\n",
    "        dict_boro[i]= 1\n",
    "    else:\n",
    "         dict_boro[i]+= 1\n",
    "print(dict_boro)"
   ]
  },
  {
   "cell_type": "code",
   "execution_count": 27,
   "metadata": {},
   "outputs": [
    {
     "data": {
      "text/plain": [
       "[<matplotlib.lines.Line2D at 0x1ec946b1280>]"
      ]
     },
     "execution_count": 27,
     "metadata": {},
     "output_type": "execute_result"
    },
    {
     "data": {
      "image/png": "[encoded data removed]",
      "text/plain": [
       "<Figure size 1368x360 with 1 Axes>"
      ]
     },
     "metadata": {
      "needs_background": "light"
     },
     "output_type": "display_data"
    }
   ],
   "source": [
    "plt.figure(figsize=(19,5))\n",
    "mylist= dict_boro.values()\n",
    "mylist = list(mylist)\n",
    "plt.plot(dict_boro.keys(),dict_boro.values())\n"
   ]
  },
  {
   "cell_type": "code",
   "execution_count": 28,
   "metadata": {},
   "outputs": [
    {
     "data": {
      "text/html": [
       "<div>\n",
       "<style scoped>\n",
       "    .dataframe tbody tr th:only-of-type {\n",
       "        vertical-align: middle;\n",
       "    }\n",
       "\n",
       "    .dataframe tbody tr th {\n",
       "        vertical-align: top;\n",
       "    }\n",
       "\n",
       "    .dataframe thead th {\n",
       "        text-align: right;\n",
       "    }\n",
       "</style>\n",
       "<table border=\"1\" class=\"dataframe\">\n",
       "  <thead>\n",
       "    <tr style=\"text-align: right;\">\n",
       "      <th></th>\n",
       "      <th>CMPLNT_NUM</th>\n",
       "      <th>CMPLNT_FR_DT</th>\n",
       "      <th>CMPLNT_FR_TM</th>\n",
       "      <th>OFNS_DESC</th>\n",
       "      <th>CRM_ATPT_CPTD_CD</th>\n",
       "      <th>LAW_CAT_CD</th>\n",
       "      <th>BORO_NM</th>\n",
       "      <th>PREM_TYP_DESC</th>\n",
       "      <th>JURIS_DESC</th>\n",
       "      <th>SUSP_AGE_GROUP</th>\n",
       "      <th>SUSP_RACE</th>\n",
       "      <th>SUSP_SEX</th>\n",
       "      <th>VIC_AGE_GROUP</th>\n",
       "      <th>VIC_RACE</th>\n",
       "      <th>VIC_SEX</th>\n",
       "      <th>year</th>\n",
       "    </tr>\n",
       "  </thead>\n",
       "  <tbody>\n",
       "    <tr>\n",
       "      <th>0</th>\n",
       "      <td>700381962</td>\n",
       "      <td>2015-05-28</td>\n",
       "      <td>15:00:00</td>\n",
       "      <td>HARRASSMENT 2</td>\n",
       "      <td>COMPLETED</td>\n",
       "      <td>VIOLATION</td>\n",
       "      <td>BRONX</td>\n",
       "      <td>RESIDENCE - APT. HOUSE</td>\n",
       "      <td>N.Y. POLICE DEPT</td>\n",
       "      <td>25-44</td>\n",
       "      <td>BLACK</td>\n",
       "      <td>M</td>\n",
       "      <td>25-44</td>\n",
       "      <td>WHITE HISPANIC</td>\n",
       "      <td>F</td>\n",
       "      <td>2015</td>\n",
       "    </tr>\n",
       "    <tr>\n",
       "      <th>6</th>\n",
       "      <td>593660503</td>\n",
       "      <td>2012-02-20</td>\n",
       "      <td>01:30:00</td>\n",
       "      <td>ASSAULT 3 &amp; RELATED OFFENSES</td>\n",
       "      <td>COMPLETED</td>\n",
       "      <td>MISDEMEANOR</td>\n",
       "      <td>MANHATTAN</td>\n",
       "      <td>RESIDENCE - APT. HOUSE</td>\n",
       "      <td>N.Y. POLICE DEPT</td>\n",
       "      <td>25-44</td>\n",
       "      <td>BLACK</td>\n",
       "      <td>M</td>\n",
       "      <td>25-44</td>\n",
       "      <td>BLACK</td>\n",
       "      <td>F</td>\n",
       "      <td>2012</td>\n",
       "    </tr>\n",
       "    <tr>\n",
       "      <th>10</th>\n",
       "      <td>889259677</td>\n",
       "      <td>2012-09-28</td>\n",
       "      <td>09:30:00</td>\n",
       "      <td>HARRASSMENT 2</td>\n",
       "      <td>COMPLETED</td>\n",
       "      <td>VIOLATION</td>\n",
       "      <td>BRONX</td>\n",
       "      <td>RESIDENCE-HOUSE</td>\n",
       "      <td>N.Y. POLICE DEPT</td>\n",
       "      <td>25-44</td>\n",
       "      <td>BLACK HISPANIC</td>\n",
       "      <td>M</td>\n",
       "      <td>18-24</td>\n",
       "      <td>BLACK HISPANIC</td>\n",
       "      <td>F</td>\n",
       "      <td>2012</td>\n",
       "    </tr>\n",
       "    <tr>\n",
       "      <th>11</th>\n",
       "      <td>602484492</td>\n",
       "      <td>2017-03-26</td>\n",
       "      <td>12:00:00</td>\n",
       "      <td>PETIT LARCENY</td>\n",
       "      <td>COMPLETED</td>\n",
       "      <td>MISDEMEANOR</td>\n",
       "      <td>BROOKLYN</td>\n",
       "      <td>CHAIN STORE</td>\n",
       "      <td>N.Y. POLICE DEPT</td>\n",
       "      <td>25-44</td>\n",
       "      <td>WHITE</td>\n",
       "      <td>F</td>\n",
       "      <td>UNKNOWN</td>\n",
       "      <td>UNKNOWN</td>\n",
       "      <td>D</td>\n",
       "      <td>2017</td>\n",
       "    </tr>\n",
       "    <tr>\n",
       "      <th>12</th>\n",
       "      <td>331617213</td>\n",
       "      <td>2016-10-13</td>\n",
       "      <td>16:55:00</td>\n",
       "      <td>DANGEROUS DRUGS</td>\n",
       "      <td>COMPLETED</td>\n",
       "      <td>FELONY</td>\n",
       "      <td>MANHATTAN</td>\n",
       "      <td>RESIDENCE - PUBLIC HOUSING</td>\n",
       "      <td>N.Y. HOUSING POLICE</td>\n",
       "      <td>45-64</td>\n",
       "      <td>BLACK</td>\n",
       "      <td>M</td>\n",
       "      <td>UNKNOWN</td>\n",
       "      <td>UNKNOWN</td>\n",
       "      <td>E</td>\n",
       "      <td>2016</td>\n",
       "    </tr>\n",
       "  </tbody>\n",
       "</table>\n",
       "</div>"
      ],
      "text/plain": [
       "    CMPLNT_NUM CMPLNT_FR_DT CMPLNT_FR_TM                     OFNS_DESC  \\\n",
       "0    700381962   2015-05-28     15:00:00                 HARRASSMENT 2   \n",
       "6    593660503   2012-02-20     01:30:00  ASSAULT 3 & RELATED OFFENSES   \n",
       "10   889259677   2012-09-28     09:30:00                 HARRASSMENT 2   \n",
       "11   602484492   2017-03-26     12:00:00                 PETIT LARCENY   \n",
       "12   331617213   2016-10-13     16:55:00               DANGEROUS DRUGS   \n",
       "\n",
       "   CRM_ATPT_CPTD_CD   LAW_CAT_CD    BORO_NM               PREM_TYP_DESC  \\\n",
       "0         COMPLETED    VIOLATION      BRONX      RESIDENCE - APT. HOUSE   \n",
       "6         COMPLETED  MISDEMEANOR  MANHATTAN      RESIDENCE - APT. HOUSE   \n",
       "10        COMPLETED    VIOLATION      BRONX             RESIDENCE-HOUSE   \n",
       "11        COMPLETED  MISDEMEANOR   BROOKLYN                 CHAIN STORE   \n",
       "12        COMPLETED       FELONY  MANHATTAN  RESIDENCE - PUBLIC HOUSING   \n",
       "\n",
       "             JURIS_DESC SUSP_AGE_GROUP       SUSP_RACE SUSP_SEX VIC_AGE_GROUP  \\\n",
       "0      N.Y. POLICE DEPT          25-44           BLACK        M         25-44   \n",
       "6      N.Y. POLICE DEPT          25-44           BLACK        M         25-44   \n",
       "10     N.Y. POLICE DEPT          25-44  BLACK HISPANIC        M         18-24   \n",
       "11     N.Y. POLICE DEPT          25-44           WHITE        F       UNKNOWN   \n",
       "12  N.Y. HOUSING POLICE          45-64           BLACK        M       UNKNOWN   \n",
       "\n",
       "          VIC_RACE VIC_SEX  year  \n",
       "0   WHITE HISPANIC       F  2015  \n",
       "6            BLACK       F  2012  \n",
       "10  BLACK HISPANIC       F  2012  \n",
       "11         UNKNOWN       D  2017  \n",
       "12         UNKNOWN       E  2016  "
      ]
     },
     "execution_count": 28,
     "metadata": {},
     "output_type": "execute_result"
    }
   ],
   "source": [
    "include = df4[df4.year == 2019]\n",
    "df4.head()"
   ]
  },
  {
   "cell_type": "code",
   "execution_count": 29,
   "metadata": {},
   "outputs": [
    {
     "data": {
      "text/plain": [
       "<AxesSubplot:xlabel='LAW_CAT_CD'>"
      ]
     },
     "execution_count": 29,
     "metadata": {},
     "output_type": "execute_result"
    },
    {
     "data": {
      "text/plain": [
       "<Figure size 1512x360 with 0 Axes>"
      ]
     },
     "metadata": {},
     "output_type": "display_data"
    },
    {
     "data": {
      "image/png": "[encoded data removed]",
      "text/plain": [
       "<Figure size 432x288 with 1 Axes>"
      ]
     },
     "metadata": {
      "needs_background": "light"
     },
     "output_type": "display_data"
    }
   ],
   "source": [
    "vis0 = df4.groupby(\"SUSP_SEX\")[\"BORO_NM\"].count()\n",
    "vis0\n",
    "plt.figure(figsize=(21,5))\n",
    "include.groupby('year').LAW_CAT_CD.value_counts().unstack(0).plot.bar()\n"
   ]
  },
  {
   "cell_type": "code",
   "execution_count": 30,
   "metadata": {},
   "outputs": [
    {
     "data": {
      "text/plain": [
       "0          5\n",
       "6          2\n",
       "10         9\n",
       "11         3\n",
       "12        10\n",
       "          ..\n",
       "999981     5\n",
       "999983     4\n",
       "999995    12\n",
       "999996     2\n",
       "999998     5\n",
       "Name: CMPLNT_FR_DT, Length: 370921, dtype: int64"
      ]
     },
     "execution_count": 30,
     "metadata": {},
     "output_type": "execute_result"
    }
   ],
   "source": [
    "df4.CMPLNT_FR_DT.dt.month"
   ]
  },
  {
   "cell_type": "code",
   "execution_count": 31,
   "metadata": {},
   "outputs": [
    {
     "data": {
      "text/plain": [
       "<AxesSubplot:xlabel='LAW_CAT_CD'>"
      ]
     },
     "execution_count": 31,
     "metadata": {},
     "output_type": "execute_result"
    },
    {
     "data": {
      "image/png": "[encoded data removed]",
      "text/plain": [
       "<Figure size 432x288 with 1 Axes>"
      ]
     },
     "metadata": {
      "needs_background": "light"
     },
     "output_type": "display_data"
    }
   ],
   "source": [
    "include.groupby(df.LAW_CAT_CD).count().plot.bar()"
   ]
  },
  {
   "cell_type": "code",
   "execution_count": 49,
   "metadata": {},
   "outputs": [
    {
     "data": {
      "text/plain": [
       "0          5\n",
       "6          2\n",
       "10         9\n",
       "11         3\n",
       "12        10\n",
       "          ..\n",
       "999981     5\n",
       "999983     4\n",
       "999995    12\n",
       "999996     2\n",
       "999998     5\n",
       "Name: CMPLNT_FR_DT, Length: 370921, dtype: int64"
      ]
     },
     "execution_count": 49,
     "metadata": {},
     "output_type": "execute_result"
    }
   ],
   "source": [
    "dfMonth = df4.CMPLNT_FR_DT.dt.month\n",
    "dfMonth"
   ]
  },
  {
   "cell_type": "code",
   "execution_count": 46,
   "metadata": {},
   "outputs": [],
   "source": [
    "vis1 = df4.groupby(['CMPLNT_FR_DT','LAW_CAT_CD']).sum()\n",
    "df4.to_csv('NY_300k_clean.csv')"
   ]
  },
  {
   "cell_type": "code",
   "execution_count": 44,
   "metadata": {},
   "outputs": [
    {
     "data": {
      "text/plain": [
       "<bound method NDFrame.head of                           CMPLNT_NUM  CMPLNT_FR_TM  OFNS_DESC  \\\n",
       "CMPLNT_FR_DT LAW_CAT_CD                                         \n",
       "2006-01-01   FELONY                8             8          8   \n",
       "             MISDEMEANOR           7             7          7   \n",
       "2006-01-02   FELONY                1             1          1   \n",
       "             VIOLATION             1             1          1   \n",
       "2006-01-08   VIOLATION             1             1          1   \n",
       "...                              ...           ...        ...   \n",
       "2019-12-30   MISDEMEANOR         210           210        210   \n",
       "             VIOLATION            92            92         92   \n",
       "2019-12-31   FELONY               87            87         87   \n",
       "             MISDEMEANOR         165           165        165   \n",
       "             VIOLATION            77            77         77   \n",
       "\n",
       "                          CRM_ATPT_CPTD_CD  BORO_NM  PREM_TYP_DESC  \\\n",
       "CMPLNT_FR_DT LAW_CAT_CD                                              \n",
       "2006-01-01   FELONY                      8        8              8   \n",
       "             MISDEMEANOR                 7        7              7   \n",
       "2006-01-02   FELONY                      1        1              1   \n",
       "             VIOLATION                   1        1              1   \n",
       "2006-01-08   VIOLATION                   1        1              1   \n",
       "...                                    ...      ...            ...   \n",
       "2019-12-30   MISDEMEANOR               210      210            210   \n",
       "             VIOLATION                  92       92             92   \n",
       "2019-12-31   FELONY                     87       87             87   \n",
       "             MISDEMEANOR               165      165            165   \n",
       "             VIOLATION                  77       77             77   \n",
       "\n",
       "                          JURIS_DESC  SUSP_AGE_GROUP  SUSP_RACE  SUSP_SEX  \\\n",
       "CMPLNT_FR_DT LAW_CAT_CD                                                     \n",
       "2006-01-01   FELONY                8               8          8         8   \n",
       "             MISDEMEANOR           7               7          7         7   \n",
       "2006-01-02   FELONY                1               1          1         1   \n",
       "             VIOLATION             1               1          1         1   \n",
       "2006-01-08   VIOLATION             1               1          1         1   \n",
       "...                              ...             ...        ...       ...   \n",
       "2019-12-30   MISDEMEANOR         210             210        210       210   \n",
       "             VIOLATION            92              92         92        92   \n",
       "2019-12-31   FELONY               87              87         87        87   \n",
       "             MISDEMEANOR         165             165        165       165   \n",
       "             VIOLATION            77              77         77        77   \n",
       "\n",
       "                          VIC_AGE_GROUP  VIC_RACE  VIC_SEX  year  \n",
       "CMPLNT_FR_DT LAW_CAT_CD                                           \n",
       "2006-01-01   FELONY                   8         8        8     8  \n",
       "             MISDEMEANOR              7         7        7     7  \n",
       "2006-01-02   FELONY                   1         1        1     1  \n",
       "             VIOLATION                1         1        1     1  \n",
       "2006-01-08   VIOLATION                1         1        1     1  \n",
       "...                                 ...       ...      ...   ...  \n",
       "2019-12-30   MISDEMEANOR            210       210      210   210  \n",
       "             VIOLATION               92        92       92    92  \n",
       "2019-12-31   FELONY                  87        87       87    87  \n",
       "             MISDEMEANOR            165       165      165   165  \n",
       "             VIOLATION               77        77       77    77  \n",
       "\n",
       "[9558 rows x 14 columns]>"
      ]
     },
     "execution_count": 44,
     "metadata": {},
     "output_type": "execute_result"
    }
   ],
   "source": [
    "vis1.head"
   ]
  },
  {
   "cell_type": "code",
   "execution_count": null,
   "metadata": {},
   "outputs": [],
   "source": [
    "df = pd.read_csv('NYPD_Complaint_Data_Historic.csv')"
   ]
  },
  {
   "cell_type": "code",
   "execution_count": null,
   "metadata": {},
   "outputs": [],
   "source": []
  }
 ],
 "metadata": {
  "kernelspec": {
   "display_name": "Python 3",
   "language": "python",
   "name": "python3"
  },
  "language_info": {
   "codemirror_mode": {
    "name": "ipython",
    "version": 3
   },
   "file_extension": ".py",
   "mimetype": "text/x-python",
   "name": "python",
   "nbconvert_exporter": "python",
   "pygments_lexer": "ipython3",
   "version": "3.8.8"
  }
 },
 "nbformat": 4,
 "nbformat_minor": 2
}
