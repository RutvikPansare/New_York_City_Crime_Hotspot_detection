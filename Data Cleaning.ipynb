{
 "cells": [
  {
   "cell_type": "markdown",
   "metadata": {
    "id": "a22168b6"
   },
   "source": [
    "# Authors: \n",
    "         Rutvik Pansare       \n",
    "         Praksha maheshwari\n",
    "         Vishal Phaugat"
   ]
  },
  {
   "cell_type": "code",
   "execution_count": null,
   "metadata": {
    "id": "hPo1ORvquf6S"
   },
   "outputs": [],
   "source": [
    "import pandas as pd\n",
    "import numpy as np\n",
    "import matplotlib.pyplot as plt"
   ]
  },
  {
   "cell_type": "code",
   "execution_count": null,
   "metadata": {
    "id": "kIj2h3G6uf6W"
   },
   "outputs": [],
   "source": [
    "df = pd.read_csv('NYPD_Complaint_Data_Historic.csv')"
   ]
  },
  {
   "cell_type": "code",
   "execution_count": null,
   "metadata": {
    "id": "-i2hDmEkuf6Y",
    "outputId": "11cb5669-4855-444f-a560-fc5302adb740"
   },
   "outputs": [
    {
     "data": {
      "text/plain": [
       "(7396619, 35)"
      ]
     },
     "execution_count": 15,
     "metadata": {
      "tags": []
     },
     "output_type": "execute_result"
    }
   ],
   "source": [
    "df.shape"
   ]
  },
  {
   "cell_type": "code",
   "execution_count": null,
   "metadata": {
    "id": "K5tcoMOZuf6b",
    "outputId": "96de3b93-3066-43f9-e696-366a55ceafe4",
    "scrolled": true
   },
   "outputs": [
    {
     "data": {
      "text/plain": [
       "CMPLNT_NUM            0.000000\n",
       "CMPLNT_FR_DT          0.008855\n",
       "CMPLNT_FR_TM          0.000649\n",
       "CMPLNT_TO_DT         23.084601\n",
       "CMPLNT_TO_TM         23.021437\n",
       "ADDR_PCT_CD           0.029284\n",
       "RPT_DT                0.000000\n",
       "KY_CD                 0.000000\n",
       "OFNS_DESC             0.254589\n",
       "PD_CD                 0.085553\n",
       "PD_DESC               0.085553\n",
       "CRM_ATPT_CPTD_CD      0.000095\n",
       "LAW_CAT_CD            0.000000\n",
       "BORO_NM               0.153841\n",
       "LOC_OF_OCCUR_DESC    20.902496\n",
       "PREM_TYP_DESC         0.553009\n",
       "JURIS_DESC            0.000000\n",
       "JURISDICTION_CODE     0.085553\n",
       "PARKS_NM             99.625180\n",
       "HADEVELOPT           95.300583\n",
       "HOUSING_PSA          92.322492\n",
       "X_COORD_CD            0.325338\n",
       "Y_COORD_CD            0.325338\n",
       "SUSP_AGE_GROUP       64.927435\n",
       "SUSP_RACE            46.425184\n",
       "SUSP_SEX             48.227548\n",
       "TRANSIT_DISTRICT     97.778485\n",
       "Latitude              0.325338\n",
       "Longitude             0.325338\n",
       "Lat_Lon               0.325338\n",
       "PATROL_BORO           0.091731\n",
       "STATION_NAME         97.778485\n",
       "VIC_AGE_GROUP        22.151269\n",
       "VIC_RACE              0.004178\n",
       "VIC_SEX               0.004164\n",
       "dtype: float64"
      ]
     },
     "execution_count": 16,
     "metadata": {
      "tags": []
     },
     "output_type": "execute_result"
    }
   ],
   "source": [
    "percent_missing = df.isnull().sum() * 100 / len(df)\n",
    "percent_missing"
   ]
  },
  {
   "cell_type": "code",
   "execution_count": null,
   "metadata": {
    "id": "CKW3QBIBuf6d",
    "outputId": "20a48bca-2bf7-4cc6-8400-1e6ef8893978"
   },
   "outputs": [
    {
     "data": {
      "text/plain": [
       "(7396619, 20)"
      ]
     },
     "execution_count": 17,
     "metadata": {
      "tags": []
     },
     "output_type": "execute_result"
    }
   ],
   "source": [
    "# dropping rows with high missing values\n",
    "df = df.drop(columns = {'CMPLNT_TO_DT' , 'CMPLNT_TO_TM' , 'PD_CD' , 'PD_DESC' , 'JURISDICTION_CODE' , 'PARKS_NM' , 'HADEVELOPT' , 'HOUSING_PSA' , 'TRANSIT_DISTRICT' , 'PATROL_BORO' , 'STATION_NAME', 'ADDR_PCT_CD' ,'KY_CD','RPT_DT', 'LOC_OF_OCCUR_DESC'})\n",
    "df.shape"
   ]
  },
  {
   "cell_type": "code",
   "execution_count": null,
   "metadata": {
    "id": "tf5a2c2-uf6f"
   },
   "outputs": [],
   "source": [
    "df2 = df.copy()\n",
    "def eliminate_nonsense_dates(x):\n",
    "    if x :\n",
    "        if x[2] > '2019':\n",
    "            x = None\n",
    "        elif x[2] < '2006':\n",
    "            x = None\n",
    "        else:\n",
    "            aa= '/'.join(x)\n",
    "            return (aa)\n",
    "df2.dropna(subset=['CMPLNT_FR_DT'], inplace=True) #drop empty dates\n",
    "df2['CMPLNT_FR_DT'] = df2['CMPLNT_FR_DT'].str.split(\"/\") #create a list for each value\n",
    "df2['CMPLNT_FR_DT'] = df2['CMPLNT_FR_DT'].apply(lambda x: eliminate_nonsense_dates(x))"
   ]
  },
  {
   "cell_type": "code",
   "execution_count": null,
   "metadata": {
    "id": "h6HtgC5Auf6i",
    "outputId": "6ede37bf-987f-4ebf-ffb0-805986d65105"
   },
   "outputs": [
    {
     "data": {
      "text/plain": [
       "CMPLNT_NUM                0\n",
       "CMPLNT_FR_DT              0\n",
       "CMPLNT_FR_TM             47\n",
       "OFNS_DESC             18766\n",
       "CRM_ATPT_CPTD_CD          6\n",
       "LAW_CAT_CD                0\n",
       "BORO_NM               10720\n",
       "PREM_TYP_DESC         39463\n",
       "JURIS_DESC                0\n",
       "X_COORD_CD            23508\n",
       "Y_COORD_CD            23508\n",
       "SUSP_AGE_GROUP      4693957\n",
       "SUSP_RACE           3330405\n",
       "SUSP_SEX            3462717\n",
       "Latitude              23508\n",
       "Longitude             23508\n",
       "Lat_Lon               23508\n",
       "VIC_AGE_GROUP       1634905\n",
       "VIC_RACE                308\n",
       "VIC_SEX                 307\n",
       "dtype: int64"
      ]
     },
     "execution_count": 19,
     "metadata": {
      "tags": []
     },
     "output_type": "execute_result"
    }
   ],
   "source": [
    "df2.dropna(subset = ['CMPLNT_FR_DT'], axis = 0, how = 'any', inplace = True)\n",
    "df2.isnull().sum()"
   ]
  },
  {
   "cell_type": "code",
   "execution_count": null,
   "metadata": {
    "id": "tDyI54Mwuf6k",
    "scrolled": true
   },
   "outputs": [],
   "source": [
    "# fill NaN with UNKNOWN in few columns\n",
    "df2 = df2.fillna({\"BORO_NM\": \"UNKNOWN\" , \"PREM_TYP_DESC\" : \"UNKNOWN\" , \"SUSP_AGE_GROUP\" : \"UNKNOWN\" , \"SUSP_RACE\" : \"UNKNOWN\" , \"SUSP_SEX\" : \"UNKNOWN\" , \"VIC_AGE_GROUP\" : \"UNKNOWN\" , \"VIC_RACE\": \"UNKNOWN\" , \"VIC_SEX\" : \"UNKNOWN\"})\n"
   ]
  },
  {
   "cell_type": "code",
   "execution_count": null,
   "metadata": {
    "id": "AaHD6M0huf6m",
    "outputId": "de479e57-8763-4bfc-c58d-31e271930dda"
   },
   "outputs": [
    {
     "data": {
      "text/plain": [
       "(6970773, 20)"
      ]
     },
     "execution_count": 21,
     "metadata": {
      "tags": []
     },
     "output_type": "execute_result"
    }
   ],
   "source": [
    "df2.shape"
   ]
  },
  {
   "cell_type": "code",
   "execution_count": null,
   "metadata": {
    "id": "4NhMVtoJuf6o",
    "outputId": "681b6d3b-105c-499c-e4bf-96c837d5f32a"
   },
   "outputs": [
    {
     "data": {
      "text/plain": [
       "CMPLNT_NUM          0\n",
       "CMPLNT_FR_DT        0\n",
       "CMPLNT_FR_TM        0\n",
       "OFNS_DESC           0\n",
       "CRM_ATPT_CPTD_CD    0\n",
       "LAW_CAT_CD          0\n",
       "BORO_NM             0\n",
       "PREM_TYP_DESC       0\n",
       "JURIS_DESC          0\n",
       "X_COORD_CD          0\n",
       "Y_COORD_CD          0\n",
       "SUSP_AGE_GROUP      0\n",
       "SUSP_RACE           0\n",
       "SUSP_SEX            0\n",
       "Latitude            0\n",
       "Longitude           0\n",
       "Lat_Lon             0\n",
       "VIC_AGE_GROUP       0\n",
       "VIC_RACE            0\n",
       "VIC_SEX             0\n",
       "dtype: int64"
      ]
     },
     "execution_count": 22,
     "metadata": {
      "tags": []
     },
     "output_type": "execute_result"
    }
   ],
   "source": [
    "# Drop all the records with Nan values as their percentage is negligible\n",
    "df2.dropna(inplace = True)\n",
    "percent_missing = df2.isnull().sum()\n",
    "percent_missing"
   ]
  },
  {
   "cell_type": "code",
   "execution_count": null,
   "metadata": {
    "id": "nTwS219Kuf6r",
    "outputId": "0980ac16-32c2-4b49-a673-0d306859eca4",
    "scrolled": false
   },
   "outputs": [
    {
     "data": {
      "text/plain": [
       "(6928564, 20)"
      ]
     },
     "execution_count": 23,
     "metadata": {
      "tags": []
     },
     "output_type": "execute_result"
    }
   ],
   "source": [
    "age_groups = df2['SUSP_AGE_GROUP'].unique()\n",
    "df2.shape"
   ]
  },
  {
   "cell_type": "code",
   "execution_count": null,
   "metadata": {
    "id": "3WA7Ii8Yuf6t",
    "outputId": "b28067c2-2b7b-40e9-9023-385cf053335c"
   },
   "outputs": [
    {
     "data": {
      "text/plain": [
       "array(['25-44', 'UNKNOWN', '45-64', '<18', '18-24', '65+', '-72', '-968',\n",
       "       '935', '-969', '2016', '929', '-1', '940', '1019', '2019', '-973',\n",
       "       '924', '-80', '947', '-966', '-64', '930', '-964', '1016', '-49',\n",
       "       '2017', '966', '-42', '923', '1014', '-965', '327', '1017', '1933',\n",
       "       '-953', '945', '999', '-83', '942', '-2', '-975', '926', '-960',\n",
       "       '-948', '2015', '-981', '-979', '-972', '-65', '927', '934', '931',\n",
       "       '949', '-54', '-971', '944', '-67', '1932', '-955', '1053', '-976',\n",
       "       '-962', '938', '937', '309', '810', '946', '915', '709', '922',\n",
       "       '-963', '933', '-935', '914', '-974', '808', '-980', '1007',\n",
       "       '-985', '-970', '708', '-978', '952', '324', '814', '925', '809',\n",
       "       '936', '711', '972', '954', '2018', '955', '920', '1018', '928',\n",
       "       '-63', '1012', '-939', '-941', '1967', '948', '-928'], dtype=object)"
      ]
     },
     "execution_count": 24,
     "metadata": {
      "tags": []
     },
     "output_type": "execute_result"
    }
   ],
   "source": [
    "age_groups"
   ]
  },
  {
   "cell_type": "code",
   "execution_count": null,
   "metadata": {
    "id": "rdUeQlpfuf6u",
    "outputId": "35e30c3e-6bd5-4aff-d48d-3f7125d434f1"
   },
   "outputs": [
    {
     "data": {
      "text/plain": [
       "array(['M', 'UNKNOWN', 'U', 'F'], dtype=object)"
      ]
     },
     "execution_count": 25,
     "metadata": {
      "tags": []
     },
     "output_type": "execute_result"
    }
   ],
   "source": [
    "gender = df2['SUSP_SEX'].unique()\n",
    "gender"
   ]
  },
  {
   "cell_type": "code",
   "execution_count": null,
   "metadata": {
    "id": "PRMQID2zuf6w",
    "outputId": "a10cc215-5dad-47d4-d882-299f29968ad2"
   },
   "outputs": [
    {
     "data": {
      "text/plain": [
       "array(['BLACK', 'UNKNOWN', 'BLACK HISPANIC', 'WHITE', 'WHITE HISPANIC',\n",
       "       'ASIAN / PACIFIC ISLANDER', 'AMERICAN INDIAN/ALASKAN NATIVE',\n",
       "       'OTHER'], dtype=object)"
      ]
     },
     "execution_count": 26,
     "metadata": {
      "tags": []
     },
     "output_type": "execute_result"
    }
   ],
   "source": [
    "race = df2['SUSP_RACE'].unique()\n",
    "race"
   ]
  },
  {
   "cell_type": "code",
   "execution_count": null,
   "metadata": {
    "id": "KYRvNipPuf6y"
   },
   "outputs": [],
   "source": [
    "val = ['25-44','45-64','<18','18-24','65+']\n",
    "df3 = df2.copy()\n",
    "\n",
    "df3 = df3[df3['SUSP_AGE_GROUP'].isin(val)]"
   ]
  },
  {
   "cell_type": "code",
   "execution_count": null,
   "metadata": {
    "id": "WV-iZq_auf6z"
   },
   "outputs": [],
   "source": [
    "newdf = df3[df3['SUSP_AGE_GROUP'].isin(['25-44','45-64','<18','18-24','65+'])]"
   ]
  },
  {
   "cell_type": "code",
   "execution_count": null,
   "metadata": {
    "id": "qTWu2VRzuf60",
    "outputId": "23a69056-b7f7-4fb0-c7d9-fbdd45784c42"
   },
   "outputs": [
    {
     "data": {
      "text/plain": [
       "0          25-44\n",
       "6          25-44\n",
       "10         25-44\n",
       "11         25-44\n",
       "12         45-64\n",
       "           ...  \n",
       "7396533    25-44\n",
       "7396559    25-44\n",
       "7396574    25-44\n",
       "7396597      <18\n",
       "7396599    45-64\n",
       "Name: SUSP_AGE_GROUP, Length: 1730342, dtype: object"
      ]
     },
     "execution_count": 47,
     "metadata": {
      "tags": []
     },
     "output_type": "execute_result"
    }
   ],
   "source": [
    "newdf['SUSP_AGE_GROUP']"
   ]
  },
  {
   "cell_type": "code",
   "execution_count": null,
   "metadata": {
    "id": "neQOUEeCuf62"
   },
   "outputs": [],
   "source": [
    "for i in df3['SUSP_AGE_GROUP']:\n",
    "    if i in val:\n",
    "        pass\n",
    "    else:\n",
    "        df3 = df3.drop(i)"
   ]
  },
  {
   "cell_type": "code",
   "execution_count": null,
   "metadata": {
    "id": "Yc5tgtqXuf63"
   },
   "outputs": [],
   "source": [
    "df4 = df3.copy()\n",
    "def eliminate_nonsense_dates(x):\n",
    "    if x :\n",
    "        if x[2] > '2020':\n",
    "            x = None\n",
    "        elif x[2] < '2006':\n",
    "            x = None\n",
    "        else:\n",
    "            aa= '/'.join(x)\n",
    "            return (aa)\n",
    "\n",
    "df4['CMPLNT_FR_DT'] = df4['CMPLNT_FR_DT'].str.split(\"/\") \n",
    "df4['CMPLNT_FR_DT'] = df4['CMPLNT_FR_DT'].apply(lambda x: eliminate_nonsense_dates(x))"
   ]
  },
  {
   "cell_type": "code",
   "execution_count": null,
   "metadata": {
    "id": "EV7t_7nGuf64",
    "outputId": "128b15a8-bfc3-45bc-d2b9-df7f730e17f3"
   },
   "outputs": [
    {
     "name": "stdout",
     "output_type": "stream",
     "text": [
      "CMPLNT_NUM\n",
      "[700381962 593660503 889259677 ... 421479092 331017091 800011842]\n",
      "CMPLNT_FR_DT\n",
      "['05/28/2015' '02/20/2012' '09/28/2012' ... '03/13/2018' '02/06/2018'\n",
      " '03/02/2018']\n",
      "CMPLNT_FR_TM\n",
      "['15:00:00' '01:30:00' '09:30:00' ... '07:57:00' '05:19:00' '06:19:00']\n",
      "OFNS_DESC\n",
      "['HARRASSMENT 2' 'ASSAULT 3 & RELATED OFFENSES' 'PETIT LARCENY'\n",
      " 'DANGEROUS DRUGS' 'INTOXICATED & IMPAIRED DRIVING' 'FELONY ASSAULT'\n",
      " 'OFF. AGNST PUB ORD SENSBLTY &' 'DANGEROUS WEAPONS'\n",
      " 'OFFENSES AGAINST PUBLIC ADMINI' 'RAPE' 'ROBBERY' 'GRAND LARCENY'\n",
      " 'CRIMINAL MISCHIEF & RELATED OF' 'MURDER & NON-NEGL. MANSLAUGHTER'\n",
      " 'BURGLARY' 'OFFENSES INVOLVING FRAUD' 'UNAUTHORIZED USE OF A VEHICLE'\n",
      " 'OTHER OFFENSES RELATED TO THEF' 'FRAUDS' 'CRIMINAL TRESPASS'\n",
      " 'VEHICLE AND TRAFFIC LAWS' 'SEX CRIMES' 'FORGERY'\n",
      " 'MISCELLANEOUS PENAL LAW' 'ADMINISTRATIVE CODE'\n",
      " 'POSSESSION OF STOLEN PROPERTY' 'NYS LAWS-UNCLASSIFIED FELONY' 'ARSON'\n",
      " 'OFFENSES AGAINST THE PERSON' \"BURGLAR'S TOOLS\" 'FRAUDULENT ACCOSTING'\n",
      " 'THEFT OF SERVICES' 'OTHER STATE LAWS' 'OTHER STATE LAWS (NON PENAL LA'\n",
      " 'THEFT-FRAUD' 'GRAND LARCENY OF MOTOR VEHICLE' 'ENDAN WELFARE INCOMP'\n",
      " 'KIDNAPPING & RELATED OFFENSES' 'AGRICULTURE & MRKTS LAW-UNCLASSIFIED'\n",
      " 'OFFENSES AGAINST PUBLIC SAFETY' 'GAMBLING' 'JOSTLING'\n",
      " 'PROSTITUTION & RELATED OFFENSES' 'CHILD ABANDONMENT/NON SUPPORT'\n",
      " 'DISORDERLY CONDUCT' 'ALCOHOLIC BEVERAGE CONTROL LAW'\n",
      " 'OFFENSES RELATED TO CHILDREN' 'DISRUPTION OF A RELIGIOUS SERV'\n",
      " 'LOITERING/GAMBLING (CARDS, DIC' 'HOMICIDE-NEGLIGENT,UNCLASSIFIE'\n",
      " 'ANTICIPATORY OFFENSES' 'ESCAPE 3' 'OTHER STATE LAWS (NON PENAL LAW)'\n",
      " 'OTHER TRAFFIC INFRACTION' 'UNLAWFUL POSS. WEAP. ON SCHOOL'\n",
      " 'HOMICIDE-NEGLIGENT-VEHICLE' 'PETIT LARCENY OF MOTOR VEHICLE'\n",
      " 'KIDNAPPING' 'KIDNAPPING AND RELATED OFFENSES'\n",
      " 'NYS LAWS-UNCLASSIFIED VIOLATION' 'FELONY SEX CRIMES'\n",
      " 'INTOXICATED/IMPAIRED DRIVING' 'LOITERING' 'NEW YORK CITY HEALTH CODE'\n",
      " 'ABORTION' 'ADMINISTRATIVE CODES' 'UNDER THE INFLUENCE OF DRUGS'\n",
      " 'FORTUNE TELLING' 'OFFENSES AGAINST MARRIAGE UNCL']\n",
      "CRM_ATPT_CPTD_CD\n",
      "['COMPLETED' 'ATTEMPTED']\n",
      "LAW_CAT_CD\n",
      "['VIOLATION' 'MISDEMEANOR' 'FELONY']\n",
      "BORO_NM\n",
      "['BRONX' 'MANHATTAN' 'BROOKLYN' 'STATEN ISLAND' 'QUEENS' 'UNKNOWN']\n",
      "PREM_TYP_DESC\n",
      "['RESIDENCE - APT. HOUSE' 'RESIDENCE-HOUSE' 'CHAIN STORE'\n",
      " 'RESIDENCE - PUBLIC HOUSING' 'RESTAURANT/DINER' 'STREET'\n",
      " 'DEPARTMENT STORE' 'TRANSIT - NYC SUBWAY' 'OTHER' 'BOOK/CARD'\n",
      " 'TRANSIT FACILITY (OTHER)' 'UNKNOWN' 'GROCERY/BODEGA'\n",
      " 'COMMERCIAL BUILDING' 'PUBLIC SCHOOL' 'AIRPORT TERMINAL'\n",
      " 'PARKING LOT/GARAGE (PRIVATE)' 'PARKING LOT/GARAGE (PUBLIC)'\n",
      " 'PUBLIC BUILDING' 'BANK' 'LIQUOR STORE' 'FAST FOOD' 'CHURCH'\n",
      " 'HOTEL/MOTEL' 'FOOD SUPERMARKET' 'TAXI (LIVERY LICENSED)' 'GAS STATION'\n",
      " 'DRY CLEANER/LAUNDRY' 'PARK/PLAYGROUND' 'DOCTOR/DENTIST OFFICE'\n",
      " 'DRUG STORE' 'BAR/NIGHT CLUB' 'CLOTHING/BOUTIQUE' 'HOSPITAL'\n",
      " 'TELECOMM. STORE' 'SMALL MERCHANT' 'CONSTRUCTION SITE'\n",
      " 'ABANDONED BUILDING' 'HIGHWAY/PARKWAY' 'TAXI (YELLOW LICENSED)'\n",
      " 'BUS (NYC TRANSIT)' 'GYM/FITNESS FACILITY' 'CHECK CASHING BUSINESS'\n",
      " 'VARIETY STORE' 'BRIDGE' 'STORE UNCLASSIFIED' 'FERRY/FERRY TERMINAL'\n",
      " 'BUS TERMINAL' 'BUS STOP' 'TUNNEL' 'OPEN AREAS (OPEN LOTS)'\n",
      " 'STORAGE FACILITY' 'VIDEO STORE' 'BEAUTY & NAIL SALON' 'ATM'\n",
      " 'SOCIAL CLUB/POLICY' 'MOSQUE' 'FACTORY/WAREHOUSE'\n",
      " 'PRIVATE/PAROCHIAL SCHOOL' 'TAXI/LIVERY (UNLICENSED)' 'PHOTO/COPY'\n",
      " 'CANDY STORE' 'SYNAGOGUE' 'MARINA/PIER' 'BUS (OTHER)' 'JEWELRY'\n",
      " 'LOAN COMPANY' 'OTHER HOUSE OF WORSHIP' 'SHOE' 'CEMETERY' 'TRAMWAY'\n",
      " 'HOMELESS SHELTER' 'MAILBOX OUTSIDE' 'MAILBOX INSIDE' 'DAYCARE FACILITY']\n",
      "JURIS_DESC\n",
      "['N.Y. POLICE DEPT' 'N.Y. HOUSING POLICE' 'N.Y. TRANSIT POLICE' 'OTHER'\n",
      " 'DEPT OF CORRECTIONS' 'PORT AUTHORITY' 'TRI-BORO BRDG TUNNL'\n",
      " 'HEALTH & HOSP CORP' 'METRO NORTH' 'N.Y. STATE POLICE'\n",
      " 'NEW YORK CITY SHERIFF OFFICE' 'N.Y. STATE PARKS' 'POLICE DEPT NYC'\n",
      " 'U.S. PARK POLICE' 'NYC PARKS' 'STATN IS RAPID TRANS'\n",
      " 'LONG ISLAND RAILRD' 'AMTRACK' 'NYS DEPT TAX AND FINANCE' 'CONRAIL'\n",
      " 'NYC DEPT ENVIRONMENTAL PROTECTION' 'FIRE DEPT (FIRE MARSHAL)'\n",
      " 'SEA GATE POLICE DEPT']\n",
      "X_COORD_CD\n",
      "[1007522. 1000693. 1026591. ...  991916. 1016297.  933961.]\n",
      "Y_COORD_CD\n",
      "[247458. 234939. 259192. ... 157514. 227336. 142407.]\n",
      "SUSP_AGE_GROUP\n",
      "['25-44' '45-64' '<18' '18-24' '65+']\n",
      "SUSP_RACE\n",
      "['BLACK' 'BLACK HISPANIC' 'WHITE' 'WHITE HISPANIC'\n",
      " 'ASIAN / PACIFIC ISLANDER' 'UNKNOWN' 'AMERICAN INDIAN/ALASKAN NATIVE'\n",
      " 'OTHER']\n",
      "SUSP_SEX\n",
      "['M' 'F' 'U' 'UNKNOWN']\n",
      "Latitude\n",
      "[40.84586773 40.81152201 40.87800313 ... 40.79061105 40.55741566\n",
      " 40.73454164]\n",
      "Longitude\n",
      "[-73.91588803 -73.94060118 -73.84689176 ... -73.88426813 -74.18097941\n",
      " -73.99226881]\n",
      "Lat_Lon\n",
      "['(40.84586773, -73.915888033)' '(40.811522012, -73.940601181)'\n",
      " '(40.878003133, -73.846891755)' ...\n",
      " '(40.73454164300006, -73.99226881299995)'\n",
      " '(40.63898417600007, -74.17125230499995)'\n",
      " '(40.62141559900005, -74.08007850499997)']\n",
      "VIC_AGE_GROUP\n",
      "['25-44' '18-24' 'UNKNOWN' '45-64' '65+' '<18' '-980' '-72' '-966' '-970'\n",
      " '-978' '-2' '-934' '-56' '927' '951' '960' '-974' '936' '-967' '-69'\n",
      " '-942' '-954' '-71' '-943' '-3' '-948' '-931' '-972' '-7' '-53' '-65'\n",
      " '-936' '-40' '-61' '-55' '-964' '-950' '-884' '-48' '-945' '-36' '-63'\n",
      " '-52' '-32' '922' '928' '810' '-959' '152' '941' '151' '-952' '709' '946'\n",
      " '-85' '838' '949' '809' '-958' '311' '-973' '932' '929' '925' '-955'\n",
      " '707' '952' '918' '940' '324' '-982' '943' '934' '937' '806' '913' '-929'\n",
      " '-1' '926' '1012' '977' '950' '-76' '953' '970' '1017' '-59']\n",
      "VIC_RACE\n",
      "['WHITE HISPANIC' 'BLACK' 'BLACK HISPANIC' 'UNKNOWN'\n",
      " 'ASIAN / PACIFIC ISLANDER' 'WHITE' 'AMERICAN INDIAN/ALASKAN NATIVE'\n",
      " 'OTHER']\n",
      "VIC_SEX\n",
      "['F' 'D' 'E' 'M' 'UNKNOWN' 'U']\n"
     ]
    }
   ],
   "source": [
    "for i in df4.columns:\n",
    "    print(i)\n",
    "    print(df4[i].unique())"
   ]
  },
  {
   "cell_type": "code",
   "execution_count": null,
   "metadata": {
    "id": "JYjq80U1uf66",
    "outputId": "901283a8-49d3-4edd-92cd-106aa9c247ab"
   },
   "outputs": [
    {
     "data": {
      "text/html": [
       "<div>\n",
       "<style scoped>\n",
       "    .dataframe tbody tr th:only-of-type {\n",
       "        vertical-align: middle;\n",
       "    }\n",
       "\n",
       "    .dataframe tbody tr th {\n",
       "        vertical-align: top;\n",
       "    }\n",
       "\n",
       "    .dataframe thead th {\n",
       "        text-align: right;\n",
       "    }\n",
       "</style>\n",
       "<table border=\"1\" class=\"dataframe\">\n",
       "  <thead>\n",
       "    <tr style=\"text-align: right;\">\n",
       "      <th></th>\n",
       "      <th>CMPLNT_NUM</th>\n",
       "      <th>CMPLNT_FR_DT</th>\n",
       "      <th>CMPLNT_FR_TM</th>\n",
       "      <th>OFNS_DESC</th>\n",
       "      <th>CRM_ATPT_CPTD_CD</th>\n",
       "      <th>LAW_CAT_CD</th>\n",
       "      <th>BORO_NM</th>\n",
       "      <th>PREM_TYP_DESC</th>\n",
       "      <th>JURIS_DESC</th>\n",
       "      <th>X_COORD_CD</th>\n",
       "      <th>...</th>\n",
       "      <th>SUSP_AGE_GROUP</th>\n",
       "      <th>SUSP_RACE</th>\n",
       "      <th>SUSP_SEX</th>\n",
       "      <th>Latitude</th>\n",
       "      <th>Longitude</th>\n",
       "      <th>Lat_Lon</th>\n",
       "      <th>VIC_AGE_GROUP</th>\n",
       "      <th>VIC_RACE</th>\n",
       "      <th>VIC_SEX</th>\n",
       "      <th>YEAR</th>\n",
       "    </tr>\n",
       "  </thead>\n",
       "  <tbody>\n",
       "    <tr>\n",
       "      <td>0</td>\n",
       "      <td>700381962</td>\n",
       "      <td>2015-05-28</td>\n",
       "      <td>15:00:00</td>\n",
       "      <td>HARRASSMENT 2</td>\n",
       "      <td>COMPLETED</td>\n",
       "      <td>VIOLATION</td>\n",
       "      <td>BRONX</td>\n",
       "      <td>RESIDENCE - APT. HOUSE</td>\n",
       "      <td>N.Y. POLICE DEPT</td>\n",
       "      <td>1007522.0</td>\n",
       "      <td>...</td>\n",
       "      <td>25-44</td>\n",
       "      <td>BLACK</td>\n",
       "      <td>M</td>\n",
       "      <td>40.845868</td>\n",
       "      <td>-73.915888</td>\n",
       "      <td>(40.84586773, -73.915888033)</td>\n",
       "      <td>25-44</td>\n",
       "      <td>WHITE HISPANIC</td>\n",
       "      <td>F</td>\n",
       "      <td>2015</td>\n",
       "    </tr>\n",
       "    <tr>\n",
       "      <td>6</td>\n",
       "      <td>593660503</td>\n",
       "      <td>2012-02-20</td>\n",
       "      <td>01:30:00</td>\n",
       "      <td>ASSAULT 3 &amp; RELATED OFFENSES</td>\n",
       "      <td>COMPLETED</td>\n",
       "      <td>MISDEMEANOR</td>\n",
       "      <td>MANHATTAN</td>\n",
       "      <td>RESIDENCE - APT. HOUSE</td>\n",
       "      <td>N.Y. POLICE DEPT</td>\n",
       "      <td>1000693.0</td>\n",
       "      <td>...</td>\n",
       "      <td>25-44</td>\n",
       "      <td>BLACK</td>\n",
       "      <td>M</td>\n",
       "      <td>40.811522</td>\n",
       "      <td>-73.940601</td>\n",
       "      <td>(40.811522012, -73.940601181)</td>\n",
       "      <td>25-44</td>\n",
       "      <td>BLACK</td>\n",
       "      <td>F</td>\n",
       "      <td>2012</td>\n",
       "    </tr>\n",
       "    <tr>\n",
       "      <td>10</td>\n",
       "      <td>889259677</td>\n",
       "      <td>2012-09-28</td>\n",
       "      <td>09:30:00</td>\n",
       "      <td>HARRASSMENT 2</td>\n",
       "      <td>COMPLETED</td>\n",
       "      <td>VIOLATION</td>\n",
       "      <td>BRONX</td>\n",
       "      <td>RESIDENCE-HOUSE</td>\n",
       "      <td>N.Y. POLICE DEPT</td>\n",
       "      <td>1026591.0</td>\n",
       "      <td>...</td>\n",
       "      <td>25-44</td>\n",
       "      <td>BLACK HISPANIC</td>\n",
       "      <td>M</td>\n",
       "      <td>40.878003</td>\n",
       "      <td>-73.846892</td>\n",
       "      <td>(40.878003133, -73.846891755)</td>\n",
       "      <td>18-24</td>\n",
       "      <td>BLACK HISPANIC</td>\n",
       "      <td>F</td>\n",
       "      <td>2012</td>\n",
       "    </tr>\n",
       "    <tr>\n",
       "      <td>11</td>\n",
       "      <td>602484492</td>\n",
       "      <td>2017-03-26</td>\n",
       "      <td>12:00:00</td>\n",
       "      <td>PETIT LARCENY</td>\n",
       "      <td>COMPLETED</td>\n",
       "      <td>MISDEMEANOR</td>\n",
       "      <td>BROOKLYN</td>\n",
       "      <td>CHAIN STORE</td>\n",
       "      <td>N.Y. POLICE DEPT</td>\n",
       "      <td>999240.0</td>\n",
       "      <td>...</td>\n",
       "      <td>25-44</td>\n",
       "      <td>WHITE</td>\n",
       "      <td>F</td>\n",
       "      <td>40.631257</td>\n",
       "      <td>-73.945996</td>\n",
       "      <td>(40.63125716, -73.945996398)</td>\n",
       "      <td>UNKNOWN</td>\n",
       "      <td>UNKNOWN</td>\n",
       "      <td>D</td>\n",
       "      <td>2017</td>\n",
       "    </tr>\n",
       "    <tr>\n",
       "      <td>12</td>\n",
       "      <td>331617213</td>\n",
       "      <td>2016-10-13</td>\n",
       "      <td>16:55:00</td>\n",
       "      <td>DANGEROUS DRUGS</td>\n",
       "      <td>COMPLETED</td>\n",
       "      <td>FELONY</td>\n",
       "      <td>MANHATTAN</td>\n",
       "      <td>RESIDENCE - PUBLIC HOUSING</td>\n",
       "      <td>N.Y. HOUSING POLICE</td>\n",
       "      <td>998007.0</td>\n",
       "      <td>...</td>\n",
       "      <td>45-64</td>\n",
       "      <td>BLACK</td>\n",
       "      <td>M</td>\n",
       "      <td>40.798964</td>\n",
       "      <td>-73.950314</td>\n",
       "      <td>(40.798963998, -73.95031372)</td>\n",
       "      <td>UNKNOWN</td>\n",
       "      <td>UNKNOWN</td>\n",
       "      <td>E</td>\n",
       "      <td>2016</td>\n",
       "    </tr>\n",
       "  </tbody>\n",
       "</table>\n",
       "<p>5 rows × 21 columns</p>\n",
       "</div>"
      ],
      "text/plain": [
       "    CMPLNT_NUM CMPLNT_FR_DT CMPLNT_FR_TM                     OFNS_DESC  \\\n",
       "0    700381962   2015-05-28     15:00:00                 HARRASSMENT 2   \n",
       "6    593660503   2012-02-20     01:30:00  ASSAULT 3 & RELATED OFFENSES   \n",
       "10   889259677   2012-09-28     09:30:00                 HARRASSMENT 2   \n",
       "11   602484492   2017-03-26     12:00:00                 PETIT LARCENY   \n",
       "12   331617213   2016-10-13     16:55:00               DANGEROUS DRUGS   \n",
       "\n",
       "   CRM_ATPT_CPTD_CD   LAW_CAT_CD    BORO_NM               PREM_TYP_DESC  \\\n",
       "0         COMPLETED    VIOLATION      BRONX      RESIDENCE - APT. HOUSE   \n",
       "6         COMPLETED  MISDEMEANOR  MANHATTAN      RESIDENCE - APT. HOUSE   \n",
       "10        COMPLETED    VIOLATION      BRONX             RESIDENCE-HOUSE   \n",
       "11        COMPLETED  MISDEMEANOR   BROOKLYN                 CHAIN STORE   \n",
       "12        COMPLETED       FELONY  MANHATTAN  RESIDENCE - PUBLIC HOUSING   \n",
       "\n",
       "             JURIS_DESC  X_COORD_CD  ...  SUSP_AGE_GROUP       SUSP_RACE  \\\n",
       "0      N.Y. POLICE DEPT   1007522.0  ...           25-44           BLACK   \n",
       "6      N.Y. POLICE DEPT   1000693.0  ...           25-44           BLACK   \n",
       "10     N.Y. POLICE DEPT   1026591.0  ...           25-44  BLACK HISPANIC   \n",
       "11     N.Y. POLICE DEPT    999240.0  ...           25-44           WHITE   \n",
       "12  N.Y. HOUSING POLICE    998007.0  ...           45-64           BLACK   \n",
       "\n",
       "   SUSP_SEX   Latitude  Longitude                        Lat_Lon  \\\n",
       "0         M  40.845868 -73.915888   (40.84586773, -73.915888033)   \n",
       "6         M  40.811522 -73.940601  (40.811522012, -73.940601181)   \n",
       "10        M  40.878003 -73.846892  (40.878003133, -73.846891755)   \n",
       "11        F  40.631257 -73.945996   (40.63125716, -73.945996398)   \n",
       "12        M  40.798964 -73.950314   (40.798963998, -73.95031372)   \n",
       "\n",
       "   VIC_AGE_GROUP        VIC_RACE VIC_SEX  YEAR  \n",
       "0          25-44  WHITE HISPANIC       F  2015  \n",
       "6          25-44           BLACK       F  2012  \n",
       "10         18-24  BLACK HISPANIC       F  2012  \n",
       "11       UNKNOWN         UNKNOWN       D  2017  \n",
       "12       UNKNOWN         UNKNOWN       E  2016  \n",
       "\n",
       "[5 rows x 21 columns]"
      ]
     },
     "execution_count": 51,
     "metadata": {
      "tags": []
     },
     "output_type": "execute_result"
    }
   ],
   "source": [
    "from datetime import datetime\n",
    "\n",
    "dates =[]\n",
    "df4['CMPLNT_FR_DT'] = pd.to_datetime(df4['CMPLNT_FR_DT'])\n",
    "df4['YEAR'] = pd. DatetimeIndex(df4['CMPLNT_FR_DT']).year\n",
    "df4.head()"
   ]
  },
  {
   "cell_type": "code",
   "execution_count": null,
   "metadata": {
    "id": "cHy0iYSPuf68",
    "outputId": "0e828e9f-ac70-4a7b-9d60-034471d94595"
   },
   "outputs": [
    {
     "data": {
      "text/plain": [
       "1725051"
      ]
     },
     "execution_count": 73,
     "metadata": {
      "tags": []
     },
     "output_type": "execute_result"
    }
   ],
   "source": [
    "complaint = len(pd.unique(df4['CMPLNT_NUM']))\n",
    "complaint"
   ]
  },
  {
   "cell_type": "code",
   "execution_count": null,
   "metadata": {
    "id": "pF8g04wyuf69",
    "outputId": "ab216250-e5c7-4cf1-bce6-9684dfcd193f"
   },
   "outputs": [
    {
     "data": {
      "text/plain": [
       "(1725051, 21)"
      ]
     },
     "execution_count": 72,
     "metadata": {
      "tags": []
     },
     "output_type": "execute_result"
    }
   ],
   "source": [
    "df5 = df4.copy()\n",
    "df5 = df5.drop_duplicates('CMPLNT_NUM')\n",
    "df5.shape"
   ]
  },
  {
   "cell_type": "code",
   "execution_count": null,
   "metadata": {
    "id": "CUkUYYj-uf6_",
    "outputId": "c52ac428-4ef8-4d75-a312-51debbd83e48"
   },
   "outputs": [
    {
     "data": {
      "text/plain": [
       "CMPLNT_NUM          0.0\n",
       "CMPLNT_FR_DT        0.0\n",
       "CMPLNT_FR_TM        0.0\n",
       "OFNS_DESC           0.0\n",
       "CRM_ATPT_CPTD_CD    0.0\n",
       "LAW_CAT_CD          0.0\n",
       "BORO_NM             0.0\n",
       "PREM_TYP_DESC       0.0\n",
       "JURIS_DESC          0.0\n",
       "X_COORD_CD          0.0\n",
       "Y_COORD_CD          0.0\n",
       "SUSP_AGE_GROUP      0.0\n",
       "SUSP_RACE           0.0\n",
       "SUSP_SEX            0.0\n",
       "Latitude            0.0\n",
       "Longitude           0.0\n",
       "Lat_Lon             0.0\n",
       "VIC_AGE_GROUP       0.0\n",
       "VIC_RACE            0.0\n",
       "VIC_SEX             0.0\n",
       "YEAR                0.0\n",
       "dtype: float64"
      ]
     },
     "execution_count": 74,
     "metadata": {
      "tags": []
     },
     "output_type": "execute_result"
    }
   ],
   "source": [
    "percent_missing = df5.isnull().sum() * 100 / len(df5)\n",
    "percent_missing"
   ]
  },
  {
   "cell_type": "code",
   "execution_count": null,
   "metadata": {
    "id": "wJj6enxUuf7A",
    "outputId": "a2f3a963-2b42-4c59-ba77-02d0bd05fc09"
   },
   "outputs": [
    {
     "data": {
      "text/plain": [
       "array(['CMPLNT_NUM', 'CMPLNT_FR_DT', 'CMPLNT_FR_TM', 'OFNS_DESC',\n",
       "       'CRM_ATPT_CPTD_CD', 'LAW_CAT_CD', 'BORO_NM', 'PREM_TYP_DESC',\n",
       "       'JURIS_DESC', 'X_COORD_CD', 'Y_COORD_CD', 'SUSP_AGE_GROUP',\n",
       "       'SUSP_RACE', 'SUSP_SEX', 'Latitude', 'Longitude', 'Lat_Lon',\n",
       "       'VIC_AGE_GROUP', 'VIC_RACE', 'VIC_SEX', 'YEAR'], dtype=object)"
      ]
     },
     "execution_count": 75,
     "metadata": {
      "tags": []
     },
     "output_type": "execute_result"
    }
   ],
   "source": [
    "df5.columns.values"
   ]
  },
  {
   "cell_type": "code",
   "execution_count": null,
   "metadata": {
    "id": "t88DZXMyuf7C",
    "outputId": "5c96141f-f87b-49d2-daa8-3aed05183dda",
    "scrolled": true
   },
   "outputs": [
    {
     "data": {
      "text/html": [
       "<div>\n",
       "<style scoped>\n",
       "    .dataframe tbody tr th:only-of-type {\n",
       "        vertical-align: middle;\n",
       "    }\n",
       "\n",
       "    .dataframe tbody tr th {\n",
       "        vertical-align: top;\n",
       "    }\n",
       "\n",
       "    .dataframe thead th {\n",
       "        text-align: right;\n",
       "    }\n",
       "</style>\n",
       "<table border=\"1\" class=\"dataframe\">\n",
       "  <thead>\n",
       "    <tr style=\"text-align: right;\">\n",
       "      <th></th>\n",
       "      <th>CMPLNT_NUM</th>\n",
       "      <th>CMPLNT_FR_DT</th>\n",
       "      <th>CMPLNT_FR_TM</th>\n",
       "      <th>OFNS_DESC</th>\n",
       "      <th>CRM_ATPT_CPTD_CD</th>\n",
       "      <th>LAW_CAT_CD</th>\n",
       "      <th>BORO_NM</th>\n",
       "      <th>PREM_TYP_DESC</th>\n",
       "      <th>JURIS_DESC</th>\n",
       "      <th>X_COORD_CD</th>\n",
       "      <th>...</th>\n",
       "      <th>SUSP_AGE_GROUP</th>\n",
       "      <th>SUSP_RACE</th>\n",
       "      <th>SUSP_SEX</th>\n",
       "      <th>Latitude</th>\n",
       "      <th>Longitude</th>\n",
       "      <th>Lat_Lon</th>\n",
       "      <th>VIC_AGE_GROUP</th>\n",
       "      <th>VIC_RACE</th>\n",
       "      <th>VIC_SEX</th>\n",
       "      <th>YEAR</th>\n",
       "    </tr>\n",
       "  </thead>\n",
       "  <tbody>\n",
       "    <tr>\n",
       "      <td>0</td>\n",
       "      <td>700381962</td>\n",
       "      <td>2015-05-28</td>\n",
       "      <td>15:00:00</td>\n",
       "      <td>HARRASSMENT 2</td>\n",
       "      <td>COMPLETED</td>\n",
       "      <td>VIOLATION</td>\n",
       "      <td>BRONX</td>\n",
       "      <td>RESIDENCE - APT. HOUSE</td>\n",
       "      <td>N.Y. POLICE DEPT</td>\n",
       "      <td>1007522.0</td>\n",
       "      <td>...</td>\n",
       "      <td>25-44</td>\n",
       "      <td>BLACK</td>\n",
       "      <td>M</td>\n",
       "      <td>40.845868</td>\n",
       "      <td>-73.915888</td>\n",
       "      <td>(40.84586773, -73.915888033)</td>\n",
       "      <td>25-44</td>\n",
       "      <td>WHITE HISPANIC</td>\n",
       "      <td>F</td>\n",
       "      <td>2015</td>\n",
       "    </tr>\n",
       "    <tr>\n",
       "      <td>1</td>\n",
       "      <td>593660503</td>\n",
       "      <td>2012-02-20</td>\n",
       "      <td>01:30:00</td>\n",
       "      <td>ASSAULT 3 &amp; RELATED OFFENSES</td>\n",
       "      <td>COMPLETED</td>\n",
       "      <td>MISDEMEANOR</td>\n",
       "      <td>MANHATTAN</td>\n",
       "      <td>RESIDENCE - APT. HOUSE</td>\n",
       "      <td>N.Y. POLICE DEPT</td>\n",
       "      <td>1000693.0</td>\n",
       "      <td>...</td>\n",
       "      <td>25-44</td>\n",
       "      <td>BLACK</td>\n",
       "      <td>M</td>\n",
       "      <td>40.811522</td>\n",
       "      <td>-73.940601</td>\n",
       "      <td>(40.811522012, -73.940601181)</td>\n",
       "      <td>25-44</td>\n",
       "      <td>BLACK</td>\n",
       "      <td>F</td>\n",
       "      <td>2012</td>\n",
       "    </tr>\n",
       "    <tr>\n",
       "      <td>2</td>\n",
       "      <td>889259677</td>\n",
       "      <td>2012-09-28</td>\n",
       "      <td>09:30:00</td>\n",
       "      <td>HARRASSMENT 2</td>\n",
       "      <td>COMPLETED</td>\n",
       "      <td>VIOLATION</td>\n",
       "      <td>BRONX</td>\n",
       "      <td>RESIDENCE-HOUSE</td>\n",
       "      <td>N.Y. POLICE DEPT</td>\n",
       "      <td>1026591.0</td>\n",
       "      <td>...</td>\n",
       "      <td>25-44</td>\n",
       "      <td>BLACK HISPANIC</td>\n",
       "      <td>M</td>\n",
       "      <td>40.878003</td>\n",
       "      <td>-73.846892</td>\n",
       "      <td>(40.878003133, -73.846891755)</td>\n",
       "      <td>18-24</td>\n",
       "      <td>BLACK HISPANIC</td>\n",
       "      <td>F</td>\n",
       "      <td>2012</td>\n",
       "    </tr>\n",
       "    <tr>\n",
       "      <td>3</td>\n",
       "      <td>602484492</td>\n",
       "      <td>2017-03-26</td>\n",
       "      <td>12:00:00</td>\n",
       "      <td>PETIT LARCENY</td>\n",
       "      <td>COMPLETED</td>\n",
       "      <td>MISDEMEANOR</td>\n",
       "      <td>BROOKLYN</td>\n",
       "      <td>CHAIN STORE</td>\n",
       "      <td>N.Y. POLICE DEPT</td>\n",
       "      <td>999240.0</td>\n",
       "      <td>...</td>\n",
       "      <td>25-44</td>\n",
       "      <td>WHITE</td>\n",
       "      <td>F</td>\n",
       "      <td>40.631257</td>\n",
       "      <td>-73.945996</td>\n",
       "      <td>(40.63125716, -73.945996398)</td>\n",
       "      <td>UNKNOWN</td>\n",
       "      <td>UNKNOWN</td>\n",
       "      <td>D</td>\n",
       "      <td>2017</td>\n",
       "    </tr>\n",
       "    <tr>\n",
       "      <td>4</td>\n",
       "      <td>331617213</td>\n",
       "      <td>2016-10-13</td>\n",
       "      <td>16:55:00</td>\n",
       "      <td>DANGEROUS DRUGS</td>\n",
       "      <td>COMPLETED</td>\n",
       "      <td>FELONY</td>\n",
       "      <td>MANHATTAN</td>\n",
       "      <td>RESIDENCE - PUBLIC HOUSING</td>\n",
       "      <td>N.Y. HOUSING POLICE</td>\n",
       "      <td>998007.0</td>\n",
       "      <td>...</td>\n",
       "      <td>45-64</td>\n",
       "      <td>BLACK</td>\n",
       "      <td>M</td>\n",
       "      <td>40.798964</td>\n",
       "      <td>-73.950314</td>\n",
       "      <td>(40.798963998, -73.95031372)</td>\n",
       "      <td>UNKNOWN</td>\n",
       "      <td>UNKNOWN</td>\n",
       "      <td>E</td>\n",
       "      <td>2016</td>\n",
       "    </tr>\n",
       "    <tr>\n",
       "      <td>...</td>\n",
       "      <td>...</td>\n",
       "      <td>...</td>\n",
       "      <td>...</td>\n",
       "      <td>...</td>\n",
       "      <td>...</td>\n",
       "      <td>...</td>\n",
       "      <td>...</td>\n",
       "      <td>...</td>\n",
       "      <td>...</td>\n",
       "      <td>...</td>\n",
       "      <td>...</td>\n",
       "      <td>...</td>\n",
       "      <td>...</td>\n",
       "      <td>...</td>\n",
       "      <td>...</td>\n",
       "      <td>...</td>\n",
       "      <td>...</td>\n",
       "      <td>...</td>\n",
       "      <td>...</td>\n",
       "      <td>...</td>\n",
       "      <td>...</td>\n",
       "    </tr>\n",
       "    <tr>\n",
       "      <td>1725046</td>\n",
       "      <td>807437843</td>\n",
       "      <td>2019-12-22</td>\n",
       "      <td>17:42:00</td>\n",
       "      <td>THEFT OF SERVICES</td>\n",
       "      <td>COMPLETED</td>\n",
       "      <td>MISDEMEANOR</td>\n",
       "      <td>MANHATTAN</td>\n",
       "      <td>TRANSIT - NYC SUBWAY</td>\n",
       "      <td>N.Y. TRANSIT POLICE</td>\n",
       "      <td>980295.0</td>\n",
       "      <td>...</td>\n",
       "      <td>25-44</td>\n",
       "      <td>BLACK</td>\n",
       "      <td>M</td>\n",
       "      <td>40.704456</td>\n",
       "      <td>-74.014266</td>\n",
       "      <td>(40.70445570500005, -74.01426591999996)</td>\n",
       "      <td>UNKNOWN</td>\n",
       "      <td>UNKNOWN</td>\n",
       "      <td>E</td>\n",
       "      <td>2019</td>\n",
       "    </tr>\n",
       "    <tr>\n",
       "      <td>1725047</td>\n",
       "      <td>583274933</td>\n",
       "      <td>2019-12-01</td>\n",
       "      <td>00:01:00</td>\n",
       "      <td>HARRASSMENT 2</td>\n",
       "      <td>COMPLETED</td>\n",
       "      <td>VIOLATION</td>\n",
       "      <td>MANHATTAN</td>\n",
       "      <td>RESIDENCE - APT. HOUSE</td>\n",
       "      <td>N.Y. POLICE DEPT</td>\n",
       "      <td>984686.0</td>\n",
       "      <td>...</td>\n",
       "      <td>25-44</td>\n",
       "      <td>BLACK</td>\n",
       "      <td>F</td>\n",
       "      <td>40.742834</td>\n",
       "      <td>-73.998428</td>\n",
       "      <td>(40.74283378800004, -73.99842802399996)</td>\n",
       "      <td>45-64</td>\n",
       "      <td>BLACK</td>\n",
       "      <td>M</td>\n",
       "      <td>2019</td>\n",
       "    </tr>\n",
       "    <tr>\n",
       "      <td>1725048</td>\n",
       "      <td>421479092</td>\n",
       "      <td>2019-12-27</td>\n",
       "      <td>07:56:00</td>\n",
       "      <td>CRIMINAL MISCHIEF &amp; RELATED OF</td>\n",
       "      <td>COMPLETED</td>\n",
       "      <td>FELONY</td>\n",
       "      <td>MANHATTAN</td>\n",
       "      <td>TRANSIT - NYC SUBWAY</td>\n",
       "      <td>N.Y. TRANSIT POLICE</td>\n",
       "      <td>981615.0</td>\n",
       "      <td>...</td>\n",
       "      <td>25-44</td>\n",
       "      <td>WHITE</td>\n",
       "      <td>M</td>\n",
       "      <td>40.706389</td>\n",
       "      <td>-74.009505</td>\n",
       "      <td>(40.706388512000046, -74.00950535999993)</td>\n",
       "      <td>UNKNOWN</td>\n",
       "      <td>UNKNOWN</td>\n",
       "      <td>E</td>\n",
       "      <td>2019</td>\n",
       "    </tr>\n",
       "    <tr>\n",
       "      <td>1725049</td>\n",
       "      <td>331017091</td>\n",
       "      <td>2019-12-31</td>\n",
       "      <td>22:00:00</td>\n",
       "      <td>HARRASSMENT 2</td>\n",
       "      <td>COMPLETED</td>\n",
       "      <td>VIOLATION</td>\n",
       "      <td>STATEN ISLAND</td>\n",
       "      <td>RESIDENCE-HOUSE</td>\n",
       "      <td>N.Y. POLICE DEPT</td>\n",
       "      <td>936722.0</td>\n",
       "      <td>...</td>\n",
       "      <td>&lt;18</td>\n",
       "      <td>BLACK</td>\n",
       "      <td>F</td>\n",
       "      <td>40.638984</td>\n",
       "      <td>-74.171252</td>\n",
       "      <td>(40.63898417600007, -74.17125230499995)</td>\n",
       "      <td>&lt;18</td>\n",
       "      <td>BLACK</td>\n",
       "      <td>F</td>\n",
       "      <td>2019</td>\n",
       "    </tr>\n",
       "    <tr>\n",
       "      <td>1725050</td>\n",
       "      <td>800011842</td>\n",
       "      <td>2019-12-29</td>\n",
       "      <td>23:05:00</td>\n",
       "      <td>HARRASSMENT 2</td>\n",
       "      <td>COMPLETED</td>\n",
       "      <td>VIOLATION</td>\n",
       "      <td>STATEN ISLAND</td>\n",
       "      <td>RESIDENCE - PUBLIC HOUSING</td>\n",
       "      <td>N.Y. HOUSING POLICE</td>\n",
       "      <td>962020.0</td>\n",
       "      <td>...</td>\n",
       "      <td>45-64</td>\n",
       "      <td>WHITE</td>\n",
       "      <td>F</td>\n",
       "      <td>40.621416</td>\n",
       "      <td>-74.080079</td>\n",
       "      <td>(40.62141559900005, -74.08007850499997)</td>\n",
       "      <td>25-44</td>\n",
       "      <td>BLACK</td>\n",
       "      <td>F</td>\n",
       "      <td>2019</td>\n",
       "    </tr>\n",
       "  </tbody>\n",
       "</table>\n",
       "<p>1725051 rows × 21 columns</p>\n",
       "</div>"
      ],
      "text/plain": [
       "         CMPLNT_NUM CMPLNT_FR_DT CMPLNT_FR_TM                       OFNS_DESC  \\\n",
       "0         700381962   2015-05-28     15:00:00                   HARRASSMENT 2   \n",
       "1         593660503   2012-02-20     01:30:00    ASSAULT 3 & RELATED OFFENSES   \n",
       "2         889259677   2012-09-28     09:30:00                   HARRASSMENT 2   \n",
       "3         602484492   2017-03-26     12:00:00                   PETIT LARCENY   \n",
       "4         331617213   2016-10-13     16:55:00                 DANGEROUS DRUGS   \n",
       "...             ...          ...          ...                             ...   \n",
       "1725046   807437843   2019-12-22     17:42:00               THEFT OF SERVICES   \n",
       "1725047   583274933   2019-12-01     00:01:00                   HARRASSMENT 2   \n",
       "1725048   421479092   2019-12-27     07:56:00  CRIMINAL MISCHIEF & RELATED OF   \n",
       "1725049   331017091   2019-12-31     22:00:00                   HARRASSMENT 2   \n",
       "1725050   800011842   2019-12-29     23:05:00                   HARRASSMENT 2   \n",
       "\n",
       "        CRM_ATPT_CPTD_CD   LAW_CAT_CD        BORO_NM  \\\n",
       "0              COMPLETED    VIOLATION          BRONX   \n",
       "1              COMPLETED  MISDEMEANOR      MANHATTAN   \n",
       "2              COMPLETED    VIOLATION          BRONX   \n",
       "3              COMPLETED  MISDEMEANOR       BROOKLYN   \n",
       "4              COMPLETED       FELONY      MANHATTAN   \n",
       "...                  ...          ...            ...   \n",
       "1725046        COMPLETED  MISDEMEANOR      MANHATTAN   \n",
       "1725047        COMPLETED    VIOLATION      MANHATTAN   \n",
       "1725048        COMPLETED       FELONY      MANHATTAN   \n",
       "1725049        COMPLETED    VIOLATION  STATEN ISLAND   \n",
       "1725050        COMPLETED    VIOLATION  STATEN ISLAND   \n",
       "\n",
       "                      PREM_TYP_DESC           JURIS_DESC  X_COORD_CD  ...  \\\n",
       "0            RESIDENCE - APT. HOUSE     N.Y. POLICE DEPT   1007522.0  ...   \n",
       "1            RESIDENCE - APT. HOUSE     N.Y. POLICE DEPT   1000693.0  ...   \n",
       "2                   RESIDENCE-HOUSE     N.Y. POLICE DEPT   1026591.0  ...   \n",
       "3                       CHAIN STORE     N.Y. POLICE DEPT    999240.0  ...   \n",
       "4        RESIDENCE - PUBLIC HOUSING  N.Y. HOUSING POLICE    998007.0  ...   \n",
       "...                             ...                  ...         ...  ...   \n",
       "1725046        TRANSIT - NYC SUBWAY  N.Y. TRANSIT POLICE    980295.0  ...   \n",
       "1725047      RESIDENCE - APT. HOUSE     N.Y. POLICE DEPT    984686.0  ...   \n",
       "1725048        TRANSIT - NYC SUBWAY  N.Y. TRANSIT POLICE    981615.0  ...   \n",
       "1725049             RESIDENCE-HOUSE     N.Y. POLICE DEPT    936722.0  ...   \n",
       "1725050  RESIDENCE - PUBLIC HOUSING  N.Y. HOUSING POLICE    962020.0  ...   \n",
       "\n",
       "         SUSP_AGE_GROUP       SUSP_RACE SUSP_SEX   Latitude  Longitude  \\\n",
       "0                 25-44           BLACK        M  40.845868 -73.915888   \n",
       "1                 25-44           BLACK        M  40.811522 -73.940601   \n",
       "2                 25-44  BLACK HISPANIC        M  40.878003 -73.846892   \n",
       "3                 25-44           WHITE        F  40.631257 -73.945996   \n",
       "4                 45-64           BLACK        M  40.798964 -73.950314   \n",
       "...                 ...             ...      ...        ...        ...   \n",
       "1725046           25-44           BLACK        M  40.704456 -74.014266   \n",
       "1725047           25-44           BLACK        F  40.742834 -73.998428   \n",
       "1725048           25-44           WHITE        M  40.706389 -74.009505   \n",
       "1725049             <18           BLACK        F  40.638984 -74.171252   \n",
       "1725050           45-64           WHITE        F  40.621416 -74.080079   \n",
       "\n",
       "                                          Lat_Lon VIC_AGE_GROUP  \\\n",
       "0                    (40.84586773, -73.915888033)         25-44   \n",
       "1                   (40.811522012, -73.940601181)         25-44   \n",
       "2                   (40.878003133, -73.846891755)         18-24   \n",
       "3                    (40.63125716, -73.945996398)       UNKNOWN   \n",
       "4                    (40.798963998, -73.95031372)       UNKNOWN   \n",
       "...                                           ...           ...   \n",
       "1725046   (40.70445570500005, -74.01426591999996)       UNKNOWN   \n",
       "1725047   (40.74283378800004, -73.99842802399996)         45-64   \n",
       "1725048  (40.706388512000046, -74.00950535999993)       UNKNOWN   \n",
       "1725049   (40.63898417600007, -74.17125230499995)           <18   \n",
       "1725050   (40.62141559900005, -74.08007850499997)         25-44   \n",
       "\n",
       "               VIC_RACE VIC_SEX  YEAR  \n",
       "0        WHITE HISPANIC       F  2015  \n",
       "1                 BLACK       F  2012  \n",
       "2        BLACK HISPANIC       F  2012  \n",
       "3               UNKNOWN       D  2017  \n",
       "4               UNKNOWN       E  2016  \n",
       "...                 ...     ...   ...  \n",
       "1725046         UNKNOWN       E  2019  \n",
       "1725047           BLACK       M  2019  \n",
       "1725048         UNKNOWN       E  2019  \n",
       "1725049           BLACK       F  2019  \n",
       "1725050           BLACK       F  2019  \n",
       "\n",
       "[1725051 rows x 21 columns]"
      ]
     },
     "execution_count": 76,
     "metadata": {
      "tags": []
     },
     "output_type": "execute_result"
    }
   ],
   "source": [
    "df5 = df5.reset_index(drop = True)\n",
    "df5"
   ]
  },
  {
   "cell_type": "code",
   "execution_count": null,
   "metadata": {
    "id": "CP7uLk2xuf7D"
   },
   "outputs": [],
   "source": [
    "df5.to_csv(r\"C:\\Users\\praks\\PycharmProjects\\CSCI620\\BigData Project\\NYC_CleanedData.csv\", index = False)"
   ]
  },
  {
   "cell_type": "code",
   "execution_count": null,
   "metadata": {
    "id": "Tytwqxfguf7E"
   },
   "outputs": [],
   "source": []
  }
 ],
 "metadata": {
  "colab": {
   "collapsed_sections": [],
   "name": "Data Cleaning.ipynb",
   "provenance": []
  },
  "kernelspec": {
   "display_name": "Python 3 (ipykernel)",
   "language": "python",
   "name": "python3"
  },
  "language_info": {
   "codemirror_mode": {
    "name": "ipython",
    "version": 3
   },
   "file_extension": ".py",
   "mimetype": "text/x-python",
   "name": "python",
   "nbconvert_exporter": "python",
   "pygments_lexer": "ipython3",
   "version": "3.7.13"
  }
 },
 "nbformat": 4,
 "nbformat_minor": 1
}
