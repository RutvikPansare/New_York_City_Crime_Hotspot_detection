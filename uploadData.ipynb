{
 "cells": [
  {
   "cell_type": "markdown",
   "metadata": {
    "id": "a22168b6"
   },
   "source": [
    "# Authors: \n",
    "         Rutvik Pansare       \n",
    "         Praksha maheshwari\n",
    "         Vishal Phaugat"
   ]
  },
  {
   "cell_type": "code",
   "execution_count": null,
   "metadata": {
    "id": "JJkkFpgFuycy",
    "outputId": "fbc667af-73c5-4308-eab9-e736ffecac90"
   },
   "outputs": [
    {
     "data": {
      "text/html": [
       "<div>\n",
       "<style scoped>\n",
       "    .dataframe tbody tr th:only-of-type {\n",
       "        vertical-align: middle;\n",
       "    }\n",
       "\n",
       "    .dataframe tbody tr th {\n",
       "        vertical-align: top;\n",
       "    }\n",
       "\n",
       "    .dataframe thead th {\n",
       "        text-align: right;\n",
       "    }\n",
       "</style>\n",
       "<table border=\"1\" class=\"dataframe\">\n",
       "  <thead>\n",
       "    <tr style=\"text-align: right;\">\n",
       "      <th></th>\n",
       "      <th>CMPLNT_NUM</th>\n",
       "      <th>CMPLNT_FR_DT</th>\n",
       "      <th>CMPLNT_FR_TM</th>\n",
       "      <th>OFNS_DESC</th>\n",
       "      <th>CRM_ATPT_CPTD_CD</th>\n",
       "      <th>LAW_CAT_CD</th>\n",
       "      <th>BORO_NM</th>\n",
       "      <th>PREM_TYP_DESC</th>\n",
       "      <th>JURIS_DESC</th>\n",
       "      <th>X_COORD_CD</th>\n",
       "      <th>...</th>\n",
       "      <th>SUSP_AGE_GROUP</th>\n",
       "      <th>SUSP_RACE</th>\n",
       "      <th>SUSP_SEX</th>\n",
       "      <th>Latitude</th>\n",
       "      <th>Longitude</th>\n",
       "      <th>Lat_Lon</th>\n",
       "      <th>VIC_AGE_GROUP</th>\n",
       "      <th>VIC_RACE</th>\n",
       "      <th>VIC_SEX</th>\n",
       "      <th>YEAR</th>\n",
       "    </tr>\n",
       "  </thead>\n",
       "  <tbody>\n",
       "    <tr>\n",
       "      <td>0</td>\n",
       "      <td>700381962</td>\n",
       "      <td>2015-05-28</td>\n",
       "      <td>15:00:00</td>\n",
       "      <td>HARRASSMENT 2</td>\n",
       "      <td>COMPLETED</td>\n",
       "      <td>VIOLATION</td>\n",
       "      <td>BRONX</td>\n",
       "      <td>RESIDENCE - APT. HOUSE</td>\n",
       "      <td>N.Y. POLICE DEPT</td>\n",
       "      <td>1007522.0</td>\n",
       "      <td>...</td>\n",
       "      <td>25-44</td>\n",
       "      <td>BLACK</td>\n",
       "      <td>M</td>\n",
       "      <td>40.845868</td>\n",
       "      <td>-73.915888</td>\n",
       "      <td>(40.84586773, -73.915888033)</td>\n",
       "      <td>25-44</td>\n",
       "      <td>WHITE HISPANIC</td>\n",
       "      <td>F</td>\n",
       "      <td>2015</td>\n",
       "    </tr>\n",
       "    <tr>\n",
       "      <td>1</td>\n",
       "      <td>593660503</td>\n",
       "      <td>2012-02-20</td>\n",
       "      <td>01:30:00</td>\n",
       "      <td>ASSAULT 3 &amp; RELATED OFFENSES</td>\n",
       "      <td>COMPLETED</td>\n",
       "      <td>MISDEMEANOR</td>\n",
       "      <td>MANHATTAN</td>\n",
       "      <td>RESIDENCE - APT. HOUSE</td>\n",
       "      <td>N.Y. POLICE DEPT</td>\n",
       "      <td>1000693.0</td>\n",
       "      <td>...</td>\n",
       "      <td>25-44</td>\n",
       "      <td>BLACK</td>\n",
       "      <td>M</td>\n",
       "      <td>40.811522</td>\n",
       "      <td>-73.940601</td>\n",
       "      <td>(40.811522012, -73.940601181)</td>\n",
       "      <td>25-44</td>\n",
       "      <td>BLACK</td>\n",
       "      <td>F</td>\n",
       "      <td>2012</td>\n",
       "    </tr>\n",
       "    <tr>\n",
       "      <td>2</td>\n",
       "      <td>889259677</td>\n",
       "      <td>2012-09-28</td>\n",
       "      <td>09:30:00</td>\n",
       "      <td>HARRASSMENT 2</td>\n",
       "      <td>COMPLETED</td>\n",
       "      <td>VIOLATION</td>\n",
       "      <td>BRONX</td>\n",
       "      <td>RESIDENCE-HOUSE</td>\n",
       "      <td>N.Y. POLICE DEPT</td>\n",
       "      <td>1026591.0</td>\n",
       "      <td>...</td>\n",
       "      <td>25-44</td>\n",
       "      <td>BLACK HISPANIC</td>\n",
       "      <td>M</td>\n",
       "      <td>40.878003</td>\n",
       "      <td>-73.846892</td>\n",
       "      <td>(40.878003133, -73.846891755)</td>\n",
       "      <td>18-24</td>\n",
       "      <td>BLACK HISPANIC</td>\n",
       "      <td>F</td>\n",
       "      <td>2012</td>\n",
       "    </tr>\n",
       "    <tr>\n",
       "      <td>3</td>\n",
       "      <td>602484492</td>\n",
       "      <td>2017-03-26</td>\n",
       "      <td>12:00:00</td>\n",
       "      <td>PETIT LARCENY</td>\n",
       "      <td>COMPLETED</td>\n",
       "      <td>MISDEMEANOR</td>\n",
       "      <td>BROOKLYN</td>\n",
       "      <td>CHAIN STORE</td>\n",
       "      <td>N.Y. POLICE DEPT</td>\n",
       "      <td>999240.0</td>\n",
       "      <td>...</td>\n",
       "      <td>25-44</td>\n",
       "      <td>WHITE</td>\n",
       "      <td>F</td>\n",
       "      <td>40.631257</td>\n",
       "      <td>-73.945996</td>\n",
       "      <td>(40.63125716, -73.945996398)</td>\n",
       "      <td>UNKNOWN</td>\n",
       "      <td>UNKNOWN</td>\n",
       "      <td>D</td>\n",
       "      <td>2017</td>\n",
       "    </tr>\n",
       "    <tr>\n",
       "      <td>4</td>\n",
       "      <td>331617213</td>\n",
       "      <td>2016-10-13</td>\n",
       "      <td>16:55:00</td>\n",
       "      <td>DANGEROUS DRUGS</td>\n",
       "      <td>COMPLETED</td>\n",
       "      <td>FELONY</td>\n",
       "      <td>MANHATTAN</td>\n",
       "      <td>RESIDENCE - PUBLIC HOUSING</td>\n",
       "      <td>N.Y. HOUSING POLICE</td>\n",
       "      <td>998007.0</td>\n",
       "      <td>...</td>\n",
       "      <td>45-64</td>\n",
       "      <td>BLACK</td>\n",
       "      <td>M</td>\n",
       "      <td>40.798964</td>\n",
       "      <td>-73.950314</td>\n",
       "      <td>(40.798963998, -73.95031372)</td>\n",
       "      <td>UNKNOWN</td>\n",
       "      <td>UNKNOWN</td>\n",
       "      <td>E</td>\n",
       "      <td>2016</td>\n",
       "    </tr>\n",
       "  </tbody>\n",
       "</table>\n",
       "<p>5 rows × 21 columns</p>\n",
       "</div>"
      ],
      "text/plain": [
       "   CMPLNT_NUM CMPLNT_FR_DT CMPLNT_FR_TM                     OFNS_DESC  \\\n",
       "0   700381962   2015-05-28     15:00:00                 HARRASSMENT 2   \n",
       "1   593660503   2012-02-20     01:30:00  ASSAULT 3 & RELATED OFFENSES   \n",
       "2   889259677   2012-09-28     09:30:00                 HARRASSMENT 2   \n",
       "3   602484492   2017-03-26     12:00:00                 PETIT LARCENY   \n",
       "4   331617213   2016-10-13     16:55:00               DANGEROUS DRUGS   \n",
       "\n",
       "  CRM_ATPT_CPTD_CD   LAW_CAT_CD    BORO_NM               PREM_TYP_DESC  \\\n",
       "0        COMPLETED    VIOLATION      BRONX      RESIDENCE - APT. HOUSE   \n",
       "1        COMPLETED  MISDEMEANOR  MANHATTAN      RESIDENCE - APT. HOUSE   \n",
       "2        COMPLETED    VIOLATION      BRONX             RESIDENCE-HOUSE   \n",
       "3        COMPLETED  MISDEMEANOR   BROOKLYN                 CHAIN STORE   \n",
       "4        COMPLETED       FELONY  MANHATTAN  RESIDENCE - PUBLIC HOUSING   \n",
       "\n",
       "            JURIS_DESC  X_COORD_CD  ...  SUSP_AGE_GROUP       SUSP_RACE  \\\n",
       "0     N.Y. POLICE DEPT   1007522.0  ...           25-44           BLACK   \n",
       "1     N.Y. POLICE DEPT   1000693.0  ...           25-44           BLACK   \n",
       "2     N.Y. POLICE DEPT   1026591.0  ...           25-44  BLACK HISPANIC   \n",
       "3     N.Y. POLICE DEPT    999240.0  ...           25-44           WHITE   \n",
       "4  N.Y. HOUSING POLICE    998007.0  ...           45-64           BLACK   \n",
       "\n",
       "  SUSP_SEX   Latitude  Longitude                        Lat_Lon VIC_AGE_GROUP  \\\n",
       "0        M  40.845868 -73.915888   (40.84586773, -73.915888033)         25-44   \n",
       "1        M  40.811522 -73.940601  (40.811522012, -73.940601181)         25-44   \n",
       "2        M  40.878003 -73.846892  (40.878003133, -73.846891755)         18-24   \n",
       "3        F  40.631257 -73.945996   (40.63125716, -73.945996398)       UNKNOWN   \n",
       "4        M  40.798964 -73.950314   (40.798963998, -73.95031372)       UNKNOWN   \n",
       "\n",
       "         VIC_RACE VIC_SEX  YEAR  \n",
       "0  WHITE HISPANIC       F  2015  \n",
       "1           BLACK       F  2012  \n",
       "2  BLACK HISPANIC       F  2012  \n",
       "3         UNKNOWN       D  2017  \n",
       "4         UNKNOWN       E  2016  \n",
       "\n",
       "[5 rows x 21 columns]"
      ]
     },
     "execution_count": 48,
     "metadata": {
      "tags": []
     },
     "output_type": "execute_result"
    }
   ],
   "source": [
    "import pandas as pd\n",
    "crimedata = pd.read_csv('NYC_CleanedData.csv', index_col=False, delimiter = ',')\n",
    "crimedata.head()"
   ]
  },
  {
   "cell_type": "code",
   "execution_count": null,
   "metadata": {
    "id": "f_Jn_T_6uyc3",
    "outputId": "c0f71051-de20-49a4-b2d5-03b29105622c"
   },
   "outputs": [
    {
     "name": "stdout",
     "output_type": "stream",
     "text": [
      "Requirement already satisfied: mysql-connector-python in c:\\programdata\\anaconda3\\lib\\site-packages (8.0.25)\n",
      "Requirement already satisfied: protobuf>=3.0.0 in c:\\programdata\\anaconda3\\lib\\site-packages (from mysql-connector-python) (3.17.3)\n",
      "Requirement already satisfied: six>=1.9 in c:\\programdata\\anaconda3\\lib\\site-packages (from protobuf>=3.0.0->mysql-connector-python) (1.12.0)\n",
      "Note: you may need to restart the kernel to use updated packages.\n"
     ]
    }
   ],
   "source": [
    "pip install mysql-connector-python"
   ]
  },
  {
   "cell_type": "code",
   "execution_count": null,
   "metadata": {
    "id": "J0bWl0Dcuyc7",
    "outputId": "55da0aa1-45df-46f8-af0b-d768294066e7"
   },
   "outputs": [
    {
     "name": "stdout",
     "output_type": "stream",
     "text": [
      "Error while connecting to MySQL 1007 (HY000): Can't create database 'nypdcrimedb'; database exists\n"
     ]
    }
   ],
   "source": [
    "import mysql.connector as msql\n",
    "from mysql.connector import Error\n",
    "try:\n",
    "    conn = msql.connect(host='localhost', user='root',  \n",
    "                        password='password')#give ur username, password\n",
    "    if conn.is_connected():\n",
    "        cursor = conn.cursor()\n",
    "        cursor.execute(\"CREATE DATABASE NYPDCrimeDB\")\n",
    "        print(\"Database is created\")\n",
    "except Error as e:\n",
    "    print(\"Error while connecting to MySQL\", e)"
   ]
  },
  {
   "cell_type": "code",
   "execution_count": null,
   "metadata": {
    "id": "t9nmtwBRuyc_",
    "outputId": "33f51fb0-f34a-4018-aa87-da87ffbfec8d"
   },
   "outputs": [
    {
     "name": "stdout",
     "output_type": "stream",
     "text": [
      "You're connected to database:  ('nypdcrimedb',)\n",
      "Creating table....\n",
      "Table is created....\n"
     ]
    }
   ],
   "source": [
    "import mysql.connector as mysql\n",
    "from mysql.connector import Error\n",
    "try:\n",
    "    conn = mysql.connect(host='localhost', database='NYPDCrimeDB', user='root', password='password')\n",
    "    if conn.is_connected():\n",
    "        cursor = conn.cursor()\n",
    "        cursor.execute(\"select database();\")\n",
    "        record = cursor.fetchone()\n",
    "        print(\"You're connected to database: \", record)\n",
    "        cursor.execute('DROP TABLE IF EXISTS crime_data;')\n",
    "        print('Creating table....')\n",
    "        # create table statement to create crime_data table\n",
    "        cursor.execute(\"CREATE TABLE crime_data(CMPLNT_NUM varchar(255) PRIMARY KEY, CMPLNT_FR_DT date , CMPLNT_FR_TM time , OFNS_DESC varchar(255) ,CRM_ATPT_CPTD_CD varchar(255) , LAW_CAT_CD varchar(255) , BORO_NM varchar(255) , PREM_TYP_DESC varchar(255) , JURIS_DESC varchar(255) , X_COORD_CD varchar(255) , Y_COORD_CD varchar(255) , SUSP_AGE_GROUP varchar(255) , SUSP_RACE varchar(255) , SUSP_SEX varchar(255) , Latitude varchar(255) , Longitude varchar(255) , Lat_Lon varchar(255) , VIC_AGE_GROUP varchar(255) , VIC_RACE varchar(255) , VIC_SEX varchar(255) , YEAR date)\")\n",
    "        print(\"Table is created....\")\n",
    "        #loop through the data frame\n",
    "        for i,row in crimedata.iterrows():\n",
    "            #here %S means string values \n",
    "            sql = \"INSERT INTO NYPDCrimeDB.crime_data VALUES (%s,STR_TO_DATE(%s , '%Y-%m-%d'), STR_TO_DATE(%s , '%H:%i:%S'),%s,%s,%s,%s,%s,%s,%s,%s,%s,%s,%s,%s,%s,%s,%s,%s,%s,STR_TO_DATE(%s , '%Y'))\"\n",
    "            cursor.execute(sql, tuple(row))\n",
    "            # the connection is not auto committed by default, so we must commit to save our changes\n",
    "            conn.commit()\n",
    "except Error as e:\n",
    "            print(\"Error while connecting to MySQL\", e)"
   ]
  },
  {
   "cell_type": "code",
   "execution_count": null,
   "metadata": {
    "id": "Gbbh-9JtuydD"
   },
   "outputs": [],
   "source": [
    "#store the dataset where spark is installed. Give the same as the path below.\n",
    "from pyspark import SparkContext\n",
    "rdd = sc.textFile(\"C:\"PATH\"...NYC_CleanedData.csv\")\n",
    "rdd.take(10)"
   ]
  },
  {
   "cell_type": "code",
   "execution_count": null,
   "metadata": {
    "id": "rp7t6k7p6cxW"
   },
   "outputs": [],
   "source": [
    "try:\n",
    "      hive_connect =  pyhs.connect(host='****', # Hive server IP or host\n",
    "      port=****,\n",
    "      authMechanism=\"NOSASL\",\n",
    "      user='****', # Username\n",
    "      password='****' #User password,\n",
    "      database='default')\n",
    "      hive_cur = hive_con.cursor()"
   ]
  }
 ],
 "metadata": {
  "colab": {
   "collapsed_sections": [],
   "name": "uploadData.ipynb",
   "provenance": []
  },
  "kernelspec": {
   "display_name": "Python 3",
   "language": "python",
   "name": "python3"
  },
  "language_info": {
   "codemirror_mode": {
    "name": "ipython",
    "version": 3
   },
   "file_extension": ".py",
   "mimetype": "text/x-python",
   "name": "python",
   "nbconvert_exporter": "python",
   "pygments_lexer": "ipython3",
   "version": "3.8.8"
  }
 },
 "nbformat": 4,
 "nbformat_minor": 1
}
